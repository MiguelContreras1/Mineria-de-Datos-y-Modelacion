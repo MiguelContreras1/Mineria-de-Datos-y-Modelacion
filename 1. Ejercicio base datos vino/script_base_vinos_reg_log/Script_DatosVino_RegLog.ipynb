{
 "cells": [
  {
   "cell_type": "markdown",
   "metadata": {},
   "source": [
    "# Regresión logística Datos Vino"
   ]
  },
  {
   "cell_type": "markdown",
   "metadata": {},
   "source": [
    "## Preliminares"
   ]
  },
  {
   "cell_type": "code",
   "execution_count": 50,
   "metadata": {},
   "outputs": [],
   "source": [
    "exec(open(r'C:\\Users\\Usuario\\Documents\\CIENCIA DE DATOS\\REPOSITORIO GITHUB\\MINERÍA DE DATOS Y MODELACIÓN ejercicios\\1. Ejercicio base datos vino\\NuestrasFunciones.py').read())"
   ]
  },
  {
   "cell_type": "code",
   "execution_count": 2,
   "metadata": {},
   "outputs": [],
   "source": [
    "import pandas as pd\n",
    "import numpy as np"
   ]
  },
  {
   "cell_type": "code",
   "execution_count": 3,
   "metadata": {},
   "outputs": [
    {
     "data": {
      "text/html": [
       "<div>\n",
       "<style scoped>\n",
       "    .dataframe tbody tr th:only-of-type {\n",
       "        vertical-align: middle;\n",
       "    }\n",
       "\n",
       "    .dataframe tbody tr th {\n",
       "        vertical-align: top;\n",
       "    }\n",
       "\n",
       "    .dataframe thead th {\n",
       "        text-align: right;\n",
       "    }\n",
       "</style>\n",
       "<table border=\"1\" class=\"dataframe\">\n",
       "  <thead>\n",
       "    <tr style=\"text-align: right;\">\n",
       "      <th></th>\n",
       "      <th>ID</th>\n",
       "      <th>Acidez</th>\n",
       "      <th>AcidoCitrico</th>\n",
       "      <th>Azucar</th>\n",
       "      <th>CloruroSodico</th>\n",
       "      <th>Densidad</th>\n",
       "      <th>pH</th>\n",
       "      <th>Sulfatos</th>\n",
       "      <th>Alcohol</th>\n",
       "      <th>CalifProductor</th>\n",
       "      <th>PrecioBotella</th>\n",
       "      <th>Etiqueta</th>\n",
       "      <th>Clasificacion</th>\n",
       "      <th>Region</th>\n",
       "      <th>prop_missings</th>\n",
       "      <th>Beneficio</th>\n",
       "      <th>Compra</th>\n",
       "    </tr>\n",
       "  </thead>\n",
       "  <tbody>\n",
       "    <tr>\n",
       "      <th>0</th>\n",
       "      <td>2</td>\n",
       "      <td>0.16</td>\n",
       "      <td>-0.81</td>\n",
       "      <td>26.10</td>\n",
       "      <td>-0.425</td>\n",
       "      <td>1.02792</td>\n",
       "      <td>3.38</td>\n",
       "      <td>0.70</td>\n",
       "      <td>15.9</td>\n",
       "      <td>2</td>\n",
       "      <td>1.00</td>\n",
       "      <td>M</td>\n",
       "      <td>***</td>\n",
       "      <td>1.0</td>\n",
       "      <td>6.666667</td>\n",
       "      <td>515</td>\n",
       "      <td>1</td>\n",
       "    </tr>\n",
       "    <tr>\n",
       "      <th>1</th>\n",
       "      <td>4</td>\n",
       "      <td>2.64</td>\n",
       "      <td>-0.88</td>\n",
       "      <td>14.80</td>\n",
       "      <td>0.037</td>\n",
       "      <td>0.99518</td>\n",
       "      <td>3.12</td>\n",
       "      <td>0.48</td>\n",
       "      <td>22.0</td>\n",
       "      <td>3</td>\n",
       "      <td>3.38</td>\n",
       "      <td>M</td>\n",
       "      <td>***</td>\n",
       "      <td>3.0</td>\n",
       "      <td>0.000000</td>\n",
       "      <td>585</td>\n",
       "      <td>1</td>\n",
       "    </tr>\n",
       "    <tr>\n",
       "      <th>2</th>\n",
       "      <td>8</td>\n",
       "      <td>0.29</td>\n",
       "      <td>-0.40</td>\n",
       "      <td>21.50</td>\n",
       "      <td>0.060</td>\n",
       "      <td>0.99572</td>\n",
       "      <td>3.49</td>\n",
       "      <td>1.21</td>\n",
       "      <td>10.3</td>\n",
       "      <td>3</td>\n",
       "      <td>3.72</td>\n",
       "      <td>R</td>\n",
       "      <td>Desc</td>\n",
       "      <td>1.0</td>\n",
       "      <td>0.000000</td>\n",
       "      <td>0</td>\n",
       "      <td>0</td>\n",
       "    </tr>\n",
       "    <tr>\n",
       "      <th>3</th>\n",
       "      <td>11</td>\n",
       "      <td>-1.22</td>\n",
       "      <td>0.34</td>\n",
       "      <td>1.40</td>\n",
       "      <td>0.040</td>\n",
       "      <td>1.03236</td>\n",
       "      <td>3.20</td>\n",
       "      <td>0.34</td>\n",
       "      <td>11.6</td>\n",
       "      <td>2</td>\n",
       "      <td>6.23</td>\n",
       "      <td>B</td>\n",
       "      <td>***</td>\n",
       "      <td>2.0</td>\n",
       "      <td>6.666667</td>\n",
       "      <td>775</td>\n",
       "      <td>1</td>\n",
       "    </tr>\n",
       "    <tr>\n",
       "      <th>4</th>\n",
       "      <td>12</td>\n",
       "      <td>0.27</td>\n",
       "      <td>1.05</td>\n",
       "      <td>11.25</td>\n",
       "      <td>-0.007</td>\n",
       "      <td>0.99620</td>\n",
       "      <td>4.93</td>\n",
       "      <td>0.26</td>\n",
       "      <td>15.0</td>\n",
       "      <td>1</td>\n",
       "      <td>2.44</td>\n",
       "      <td>R</td>\n",
       "      <td>Desc</td>\n",
       "      <td>2.0</td>\n",
       "      <td>0.000000</td>\n",
       "      <td>596</td>\n",
       "      <td>1</td>\n",
       "    </tr>\n",
       "  </tbody>\n",
       "</table>\n",
       "</div>"
      ],
      "text/plain": [
       "   ID  Acidez  AcidoCitrico  Azucar  CloruroSodico  Densidad    pH  Sulfatos  \\\n",
       "0   2    0.16         -0.81   26.10         -0.425   1.02792  3.38      0.70   \n",
       "1   4    2.64         -0.88   14.80          0.037   0.99518  3.12      0.48   \n",
       "2   8    0.29         -0.40   21.50          0.060   0.99572  3.49      1.21   \n",
       "3  11   -1.22          0.34    1.40          0.040   1.03236  3.20      0.34   \n",
       "4  12    0.27          1.05   11.25         -0.007   0.99620  4.93      0.26   \n",
       "\n",
       "   Alcohol  CalifProductor  PrecioBotella Etiqueta Clasificacion  Region  \\\n",
       "0     15.9               2           1.00        M           ***     1.0   \n",
       "1     22.0               3           3.38        M           ***     3.0   \n",
       "2     10.3               3           3.72        R          Desc     1.0   \n",
       "3     11.6               2           6.23        B           ***     2.0   \n",
       "4     15.0               1           2.44        R          Desc     2.0   \n",
       "\n",
       "   prop_missings  Beneficio  Compra  \n",
       "0       6.666667        515       1  \n",
       "1       0.000000        585       1  \n",
       "2       0.000000          0       0  \n",
       "3       6.666667        775       1  \n",
       "4       0.000000        596       1  "
      ]
     },
     "execution_count": 3,
     "metadata": {},
     "output_type": "execute_result"
    }
   ],
   "source": [
    "# Leer datos depurados DatosVinoDep_winsRand\n",
    "vinosDep = pd.read_csv(r'C:\\Users\\Usuario\\Documents\\CIENCIA DE DATOS\\REPOSITORIO GITHUB\\MINERÍA DE DATOS Y MODELACIÓN ejercicios\\1. Ejercicio base datos vino\\script_base_vinos_reg_log\\DatosVinoDep_winsRand.csv', index_col=0)\n",
    "\n",
    "# Descriptivo de comprobación\n",
    "vinosDep.head()"
   ]
  },
  {
   "cell_type": "code",
   "execution_count": 4,
   "metadata": {},
   "outputs": [
    {
     "name": "stdout",
     "output_type": "stream",
     "text": [
      "<class 'pandas.core.frame.DataFrame'>\n",
      "Index: 6365 entries, 0 to 6364\n",
      "Data columns (total 17 columns):\n",
      " #   Column          Non-Null Count  Dtype  \n",
      "---  ------          --------------  -----  \n",
      " 0   ID              6365 non-null   int64  \n",
      " 1   Acidez          6365 non-null   float64\n",
      " 2   AcidoCitrico    6365 non-null   float64\n",
      " 3   Azucar          6365 non-null   float64\n",
      " 4   CloruroSodico   6365 non-null   float64\n",
      " 5   Densidad        6365 non-null   float64\n",
      " 6   pH              6365 non-null   float64\n",
      " 7   Sulfatos        6365 non-null   float64\n",
      " 8   Alcohol         6365 non-null   float64\n",
      " 9   CalifProductor  6365 non-null   int64  \n",
      " 10  PrecioBotella   6365 non-null   float64\n",
      " 11  Etiqueta        6365 non-null   object \n",
      " 12  Clasificacion   6365 non-null   object \n",
      " 13  Region          6365 non-null   float64\n",
      " 14  prop_missings   6365 non-null   float64\n",
      " 15  Beneficio       6365 non-null   int64  \n",
      " 16  Compra          6365 non-null   int64  \n",
      "dtypes: float64(11), int64(4), object(2)\n",
      "memory usage: 895.1+ KB\n"
     ]
    }
   ],
   "source": [
    "vinosDep.info()"
   ]
  },
  {
   "cell_type": "code",
   "execution_count": 5,
   "metadata": {},
   "outputs": [],
   "source": [
    "# Lista de columnas con menos de 10 valores distintos. Potenciales factores!\n",
    "to_factor = list(vinosDep.loc[:,vinosDep.nunique() < 10]);  \n",
    "\n",
    "# Cambiar el tipo de todas ellas a factor de una vez\n",
    "vinosDep[to_factor] = vinosDep[to_factor].astype('category')\n",
    "\n",
    "# Ordenar categorías de los fatcores de interés\n",
    "vinosDep[\"Etiqueta\"] = vinosDep[\"Etiqueta\"].cat.reorder_categories(['MM','M','R','B','MB'])\n",
    "vinosDep[\"Clasificacion\"] = vinosDep[\"Clasificacion\"].cat.reorder_categories(['Desc','*','**','***','****'])"
   ]
  },
  {
   "cell_type": "markdown",
   "metadata": {},
   "source": [
    "#### Variables de control"
   ]
  },
  {
   "cell_type": "code",
   "execution_count": 6,
   "metadata": {},
   "outputs": [
    {
     "data": {
      "text/html": [
       "<div>\n",
       "<style scoped>\n",
       "    .dataframe tbody tr th:only-of-type {\n",
       "        vertical-align: middle;\n",
       "    }\n",
       "\n",
       "    .dataframe tbody tr th {\n",
       "        vertical-align: top;\n",
       "    }\n",
       "\n",
       "    .dataframe thead th {\n",
       "        text-align: right;\n",
       "    }\n",
       "</style>\n",
       "<table border=\"1\" class=\"dataframe\">\n",
       "  <thead>\n",
       "    <tr style=\"text-align: right;\">\n",
       "      <th></th>\n",
       "      <th>ID</th>\n",
       "      <th>Acidez</th>\n",
       "      <th>AcidoCitrico</th>\n",
       "      <th>Azucar</th>\n",
       "      <th>CloruroSodico</th>\n",
       "      <th>Densidad</th>\n",
       "      <th>pH</th>\n",
       "      <th>Sulfatos</th>\n",
       "      <th>Alcohol</th>\n",
       "      <th>CalifProductor</th>\n",
       "      <th>PrecioBotella</th>\n",
       "      <th>Etiqueta</th>\n",
       "      <th>Clasificacion</th>\n",
       "      <th>Region</th>\n",
       "      <th>prop_missings</th>\n",
       "      <th>Beneficio</th>\n",
       "      <th>Compra</th>\n",
       "      <th>aleatorio</th>\n",
       "      <th>aleatorio2</th>\n",
       "    </tr>\n",
       "  </thead>\n",
       "  <tbody>\n",
       "    <tr>\n",
       "      <th>0</th>\n",
       "      <td>2</td>\n",
       "      <td>0.16</td>\n",
       "      <td>-0.81</td>\n",
       "      <td>26.10</td>\n",
       "      <td>-0.425</td>\n",
       "      <td>1.02792</td>\n",
       "      <td>3.38</td>\n",
       "      <td>0.70</td>\n",
       "      <td>15.9</td>\n",
       "      <td>2</td>\n",
       "      <td>1.00</td>\n",
       "      <td>M</td>\n",
       "      <td>***</td>\n",
       "      <td>1.0</td>\n",
       "      <td>6.666667</td>\n",
       "      <td>515</td>\n",
       "      <td>1</td>\n",
       "      <td>0.320861</td>\n",
       "      <td>0.543913</td>\n",
       "    </tr>\n",
       "    <tr>\n",
       "      <th>1</th>\n",
       "      <td>4</td>\n",
       "      <td>2.64</td>\n",
       "      <td>-0.88</td>\n",
       "      <td>14.80</td>\n",
       "      <td>0.037</td>\n",
       "      <td>0.99518</td>\n",
       "      <td>3.12</td>\n",
       "      <td>0.48</td>\n",
       "      <td>22.0</td>\n",
       "      <td>3</td>\n",
       "      <td>3.38</td>\n",
       "      <td>M</td>\n",
       "      <td>***</td>\n",
       "      <td>3.0</td>\n",
       "      <td>0.000000</td>\n",
       "      <td>585</td>\n",
       "      <td>1</td>\n",
       "      <td>0.689017</td>\n",
       "      <td>0.978143</td>\n",
       "    </tr>\n",
       "    <tr>\n",
       "      <th>2</th>\n",
       "      <td>8</td>\n",
       "      <td>0.29</td>\n",
       "      <td>-0.40</td>\n",
       "      <td>21.50</td>\n",
       "      <td>0.060</td>\n",
       "      <td>0.99572</td>\n",
       "      <td>3.49</td>\n",
       "      <td>1.21</td>\n",
       "      <td>10.3</td>\n",
       "      <td>3</td>\n",
       "      <td>3.72</td>\n",
       "      <td>R</td>\n",
       "      <td>Desc</td>\n",
       "      <td>1.0</td>\n",
       "      <td>0.000000</td>\n",
       "      <td>0</td>\n",
       "      <td>0</td>\n",
       "      <td>0.209828</td>\n",
       "      <td>0.874073</td>\n",
       "    </tr>\n",
       "    <tr>\n",
       "      <th>3</th>\n",
       "      <td>11</td>\n",
       "      <td>-1.22</td>\n",
       "      <td>0.34</td>\n",
       "      <td>1.40</td>\n",
       "      <td>0.040</td>\n",
       "      <td>1.03236</td>\n",
       "      <td>3.20</td>\n",
       "      <td>0.34</td>\n",
       "      <td>11.6</td>\n",
       "      <td>2</td>\n",
       "      <td>6.23</td>\n",
       "      <td>B</td>\n",
       "      <td>***</td>\n",
       "      <td>2.0</td>\n",
       "      <td>6.666667</td>\n",
       "      <td>775</td>\n",
       "      <td>1</td>\n",
       "      <td>0.151970</td>\n",
       "      <td>0.454376</td>\n",
       "    </tr>\n",
       "    <tr>\n",
       "      <th>4</th>\n",
       "      <td>12</td>\n",
       "      <td>0.27</td>\n",
       "      <td>1.05</td>\n",
       "      <td>11.25</td>\n",
       "      <td>-0.007</td>\n",
       "      <td>0.99620</td>\n",
       "      <td>4.93</td>\n",
       "      <td>0.26</td>\n",
       "      <td>15.0</td>\n",
       "      <td>1</td>\n",
       "      <td>2.44</td>\n",
       "      <td>R</td>\n",
       "      <td>Desc</td>\n",
       "      <td>2.0</td>\n",
       "      <td>0.000000</td>\n",
       "      <td>596</td>\n",
       "      <td>1</td>\n",
       "      <td>0.511165</td>\n",
       "      <td>0.306442</td>\n",
       "    </tr>\n",
       "  </tbody>\n",
       "</table>\n",
       "</div>"
      ],
      "text/plain": [
       "   ID  Acidez  AcidoCitrico  Azucar  CloruroSodico  Densidad    pH  Sulfatos  \\\n",
       "0   2    0.16         -0.81   26.10         -0.425   1.02792  3.38      0.70   \n",
       "1   4    2.64         -0.88   14.80          0.037   0.99518  3.12      0.48   \n",
       "2   8    0.29         -0.40   21.50          0.060   0.99572  3.49      1.21   \n",
       "3  11   -1.22          0.34    1.40          0.040   1.03236  3.20      0.34   \n",
       "4  12    0.27          1.05   11.25         -0.007   0.99620  4.93      0.26   \n",
       "\n",
       "   Alcohol  CalifProductor  PrecioBotella Etiqueta Clasificacion Region  \\\n",
       "0     15.9               2           1.00        M           ***    1.0   \n",
       "1     22.0               3           3.38        M           ***    3.0   \n",
       "2     10.3               3           3.72        R          Desc    1.0   \n",
       "3     11.6               2           6.23        B           ***    2.0   \n",
       "4     15.0               1           2.44        R          Desc    2.0   \n",
       "\n",
       "  prop_missings  Beneficio Compra  aleatorio  aleatorio2  \n",
       "0      6.666667        515      1   0.320861    0.543913  \n",
       "1      0.000000        585      1   0.689017    0.978143  \n",
       "2      0.000000          0      0   0.209828    0.874073  \n",
       "3      6.666667        775      1   0.151970    0.454376  \n",
       "4      0.000000        596      1   0.511165    0.306442  "
      ]
     },
     "execution_count": 6,
     "metadata": {},
     "output_type": "execute_result"
    }
   ],
   "source": [
    "# Generar datos aleatorios para hacer control de efectos espurios\n",
    "vinosDep['aleatorio'] = np.random.uniform(0,1,size=vinosDep.shape[0])\n",
    "vinosDep['aleatorio2'] = np.random.uniform(0,1,size=vinosDep.shape[0])\n",
    "vinosDep.head()"
   ]
  },
  {
   "cell_type": "code",
   "execution_count": 7,
   "metadata": {},
   "outputs": [],
   "source": [
    "# Eliminar variable objetivo continua Compra y quito Beneficio, pues no se debe usar una variable objetivo para predecir otra variable objetivo\n",
    "varObjBin = vinosDep.Compra\n",
    "imputDep = vinosDep.drop(['ID','Beneficio','Compra'],axis=1)"
   ]
  },
  {
   "cell_type": "markdown",
   "metadata": {},
   "source": [
    "## Estudio descriptivo de relaciones con la respuesta"
   ]
  },
  {
   "cell_type": "code",
   "execution_count": null,
   "metadata": {},
   "outputs": [],
   "source": [
    "# Hay que generar función cramers_v para ver la asociación entre variables categóricas. Si la vaeriable es continua, se debe hacer proceso previo de tramificasión (5 tramos)"
   ]
  },
  {
   "cell_type": "code",
   "execution_count": 8,
   "metadata": {},
   "outputs": [
    {
     "data": {
      "application/vnd.plotly.v1+json": {
       "config": {
        "plotlyServerURL": "https://plot.ly"
       },
       "data": [
        {
         "alignmentgroup": "True",
         "hovertemplate": "VCramer=%{x}<br>index=%{y}<extra></extra>",
         "legendgroup": "",
         "marker": {
          "color": "#636efa",
          "pattern": {
           "shape": ""
          }
         },
         "name": "",
         "offsetgroup": "",
         "orientation": "h",
         "showlegend": false,
         "textposition": "auto",
         "type": "bar",
         "x": [
          0.0490139020069517,
          0.017287068930918723,
          0.030198220022428765,
          0.04924265764035149,
          0.015961225174479766,
          0.03787888464078642,
          0.038660844242491235,
          0.03226442674163672,
          0.29538473897042367,
          0.02006235093136444,
          0.022128952508151875,
          0.5964335615521507,
          0.01500594863928116,
          0.04401754493443614,
          0.010220120573665514,
          0.01353620664370138
         ],
         "xaxis": "x",
         "y": [
          "Acidez",
          "AcidoCitrico",
          "Azucar",
          "CloruroSodico",
          "Densidad",
          "pH",
          "Sulfatos",
          "Alcohol",
          "CalifProductor",
          "PrecioBotella",
          "Etiqueta",
          "Clasificacion",
          "Region",
          "prop_missings",
          "aleatorio",
          "aleatorio2"
         ],
         "yaxis": "y"
        }
       ],
       "layout": {
        "barmode": "relative",
        "legend": {
         "tracegroupgap": 0
        },
        "template": {
         "data": {
          "bar": [
           {
            "error_x": {
             "color": "#2a3f5f"
            },
            "error_y": {
             "color": "#2a3f5f"
            },
            "marker": {
             "line": {
              "color": "#E5ECF6",
              "width": 0.5
             },
             "pattern": {
              "fillmode": "overlay",
              "size": 10,
              "solidity": 0.2
             }
            },
            "type": "bar"
           }
          ],
          "barpolar": [
           {
            "marker": {
             "line": {
              "color": "#E5ECF6",
              "width": 0.5
             },
             "pattern": {
              "fillmode": "overlay",
              "size": 10,
              "solidity": 0.2
             }
            },
            "type": "barpolar"
           }
          ],
          "carpet": [
           {
            "aaxis": {
             "endlinecolor": "#2a3f5f",
             "gridcolor": "white",
             "linecolor": "white",
             "minorgridcolor": "white",
             "startlinecolor": "#2a3f5f"
            },
            "baxis": {
             "endlinecolor": "#2a3f5f",
             "gridcolor": "white",
             "linecolor": "white",
             "minorgridcolor": "white",
             "startlinecolor": "#2a3f5f"
            },
            "type": "carpet"
           }
          ],
          "choropleth": [
           {
            "colorbar": {
             "outlinewidth": 0,
             "ticks": ""
            },
            "type": "choropleth"
           }
          ],
          "contour": [
           {
            "colorbar": {
             "outlinewidth": 0,
             "ticks": ""
            },
            "colorscale": [
             [
              0,
              "#0d0887"
             ],
             [
              0.1111111111111111,
              "#46039f"
             ],
             [
              0.2222222222222222,
              "#7201a8"
             ],
             [
              0.3333333333333333,
              "#9c179e"
             ],
             [
              0.4444444444444444,
              "#bd3786"
             ],
             [
              0.5555555555555556,
              "#d8576b"
             ],
             [
              0.6666666666666666,
              "#ed7953"
             ],
             [
              0.7777777777777778,
              "#fb9f3a"
             ],
             [
              0.8888888888888888,
              "#fdca26"
             ],
             [
              1,
              "#f0f921"
             ]
            ],
            "type": "contour"
           }
          ],
          "contourcarpet": [
           {
            "colorbar": {
             "outlinewidth": 0,
             "ticks": ""
            },
            "type": "contourcarpet"
           }
          ],
          "heatmap": [
           {
            "colorbar": {
             "outlinewidth": 0,
             "ticks": ""
            },
            "colorscale": [
             [
              0,
              "#0d0887"
             ],
             [
              0.1111111111111111,
              "#46039f"
             ],
             [
              0.2222222222222222,
              "#7201a8"
             ],
             [
              0.3333333333333333,
              "#9c179e"
             ],
             [
              0.4444444444444444,
              "#bd3786"
             ],
             [
              0.5555555555555556,
              "#d8576b"
             ],
             [
              0.6666666666666666,
              "#ed7953"
             ],
             [
              0.7777777777777778,
              "#fb9f3a"
             ],
             [
              0.8888888888888888,
              "#fdca26"
             ],
             [
              1,
              "#f0f921"
             ]
            ],
            "type": "heatmap"
           }
          ],
          "heatmapgl": [
           {
            "colorbar": {
             "outlinewidth": 0,
             "ticks": ""
            },
            "colorscale": [
             [
              0,
              "#0d0887"
             ],
             [
              0.1111111111111111,
              "#46039f"
             ],
             [
              0.2222222222222222,
              "#7201a8"
             ],
             [
              0.3333333333333333,
              "#9c179e"
             ],
             [
              0.4444444444444444,
              "#bd3786"
             ],
             [
              0.5555555555555556,
              "#d8576b"
             ],
             [
              0.6666666666666666,
              "#ed7953"
             ],
             [
              0.7777777777777778,
              "#fb9f3a"
             ],
             [
              0.8888888888888888,
              "#fdca26"
             ],
             [
              1,
              "#f0f921"
             ]
            ],
            "type": "heatmapgl"
           }
          ],
          "histogram": [
           {
            "marker": {
             "pattern": {
              "fillmode": "overlay",
              "size": 10,
              "solidity": 0.2
             }
            },
            "type": "histogram"
           }
          ],
          "histogram2d": [
           {
            "colorbar": {
             "outlinewidth": 0,
             "ticks": ""
            },
            "colorscale": [
             [
              0,
              "#0d0887"
             ],
             [
              0.1111111111111111,
              "#46039f"
             ],
             [
              0.2222222222222222,
              "#7201a8"
             ],
             [
              0.3333333333333333,
              "#9c179e"
             ],
             [
              0.4444444444444444,
              "#bd3786"
             ],
             [
              0.5555555555555556,
              "#d8576b"
             ],
             [
              0.6666666666666666,
              "#ed7953"
             ],
             [
              0.7777777777777778,
              "#fb9f3a"
             ],
             [
              0.8888888888888888,
              "#fdca26"
             ],
             [
              1,
              "#f0f921"
             ]
            ],
            "type": "histogram2d"
           }
          ],
          "histogram2dcontour": [
           {
            "colorbar": {
             "outlinewidth": 0,
             "ticks": ""
            },
            "colorscale": [
             [
              0,
              "#0d0887"
             ],
             [
              0.1111111111111111,
              "#46039f"
             ],
             [
              0.2222222222222222,
              "#7201a8"
             ],
             [
              0.3333333333333333,
              "#9c179e"
             ],
             [
              0.4444444444444444,
              "#bd3786"
             ],
             [
              0.5555555555555556,
              "#d8576b"
             ],
             [
              0.6666666666666666,
              "#ed7953"
             ],
             [
              0.7777777777777778,
              "#fb9f3a"
             ],
             [
              0.8888888888888888,
              "#fdca26"
             ],
             [
              1,
              "#f0f921"
             ]
            ],
            "type": "histogram2dcontour"
           }
          ],
          "mesh3d": [
           {
            "colorbar": {
             "outlinewidth": 0,
             "ticks": ""
            },
            "type": "mesh3d"
           }
          ],
          "parcoords": [
           {
            "line": {
             "colorbar": {
              "outlinewidth": 0,
              "ticks": ""
             }
            },
            "type": "parcoords"
           }
          ],
          "pie": [
           {
            "automargin": true,
            "type": "pie"
           }
          ],
          "scatter": [
           {
            "fillpattern": {
             "fillmode": "overlay",
             "size": 10,
             "solidity": 0.2
            },
            "type": "scatter"
           }
          ],
          "scatter3d": [
           {
            "line": {
             "colorbar": {
              "outlinewidth": 0,
              "ticks": ""
             }
            },
            "marker": {
             "colorbar": {
              "outlinewidth": 0,
              "ticks": ""
             }
            },
            "type": "scatter3d"
           }
          ],
          "scattercarpet": [
           {
            "marker": {
             "colorbar": {
              "outlinewidth": 0,
              "ticks": ""
             }
            },
            "type": "scattercarpet"
           }
          ],
          "scattergeo": [
           {
            "marker": {
             "colorbar": {
              "outlinewidth": 0,
              "ticks": ""
             }
            },
            "type": "scattergeo"
           }
          ],
          "scattergl": [
           {
            "marker": {
             "colorbar": {
              "outlinewidth": 0,
              "ticks": ""
             }
            },
            "type": "scattergl"
           }
          ],
          "scattermapbox": [
           {
            "marker": {
             "colorbar": {
              "outlinewidth": 0,
              "ticks": ""
             }
            },
            "type": "scattermapbox"
           }
          ],
          "scatterpolar": [
           {
            "marker": {
             "colorbar": {
              "outlinewidth": 0,
              "ticks": ""
             }
            },
            "type": "scatterpolar"
           }
          ],
          "scatterpolargl": [
           {
            "marker": {
             "colorbar": {
              "outlinewidth": 0,
              "ticks": ""
             }
            },
            "type": "scatterpolargl"
           }
          ],
          "scatterternary": [
           {
            "marker": {
             "colorbar": {
              "outlinewidth": 0,
              "ticks": ""
             }
            },
            "type": "scatterternary"
           }
          ],
          "surface": [
           {
            "colorbar": {
             "outlinewidth": 0,
             "ticks": ""
            },
            "colorscale": [
             [
              0,
              "#0d0887"
             ],
             [
              0.1111111111111111,
              "#46039f"
             ],
             [
              0.2222222222222222,
              "#7201a8"
             ],
             [
              0.3333333333333333,
              "#9c179e"
             ],
             [
              0.4444444444444444,
              "#bd3786"
             ],
             [
              0.5555555555555556,
              "#d8576b"
             ],
             [
              0.6666666666666666,
              "#ed7953"
             ],
             [
              0.7777777777777778,
              "#fb9f3a"
             ],
             [
              0.8888888888888888,
              "#fdca26"
             ],
             [
              1,
              "#f0f921"
             ]
            ],
            "type": "surface"
           }
          ],
          "table": [
           {
            "cells": {
             "fill": {
              "color": "#EBF0F8"
             },
             "line": {
              "color": "white"
             }
            },
            "header": {
             "fill": {
              "color": "#C8D4E3"
             },
             "line": {
              "color": "white"
             }
            },
            "type": "table"
           }
          ]
         },
         "layout": {
          "annotationdefaults": {
           "arrowcolor": "#2a3f5f",
           "arrowhead": 0,
           "arrowwidth": 1
          },
          "autotypenumbers": "strict",
          "coloraxis": {
           "colorbar": {
            "outlinewidth": 0,
            "ticks": ""
           }
          },
          "colorscale": {
           "diverging": [
            [
             0,
             "#8e0152"
            ],
            [
             0.1,
             "#c51b7d"
            ],
            [
             0.2,
             "#de77ae"
            ],
            [
             0.3,
             "#f1b6da"
            ],
            [
             0.4,
             "#fde0ef"
            ],
            [
             0.5,
             "#f7f7f7"
            ],
            [
             0.6,
             "#e6f5d0"
            ],
            [
             0.7,
             "#b8e186"
            ],
            [
             0.8,
             "#7fbc41"
            ],
            [
             0.9,
             "#4d9221"
            ],
            [
             1,
             "#276419"
            ]
           ],
           "sequential": [
            [
             0,
             "#0d0887"
            ],
            [
             0.1111111111111111,
             "#46039f"
            ],
            [
             0.2222222222222222,
             "#7201a8"
            ],
            [
             0.3333333333333333,
             "#9c179e"
            ],
            [
             0.4444444444444444,
             "#bd3786"
            ],
            [
             0.5555555555555556,
             "#d8576b"
            ],
            [
             0.6666666666666666,
             "#ed7953"
            ],
            [
             0.7777777777777778,
             "#fb9f3a"
            ],
            [
             0.8888888888888888,
             "#fdca26"
            ],
            [
             1,
             "#f0f921"
            ]
           ],
           "sequentialminus": [
            [
             0,
             "#0d0887"
            ],
            [
             0.1111111111111111,
             "#46039f"
            ],
            [
             0.2222222222222222,
             "#7201a8"
            ],
            [
             0.3333333333333333,
             "#9c179e"
            ],
            [
             0.4444444444444444,
             "#bd3786"
            ],
            [
             0.5555555555555556,
             "#d8576b"
            ],
            [
             0.6666666666666666,
             "#ed7953"
            ],
            [
             0.7777777777777778,
             "#fb9f3a"
            ],
            [
             0.8888888888888888,
             "#fdca26"
            ],
            [
             1,
             "#f0f921"
            ]
           ]
          },
          "colorway": [
           "#636efa",
           "#EF553B",
           "#00cc96",
           "#ab63fa",
           "#FFA15A",
           "#19d3f3",
           "#FF6692",
           "#B6E880",
           "#FF97FF",
           "#FECB52"
          ],
          "font": {
           "color": "#2a3f5f"
          },
          "geo": {
           "bgcolor": "white",
           "lakecolor": "white",
           "landcolor": "#E5ECF6",
           "showlakes": true,
           "showland": true,
           "subunitcolor": "white"
          },
          "hoverlabel": {
           "align": "left"
          },
          "hovermode": "closest",
          "mapbox": {
           "style": "light"
          },
          "paper_bgcolor": "white",
          "plot_bgcolor": "#E5ECF6",
          "polar": {
           "angularaxis": {
            "gridcolor": "white",
            "linecolor": "white",
            "ticks": ""
           },
           "bgcolor": "#E5ECF6",
           "radialaxis": {
            "gridcolor": "white",
            "linecolor": "white",
            "ticks": ""
           }
          },
          "scene": {
           "xaxis": {
            "backgroundcolor": "#E5ECF6",
            "gridcolor": "white",
            "gridwidth": 2,
            "linecolor": "white",
            "showbackground": true,
            "ticks": "",
            "zerolinecolor": "white"
           },
           "yaxis": {
            "backgroundcolor": "#E5ECF6",
            "gridcolor": "white",
            "gridwidth": 2,
            "linecolor": "white",
            "showbackground": true,
            "ticks": "",
            "zerolinecolor": "white"
           },
           "zaxis": {
            "backgroundcolor": "#E5ECF6",
            "gridcolor": "white",
            "gridwidth": 2,
            "linecolor": "white",
            "showbackground": true,
            "ticks": "",
            "zerolinecolor": "white"
           }
          },
          "shapedefaults": {
           "line": {
            "color": "#2a3f5f"
           }
          },
          "ternary": {
           "aaxis": {
            "gridcolor": "white",
            "linecolor": "white",
            "ticks": ""
           },
           "baxis": {
            "gridcolor": "white",
            "linecolor": "white",
            "ticks": ""
           },
           "bgcolor": "#E5ECF6",
           "caxis": {
            "gridcolor": "white",
            "linecolor": "white",
            "ticks": ""
           }
          },
          "title": {
           "x": 0.05
          },
          "xaxis": {
           "automargin": true,
           "gridcolor": "white",
           "linecolor": "white",
           "ticks": "",
           "title": {
            "standoff": 15
           },
           "zerolinecolor": "white",
           "zerolinewidth": 2
          },
          "yaxis": {
           "automargin": true,
           "gridcolor": "white",
           "linecolor": "white",
           "ticks": "",
           "title": {
            "standoff": 15
           },
           "zerolinecolor": "white",
           "zerolinewidth": 2
          }
         }
        },
        "title": {
         "text": "Relaciones frente a Compra"
        },
        "xaxis": {
         "anchor": "y",
         "domain": [
          0,
          1
         ],
         "title": {
          "text": "VCramer"
         }
        },
        "yaxis": {
         "anchor": "x",
         "categoryorder": "total ascending",
         "domain": [
          0,
          1
         ],
         "title": {
          "text": "index"
         }
        }
       }
      }
     },
     "metadata": {},
     "output_type": "display_data"
    }
   ],
   "source": [
    "# Aplicar la función al input completo contra la objetivo\n",
    "tablaCramer = pd.DataFrame(imputDep.apply(lambda x: cramers_v(x,varObjBin)),columns=['VCramer'])\n",
    "\n",
    "# Obtener el gráfico de importancia de las variables frente a la objetivo continua según vcramer\n",
    "import plotly.express as px\n",
    "px.bar(tablaCramer,x=tablaCramer.VCramer,title='Relaciones frente a Compra').update_yaxes(categoryorder=\"total ascending\").show()"
   ]
  },
  {
   "cell_type": "code",
   "execution_count": null,
   "metadata": {},
   "outputs": [],
   "source": [
    "# En este caso tenemos que las variables tentativas para el modelado son: Clasificación, Calificación del productor, CloruroSodico,  Acidez, Sulfatos, pH"
   ]
  },
  {
   "cell_type": "code",
   "execution_count": 9,
   "metadata": {},
   "outputs": [],
   "source": [
    "# Pintar las relaciones de las variables con la objetivo binaria\n",
    "import matplotlib.pyplot as plt\n",
    "import seaborn as sns\n",
    "from statsmodels.graphics.mosaicplot import mosaic"
   ]
  },
  {
   "cell_type": "code",
   "execution_count": 10,
   "metadata": {},
   "outputs": [
    {
     "data": {
      "text/plain": [
       "<Figure size 640x480 with 0 Axes>"
      ]
     },
     "metadata": {},
     "output_type": "display_data"
    },
    {
     "data": {
      "image/png": "[encoded data removed]",
      "text/plain": [
       "<Figure size 640x480 with 3 Axes>"
      ]
     },
     "metadata": {},
     "output_type": "display_data"
    }
   ],
   "source": [
    "plt.clf()\n",
    "#mosaic(pd.crosstab(vinosDep.Clasificacion, varObjBin))\n",
    "mosaic(vinosDep,['Clasificacion','Compra'],gap=0.005, title='Clasificacion vs. Compra')\n",
    "#sns.heatmap(pd.crosstab(vinosDep.Etiqueta, varObjBin))\n",
    "plt.show()"
   ]
  },
  {
   "cell_type": "code",
   "execution_count": 11,
   "metadata": {},
   "outputs": [
    {
     "data": {
      "text/plain": [
       "<Figure size 640x480 with 0 Axes>"
      ]
     },
     "metadata": {},
     "output_type": "display_data"
    },
    {
     "data": {
      "image/png": "[encoded data removed]",
      "text/plain": [
       "<Figure size 640x480 with 3 Axes>"
      ]
     },
     "metadata": {},
     "output_type": "display_data"
    }
   ],
   "source": [
    "plt.clf()\n",
    "#mosaic(pd.crosstab(vinosDep.Clasificacion, varObjBin))\n",
    "mosaic(vinosDep,['Etiqueta','Compra'],gap=0.005, title='Etiqueta vs. Compra')\n",
    "#sns.heatmap(pd.crosstab(vinosDep.Etiqueta, varObjBin))\n",
    "plt.show()"
   ]
  },
  {
   "cell_type": "code",
   "execution_count": 12,
   "metadata": {},
   "outputs": [
    {
     "data": {
      "text/plain": [
       "<Figure size 640x480 with 0 Axes>"
      ]
     },
     "metadata": {},
     "output_type": "display_data"
    },
    {
     "data": {
      "image/png": "[encoded data removed]",
      "text/plain": [
       "<Figure size 640x480 with 3 Axes>"
      ]
     },
     "metadata": {},
     "output_type": "display_data"
    }
   ],
   "source": [
    "plt.clf()\n",
    "#mosaic(pd.crosstab(vinosDep.Clasificacion, varObjBin))\n",
    "mosaic(vinosDep,['Region','Compra'],gap=0.005, title='Region vs. Compra')\n",
    "#sns.heatmap(pd.crosstab(vinosDep.Etiqueta, varObjBin))\n",
    "plt.show()"
   ]
  },
  {
   "cell_type": "code",
   "execution_count": null,
   "metadata": {},
   "outputs": [],
   "source": [
    "# Se ve que la variable Region no es importante para la compra, pero la variable Clasificacion sí lo es."
   ]
  },
  {
   "cell_type": "code",
   "execution_count": 13,
   "metadata": {},
   "outputs": [
    {
     "data": {
      "image/png": "[encoded data removed]",
      "text/plain": [
       "<Figure size 640x480 with 1 Axes>"
      ]
     },
     "metadata": {},
     "output_type": "display_data"
    }
   ],
   "source": [
    "plt.clf()\n",
    "sns.boxplot(x='Alcohol',y='Compra',hue='Compra',data=vinosDep,palette='viridis',legend=False)\n",
    "plt.show()"
   ]
  },
  {
   "cell_type": "code",
   "execution_count": 14,
   "metadata": {},
   "outputs": [
    {
     "data": {
      "image/png": "[encoded data removed]",
      "text/plain": [
       "<Figure size 640x480 with 1 Axes>"
      ]
     },
     "metadata": {},
     "output_type": "display_data"
    }
   ],
   "source": [
    "plt.clf()\n",
    "sns.boxplot(x='CalifProductor',y='Compra',hue='Compra',data=vinosDep,palette='viridis',legend=False)\n",
    "plt.show()"
   ]
  },
  {
   "cell_type": "code",
   "execution_count": 15,
   "metadata": {},
   "outputs": [
    {
     "data": {
      "text/plain": [
       "<Figure size 640x480 with 0 Axes>"
      ]
     },
     "metadata": {},
     "output_type": "display_data"
    },
    {
     "data": {
      "image/png": "[encoded data removed]",
      "text/plain": [
       "<Figure size 566.111x500 with 1 Axes>"
      ]
     },
     "metadata": {},
     "output_type": "display_data"
    }
   ],
   "source": [
    "plt.clf()\n",
    "#sns.kdeplot(vinosDep,x=\"CalifProductor\", hue=\"Compra\", fill=True, common_norm=False, alpha=0.4)\n",
    "sns.displot(vinosDep, x=\"CalifProductor\", hue=\"Compra\",kind=\"kde\",fill=True, common_norm=False, alpha=0.4)\n",
    "#sns.histplot(y='CalifProductor',color='Compra',data=vinosDep,palette='viridis')\n",
    "plt.show()"
   ]
  },
  {
   "cell_type": "code",
   "execution_count": 16,
   "metadata": {},
   "outputs": [
    {
     "data": {
      "text/plain": [
       "<Figure size 640x480 with 0 Axes>"
      ]
     },
     "metadata": {},
     "output_type": "display_data"
    },
    {
     "data": {
      "image/png": "[encoded data removed]",
      "text/plain": [
       "<Figure size 566.111x500 with 1 Axes>"
      ]
     },
     "metadata": {},
     "output_type": "display_data"
    }
   ],
   "source": [
    "plt.clf()\n",
    "#sns.kdeplot(vinosDep,x=\"Acidez\", hue=\"Compra\", fill=True, common_norm=False, alpha=0.4)\n",
    "sns.displot(vinosDep, x=\"Acidez\", hue=\"Compra\", kind=\"kde\",fill=True, common_norm=False, alpha=0.4)\n",
    "#sns.histplot(y='CalifProductor',color='Compra',data=vinosDep,palette='viridis')\n",
    "plt.show()"
   ]
  },
  {
   "cell_type": "code",
   "execution_count": 17,
   "metadata": {},
   "outputs": [
    {
     "data": {
      "text/plain": [
       "<Figure size 640x480 with 0 Axes>"
      ]
     },
     "metadata": {},
     "output_type": "display_data"
    },
    {
     "data": {
      "image/png": "[encoded data removed]",
      "text/plain": [
       "<Figure size 566.111x500 with 1 Axes>"
      ]
     },
     "metadata": {},
     "output_type": "display_data"
    }
   ],
   "source": [
    "plt.clf()\n",
    "#sns.kdeplot(vinosDep,x=\"Densidad\", hue=\"Compra\", fill=True, common_norm=False, alpha=0.4)\n",
    "sns.displot(vinosDep, x=\"Densidad\", hue=\"Compra\",kind=\"kde\",fill=True, common_norm=False, alpha=0.4)\n",
    "#sns.histplot(y='CalifProductor',color='Compra',data=vinosDep,palette='viridis')\n",
    "plt.show()"
   ]
  },
  {
   "cell_type": "markdown",
   "metadata": {},
   "source": [
    "## Tranformaciones de variables"
   ]
  },
  {
   "cell_type": "code",
   "execution_count": 37,
   "metadata": {},
   "outputs": [],
   "source": [
    "## Función mejor tranformación ##\n",
    "from sklearn.preprocessing import scale"
   ]
  },
  {
   "cell_type": "code",
   "execution_count": 18,
   "metadata": {},
   "outputs": [
    {
     "data": {
      "text/html": [
       "<div>\n",
       "<style scoped>\n",
       "    .dataframe tbody tr th:only-of-type {\n",
       "        vertical-align: middle;\n",
       "    }\n",
       "\n",
       "    .dataframe tbody tr th {\n",
       "        vertical-align: top;\n",
       "    }\n",
       "\n",
       "    .dataframe thead th {\n",
       "        text-align: right;\n",
       "    }\n",
       "</style>\n",
       "<table border=\"1\" class=\"dataframe\">\n",
       "  <thead>\n",
       "    <tr style=\"text-align: right;\">\n",
       "      <th></th>\n",
       "      <th>Acidez_ident</th>\n",
       "      <th>AcidoCitrico_raiz4</th>\n",
       "      <th>Azucar_ident</th>\n",
       "      <th>CloruroSodico_ident</th>\n",
       "      <th>Densidad_cuarta</th>\n",
       "      <th>pH_ident</th>\n",
       "      <th>Sulfatos_ident</th>\n",
       "      <th>Alcohol_raiz4</th>\n",
       "      <th>CalifProductor_ident</th>\n",
       "      <th>PrecioBotella_raiz4</th>\n",
       "      <th>aleatorio_log</th>\n",
       "      <th>aleatorio2_log</th>\n",
       "    </tr>\n",
       "  </thead>\n",
       "  <tbody>\n",
       "    <tr>\n",
       "      <th>0</th>\n",
       "      <td>2.870958</td>\n",
       "      <td>1.147441</td>\n",
       "      <td>3.683917</td>\n",
       "      <td>1.573250</td>\n",
       "      <td>377.644920</td>\n",
       "      <td>3.342822</td>\n",
       "      <td>3.262488</td>\n",
       "      <td>1.460077</td>\n",
       "      <td>1.52642</td>\n",
       "      <td>0.100000</td>\n",
       "      <td>0.102616</td>\n",
       "      <td>0.634058</td>\n",
       "    </tr>\n",
       "    <tr>\n",
       "      <th>1</th>\n",
       "      <td>6.092554</td>\n",
       "      <td>1.133434</td>\n",
       "      <td>3.347943</td>\n",
       "      <td>3.032679</td>\n",
       "      <td>96.376608</td>\n",
       "      <td>2.951332</td>\n",
       "      <td>3.024830</td>\n",
       "      <td>1.583549</td>\n",
       "      <td>2.28958</td>\n",
       "      <td>1.126739</td>\n",
       "      <td>0.867117</td>\n",
       "      <td>1.220907</td>\n",
       "    </tr>\n",
       "    <tr>\n",
       "      <th>2</th>\n",
       "      <td>3.039832</td>\n",
       "      <td>1.220678</td>\n",
       "      <td>3.547149</td>\n",
       "      <td>3.105334</td>\n",
       "      <td>98.990307</td>\n",
       "      <td>3.508453</td>\n",
       "      <td>3.813421</td>\n",
       "      <td>1.309897</td>\n",
       "      <td>2.28958</td>\n",
       "      <td>1.164986</td>\n",
       "      <td>-0.322346</td>\n",
       "      <td>1.108418</td>\n",
       "    </tr>\n",
       "    <tr>\n",
       "      <th>3</th>\n",
       "      <td>1.078295</td>\n",
       "      <td>1.326782</td>\n",
       "      <td>2.949532</td>\n",
       "      <td>3.042156</td>\n",
       "      <td>440.476058</td>\n",
       "      <td>3.071791</td>\n",
       "      <td>2.873594</td>\n",
       "      <td>1.349404</td>\n",
       "      <td>1.52642</td>\n",
       "      <td>1.371832</td>\n",
       "      <td>-0.645216</td>\n",
       "      <td>0.454202</td>\n",
       "    </tr>\n",
       "    <tr>\n",
       "      <th>4</th>\n",
       "      <td>3.013851</td>\n",
       "      <td>1.409040</td>\n",
       "      <td>3.242394</td>\n",
       "      <td>2.893686</td>\n",
       "      <td>101.357903</td>\n",
       "      <td>5.676705</td>\n",
       "      <td>2.787173</td>\n",
       "      <td>1.438962</td>\n",
       "      <td>0.76326</td>\n",
       "      <td>0.993743</td>\n",
       "      <td>0.568469</td>\n",
       "      <td>0.060327</td>\n",
       "    </tr>\n",
       "    <tr>\n",
       "      <th>...</th>\n",
       "      <td>...</td>\n",
       "      <td>...</td>\n",
       "      <td>...</td>\n",
       "      <td>...</td>\n",
       "      <td>...</td>\n",
       "      <td>...</td>\n",
       "      <td>...</td>\n",
       "      <td>...</td>\n",
       "      <td>...</td>\n",
       "      <td>...</td>\n",
       "      <td>...</td>\n",
       "      <td>...</td>\n",
       "    </tr>\n",
       "    <tr>\n",
       "      <th>6360</th>\n",
       "      <td>3.169735</td>\n",
       "      <td>1.304629</td>\n",
       "      <td>2.976291</td>\n",
       "      <td>3.228533</td>\n",
       "      <td>134.863737</td>\n",
       "      <td>4.697980</td>\n",
       "      <td>2.635936</td>\n",
       "      <td>1.293703</td>\n",
       "      <td>3.05274</td>\n",
       "      <td>0.659962</td>\n",
       "      <td>0.863476</td>\n",
       "      <td>0.522418</td>\n",
       "    </tr>\n",
       "    <tr>\n",
       "      <th>6361</th>\n",
       "      <td>3.559444</td>\n",
       "      <td>1.293802</td>\n",
       "      <td>4.510471</td>\n",
       "      <td>3.054791</td>\n",
       "      <td>94.568613</td>\n",
       "      <td>3.598797</td>\n",
       "      <td>4.375156</td>\n",
       "      <td>1.162987</td>\n",
       "      <td>1.52642</td>\n",
       "      <td>1.212342</td>\n",
       "      <td>-0.159751</td>\n",
       "      <td>-1.926951</td>\n",
       "    </tr>\n",
       "    <tr>\n",
       "      <th>6362</th>\n",
       "      <td>3.091793</td>\n",
       "      <td>1.121000</td>\n",
       "      <td>1.644289</td>\n",
       "      <td>3.029520</td>\n",
       "      <td>26.289894</td>\n",
       "      <td>2.755587</td>\n",
       "      <td>3.564961</td>\n",
       "      <td>1.414356</td>\n",
       "      <td>3.05274</td>\n",
       "      <td>0.860624</td>\n",
       "      <td>-1.777896</td>\n",
       "      <td>0.606717</td>\n",
       "    </tr>\n",
       "    <tr>\n",
       "      <th>6363</th>\n",
       "      <td>2.883948</td>\n",
       "      <td>1.085651</td>\n",
       "      <td>4.007998</td>\n",
       "      <td>3.162195</td>\n",
       "      <td>76.879514</td>\n",
       "      <td>3.147077</td>\n",
       "      <td>3.392119</td>\n",
       "      <td>1.369315</td>\n",
       "      <td>0.76326</td>\n",
       "      <td>0.100000</td>\n",
       "      <td>0.673409</td>\n",
       "      <td>-1.546396</td>\n",
       "    </tr>\n",
       "    <tr>\n",
       "      <th>6364</th>\n",
       "      <td>3.078803</td>\n",
       "      <td>1.297894</td>\n",
       "      <td>3.306318</td>\n",
       "      <td>3.007407</td>\n",
       "      <td>76.234425</td>\n",
       "      <td>4.231204</td>\n",
       "      <td>3.176067</td>\n",
       "      <td>1.331606</td>\n",
       "      <td>0.76326</td>\n",
       "      <td>1.049288</td>\n",
       "      <td>1.034601</td>\n",
       "      <td>1.223416</td>\n",
       "    </tr>\n",
       "  </tbody>\n",
       "</table>\n",
       "<p>6365 rows × 12 columns</p>\n",
       "</div>"
      ],
      "text/plain": [
       "      Acidez_ident  AcidoCitrico_raiz4  Azucar_ident  CloruroSodico_ident  \\\n",
       "0         2.870958            1.147441      3.683917             1.573250   \n",
       "1         6.092554            1.133434      3.347943             3.032679   \n",
       "2         3.039832            1.220678      3.547149             3.105334   \n",
       "3         1.078295            1.326782      2.949532             3.042156   \n",
       "4         3.013851            1.409040      3.242394             2.893686   \n",
       "...            ...                 ...           ...                  ...   \n",
       "6360      3.169735            1.304629      2.976291             3.228533   \n",
       "6361      3.559444            1.293802      4.510471             3.054791   \n",
       "6362      3.091793            1.121000      1.644289             3.029520   \n",
       "6363      2.883948            1.085651      4.007998             3.162195   \n",
       "6364      3.078803            1.297894      3.306318             3.007407   \n",
       "\n",
       "      Densidad_cuarta  pH_ident  Sulfatos_ident  Alcohol_raiz4  \\\n",
       "0          377.644920  3.342822        3.262488       1.460077   \n",
       "1           96.376608  2.951332        3.024830       1.583549   \n",
       "2           98.990307  3.508453        3.813421       1.309897   \n",
       "3          440.476058  3.071791        2.873594       1.349404   \n",
       "4          101.357903  5.676705        2.787173       1.438962   \n",
       "...               ...       ...             ...            ...   \n",
       "6360       134.863737  4.697980        2.635936       1.293703   \n",
       "6361        94.568613  3.598797        4.375156       1.162987   \n",
       "6362        26.289894  2.755587        3.564961       1.414356   \n",
       "6363        76.879514  3.147077        3.392119       1.369315   \n",
       "6364        76.234425  4.231204        3.176067       1.331606   \n",
       "\n",
       "      CalifProductor_ident  PrecioBotella_raiz4  aleatorio_log  aleatorio2_log  \n",
       "0                  1.52642             0.100000       0.102616        0.634058  \n",
       "1                  2.28958             1.126739       0.867117        1.220907  \n",
       "2                  2.28958             1.164986      -0.322346        1.108418  \n",
       "3                  1.52642             1.371832      -0.645216        0.454202  \n",
       "4                  0.76326             0.993743       0.568469        0.060327  \n",
       "...                    ...                  ...            ...             ...  \n",
       "6360               3.05274             0.659962       0.863476        0.522418  \n",
       "6361               1.52642             1.212342      -0.159751       -1.926951  \n",
       "6362               3.05274             0.860624      -1.777896        0.606717  \n",
       "6363               0.76326             0.100000       0.673409       -1.546396  \n",
       "6364               0.76326             1.049288       1.034601        1.223416  \n",
       "\n",
       "[6365 rows x 12 columns]"
      ]
     },
     "execution_count": 18,
     "metadata": {},
     "output_type": "execute_result"
    }
   ],
   "source": [
    "# Aplicar a las variables continuas la mejor transfromación según cramer frente a varObjBin\n",
    "transf_cramer = imputDep.select_dtypes(include=np.number).apply(lambda x: mejorTransf(x,varObjBin, tipo='cramer'))\n",
    "transf_cramer_names = imputDep.select_dtypes(include=np.number).apply(lambda x: mejorTransf(x,varObjBin,tipo='cramer', name=True))\n",
    "transf_cramer.columns = transf_cramer_names.values\n",
    "transf_cramer"
   ]
  },
  {
   "cell_type": "code",
   "execution_count": 19,
   "metadata": {},
   "outputs": [
    {
     "data": {
      "application/vnd.plotly.v1+json": {
       "config": {
        "plotlyServerURL": "https://plot.ly"
       },
       "data": [
        {
         "alignmentgroup": "True",
         "hovertemplate": "VCramer=%{x}<br>index=%{y}<extra></extra>",
         "legendgroup": "",
         "marker": {
          "color": "#636efa",
          "pattern": {
           "shape": ""
          }
         },
         "name": "",
         "offsetgroup": "",
         "orientation": "h",
         "showlegend": false,
         "textposition": "auto",
         "type": "bar",
         "x": [
          0.0490139020069517,
          0.017287068930918723,
          0.030198220022428765,
          0.04924265764035149,
          0.015961225174479766,
          0.03787888464078642,
          0.038660844242491235,
          0.03226442674163672,
          0.29538473897042367,
          0.02006235093136444,
          0.022128952508151875,
          0.5964335615521507,
          0.01500594863928116,
          0.04401754493443614,
          0.010220120573665514,
          0.01353620664370138,
          0.0490139020069517,
          0.033181181618948674,
          0.030198220022428765,
          0.04909517130709967,
          0.03331218812079083,
          0.03567191824521657,
          0.03863081730814698,
          0.03592914394739318,
          0.28880087698313894,
          0.028101193906230143,
          0.04318670668690066,
          0.03486569005705042
         ],
         "xaxis": "x",
         "y": [
          "Acidez",
          "AcidoCitrico",
          "Azucar",
          "CloruroSodico",
          "Densidad",
          "pH",
          "Sulfatos",
          "Alcohol",
          "CalifProductor",
          "PrecioBotella",
          "Etiqueta",
          "Clasificacion",
          "Region",
          "prop_missings",
          "aleatorio",
          "aleatorio2",
          "Acidez_ident",
          "AcidoCitrico_raiz4",
          "Azucar_ident",
          "CloruroSodico_ident",
          "Densidad_cuarta",
          "pH_ident",
          "Sulfatos_ident",
          "Alcohol_raiz4",
          "CalifProductor_ident",
          "PrecioBotella_raiz4",
          "aleatorio_log",
          "aleatorio2_log"
         ],
         "yaxis": "y"
        }
       ],
       "layout": {
        "barmode": "relative",
        "legend": {
         "tracegroupgap": 0
        },
        "template": {
         "data": {
          "bar": [
           {
            "error_x": {
             "color": "#2a3f5f"
            },
            "error_y": {
             "color": "#2a3f5f"
            },
            "marker": {
             "line": {
              "color": "#E5ECF6",
              "width": 0.5
             },
             "pattern": {
              "fillmode": "overlay",
              "size": 10,
              "solidity": 0.2
             }
            },
            "type": "bar"
           }
          ],
          "barpolar": [
           {
            "marker": {
             "line": {
              "color": "#E5ECF6",
              "width": 0.5
             },
             "pattern": {
              "fillmode": "overlay",
              "size": 10,
              "solidity": 0.2
             }
            },
            "type": "barpolar"
           }
          ],
          "carpet": [
           {
            "aaxis": {
             "endlinecolor": "#2a3f5f",
             "gridcolor": "white",
             "linecolor": "white",
             "minorgridcolor": "white",
             "startlinecolor": "#2a3f5f"
            },
            "baxis": {
             "endlinecolor": "#2a3f5f",
             "gridcolor": "white",
             "linecolor": "white",
             "minorgridcolor": "white",
             "startlinecolor": "#2a3f5f"
            },
            "type": "carpet"
           }
          ],
          "choropleth": [
           {
            "colorbar": {
             "outlinewidth": 0,
             "ticks": ""
            },
            "type": "choropleth"
           }
          ],
          "contour": [
           {
            "colorbar": {
             "outlinewidth": 0,
             "ticks": ""
            },
            "colorscale": [
             [
              0,
              "#0d0887"
             ],
             [
              0.1111111111111111,
              "#46039f"
             ],
             [
              0.2222222222222222,
              "#7201a8"
             ],
             [
              0.3333333333333333,
              "#9c179e"
             ],
             [
              0.4444444444444444,
              "#bd3786"
             ],
             [
              0.5555555555555556,
              "#d8576b"
             ],
             [
              0.6666666666666666,
              "#ed7953"
             ],
             [
              0.7777777777777778,
              "#fb9f3a"
             ],
             [
              0.8888888888888888,
              "#fdca26"
             ],
             [
              1,
              "#f0f921"
             ]
            ],
            "type": "contour"
           }
          ],
          "contourcarpet": [
           {
            "colorbar": {
             "outlinewidth": 0,
             "ticks": ""
            },
            "type": "contourcarpet"
           }
          ],
          "heatmap": [
           {
            "colorbar": {
             "outlinewidth": 0,
             "ticks": ""
            },
            "colorscale": [
             [
              0,
              "#0d0887"
             ],
             [
              0.1111111111111111,
              "#46039f"
             ],
             [
              0.2222222222222222,
              "#7201a8"
             ],
             [
              0.3333333333333333,
              "#9c179e"
             ],
             [
              0.4444444444444444,
              "#bd3786"
             ],
             [
              0.5555555555555556,
              "#d8576b"
             ],
             [
              0.6666666666666666,
              "#ed7953"
             ],
             [
              0.7777777777777778,
              "#fb9f3a"
             ],
             [
              0.8888888888888888,
              "#fdca26"
             ],
             [
              1,
              "#f0f921"
             ]
            ],
            "type": "heatmap"
           }
          ],
          "heatmapgl": [
           {
            "colorbar": {
             "outlinewidth": 0,
             "ticks": ""
            },
            "colorscale": [
             [
              0,
              "#0d0887"
             ],
             [
              0.1111111111111111,
              "#46039f"
             ],
             [
              0.2222222222222222,
              "#7201a8"
             ],
             [
              0.3333333333333333,
              "#9c179e"
             ],
             [
              0.4444444444444444,
              "#bd3786"
             ],
             [
              0.5555555555555556,
              "#d8576b"
             ],
             [
              0.6666666666666666,
              "#ed7953"
             ],
             [
              0.7777777777777778,
              "#fb9f3a"
             ],
             [
              0.8888888888888888,
              "#fdca26"
             ],
             [
              1,
              "#f0f921"
             ]
            ],
            "type": "heatmapgl"
           }
          ],
          "histogram": [
           {
            "marker": {
             "pattern": {
              "fillmode": "overlay",
              "size": 10,
              "solidity": 0.2
             }
            },
            "type": "histogram"
           }
          ],
          "histogram2d": [
           {
            "colorbar": {
             "outlinewidth": 0,
             "ticks": ""
            },
            "colorscale": [
             [
              0,
              "#0d0887"
             ],
             [
              0.1111111111111111,
              "#46039f"
             ],
             [
              0.2222222222222222,
              "#7201a8"
             ],
             [
              0.3333333333333333,
              "#9c179e"
             ],
             [
              0.4444444444444444,
              "#bd3786"
             ],
             [
              0.5555555555555556,
              "#d8576b"
             ],
             [
              0.6666666666666666,
              "#ed7953"
             ],
             [
              0.7777777777777778,
              "#fb9f3a"
             ],
             [
              0.8888888888888888,
              "#fdca26"
             ],
             [
              1,
              "#f0f921"
             ]
            ],
            "type": "histogram2d"
           }
          ],
          "histogram2dcontour": [
           {
            "colorbar": {
             "outlinewidth": 0,
             "ticks": ""
            },
            "colorscale": [
             [
              0,
              "#0d0887"
             ],
             [
              0.1111111111111111,
              "#46039f"
             ],
             [
              0.2222222222222222,
              "#7201a8"
             ],
             [
              0.3333333333333333,
              "#9c179e"
             ],
             [
              0.4444444444444444,
              "#bd3786"
             ],
             [
              0.5555555555555556,
              "#d8576b"
             ],
             [
              0.6666666666666666,
              "#ed7953"
             ],
             [
              0.7777777777777778,
              "#fb9f3a"
             ],
             [
              0.8888888888888888,
              "#fdca26"
             ],
             [
              1,
              "#f0f921"
             ]
            ],
            "type": "histogram2dcontour"
           }
          ],
          "mesh3d": [
           {
            "colorbar": {
             "outlinewidth": 0,
             "ticks": ""
            },
            "type": "mesh3d"
           }
          ],
          "parcoords": [
           {
            "line": {
             "colorbar": {
              "outlinewidth": 0,
              "ticks": ""
             }
            },
            "type": "parcoords"
           }
          ],
          "pie": [
           {
            "automargin": true,
            "type": "pie"
           }
          ],
          "scatter": [
           {
            "fillpattern": {
             "fillmode": "overlay",
             "size": 10,
             "solidity": 0.2
            },
            "type": "scatter"
           }
          ],
          "scatter3d": [
           {
            "line": {
             "colorbar": {
              "outlinewidth": 0,
              "ticks": ""
             }
            },
            "marker": {
             "colorbar": {
              "outlinewidth": 0,
              "ticks": ""
             }
            },
            "type": "scatter3d"
           }
          ],
          "scattercarpet": [
           {
            "marker": {
             "colorbar": {
              "outlinewidth": 0,
              "ticks": ""
             }
            },
            "type": "scattercarpet"
           }
          ],
          "scattergeo": [
           {
            "marker": {
             "colorbar": {
              "outlinewidth": 0,
              "ticks": ""
             }
            },
            "type": "scattergeo"
           }
          ],
          "scattergl": [
           {
            "marker": {
             "colorbar": {
              "outlinewidth": 0,
              "ticks": ""
             }
            },
            "type": "scattergl"
           }
          ],
          "scattermapbox": [
           {
            "marker": {
             "colorbar": {
              "outlinewidth": 0,
              "ticks": ""
             }
            },
            "type": "scattermapbox"
           }
          ],
          "scatterpolar": [
           {
            "marker": {
             "colorbar": {
              "outlinewidth": 0,
              "ticks": ""
             }
            },
            "type": "scatterpolar"
           }
          ],
          "scatterpolargl": [
           {
            "marker": {
             "colorbar": {
              "outlinewidth": 0,
              "ticks": ""
             }
            },
            "type": "scatterpolargl"
           }
          ],
          "scatterternary": [
           {
            "marker": {
             "colorbar": {
              "outlinewidth": 0,
              "ticks": ""
             }
            },
            "type": "scatterternary"
           }
          ],
          "surface": [
           {
            "colorbar": {
             "outlinewidth": 0,
             "ticks": ""
            },
            "colorscale": [
             [
              0,
              "#0d0887"
             ],
             [
              0.1111111111111111,
              "#46039f"
             ],
             [
              0.2222222222222222,
              "#7201a8"
             ],
             [
              0.3333333333333333,
              "#9c179e"
             ],
             [
              0.4444444444444444,
              "#bd3786"
             ],
             [
              0.5555555555555556,
              "#d8576b"
             ],
             [
              0.6666666666666666,
              "#ed7953"
             ],
             [
              0.7777777777777778,
              "#fb9f3a"
             ],
             [
              0.8888888888888888,
              "#fdca26"
             ],
             [
              1,
              "#f0f921"
             ]
            ],
            "type": "surface"
           }
          ],
          "table": [
           {
            "cells": {
             "fill": {
              "color": "#EBF0F8"
             },
             "line": {
              "color": "white"
             }
            },
            "header": {
             "fill": {
              "color": "#C8D4E3"
             },
             "line": {
              "color": "white"
             }
            },
            "type": "table"
           }
          ]
         },
         "layout": {
          "annotationdefaults": {
           "arrowcolor": "#2a3f5f",
           "arrowhead": 0,
           "arrowwidth": 1
          },
          "autotypenumbers": "strict",
          "coloraxis": {
           "colorbar": {
            "outlinewidth": 0,
            "ticks": ""
           }
          },
          "colorscale": {
           "diverging": [
            [
             0,
             "#8e0152"
            ],
            [
             0.1,
             "#c51b7d"
            ],
            [
             0.2,
             "#de77ae"
            ],
            [
             0.3,
             "#f1b6da"
            ],
            [
             0.4,
             "#fde0ef"
            ],
            [
             0.5,
             "#f7f7f7"
            ],
            [
             0.6,
             "#e6f5d0"
            ],
            [
             0.7,
             "#b8e186"
            ],
            [
             0.8,
             "#7fbc41"
            ],
            [
             0.9,
             "#4d9221"
            ],
            [
             1,
             "#276419"
            ]
           ],
           "sequential": [
            [
             0,
             "#0d0887"
            ],
            [
             0.1111111111111111,
             "#46039f"
            ],
            [
             0.2222222222222222,
             "#7201a8"
            ],
            [
             0.3333333333333333,
             "#9c179e"
            ],
            [
             0.4444444444444444,
             "#bd3786"
            ],
            [
             0.5555555555555556,
             "#d8576b"
            ],
            [
             0.6666666666666666,
             "#ed7953"
            ],
            [
             0.7777777777777778,
             "#fb9f3a"
            ],
            [
             0.8888888888888888,
             "#fdca26"
            ],
            [
             1,
             "#f0f921"
            ]
           ],
           "sequentialminus": [
            [
             0,
             "#0d0887"
            ],
            [
             0.1111111111111111,
             "#46039f"
            ],
            [
             0.2222222222222222,
             "#7201a8"
            ],
            [
             0.3333333333333333,
             "#9c179e"
            ],
            [
             0.4444444444444444,
             "#bd3786"
            ],
            [
             0.5555555555555556,
             "#d8576b"
            ],
            [
             0.6666666666666666,
             "#ed7953"
            ],
            [
             0.7777777777777778,
             "#fb9f3a"
            ],
            [
             0.8888888888888888,
             "#fdca26"
            ],
            [
             1,
             "#f0f921"
            ]
           ]
          },
          "colorway": [
           "#636efa",
           "#EF553B",
           "#00cc96",
           "#ab63fa",
           "#FFA15A",
           "#19d3f3",
           "#FF6692",
           "#B6E880",
           "#FF97FF",
           "#FECB52"
          ],
          "font": {
           "color": "#2a3f5f"
          },
          "geo": {
           "bgcolor": "white",
           "lakecolor": "white",
           "landcolor": "#E5ECF6",
           "showlakes": true,
           "showland": true,
           "subunitcolor": "white"
          },
          "hoverlabel": {
           "align": "left"
          },
          "hovermode": "closest",
          "mapbox": {
           "style": "light"
          },
          "paper_bgcolor": "white",
          "plot_bgcolor": "#E5ECF6",
          "polar": {
           "angularaxis": {
            "gridcolor": "white",
            "linecolor": "white",
            "ticks": ""
           },
           "bgcolor": "#E5ECF6",
           "radialaxis": {
            "gridcolor": "white",
            "linecolor": "white",
            "ticks": ""
           }
          },
          "scene": {
           "xaxis": {
            "backgroundcolor": "#E5ECF6",
            "gridcolor": "white",
            "gridwidth": 2,
            "linecolor": "white",
            "showbackground": true,
            "ticks": "",
            "zerolinecolor": "white"
           },
           "yaxis": {
            "backgroundcolor": "#E5ECF6",
            "gridcolor": "white",
            "gridwidth": 2,
            "linecolor": "white",
            "showbackground": true,
            "ticks": "",
            "zerolinecolor": "white"
           },
           "zaxis": {
            "backgroundcolor": "#E5ECF6",
            "gridcolor": "white",
            "gridwidth": 2,
            "linecolor": "white",
            "showbackground": true,
            "ticks": "",
            "zerolinecolor": "white"
           }
          },
          "shapedefaults": {
           "line": {
            "color": "#2a3f5f"
           }
          },
          "ternary": {
           "aaxis": {
            "gridcolor": "white",
            "linecolor": "white",
            "ticks": ""
           },
           "baxis": {
            "gridcolor": "white",
            "linecolor": "white",
            "ticks": ""
           },
           "bgcolor": "#E5ECF6",
           "caxis": {
            "gridcolor": "white",
            "linecolor": "white",
            "ticks": ""
           }
          },
          "title": {
           "x": 0.05
          },
          "xaxis": {
           "automargin": true,
           "gridcolor": "white",
           "linecolor": "white",
           "ticks": "",
           "title": {
            "standoff": 15
           },
           "zerolinecolor": "white",
           "zerolinewidth": 2
          },
          "yaxis": {
           "automargin": true,
           "gridcolor": "white",
           "linecolor": "white",
           "ticks": "",
           "title": {
            "standoff": 15
           },
           "zerolinecolor": "white",
           "zerolinewidth": 2
          }
         }
        },
        "title": {
         "text": "Relaciones frente a Compra"
        },
        "xaxis": {
         "anchor": "y",
         "domain": [
          0,
          1
         ],
         "title": {
          "text": "VCramer"
         }
        },
        "yaxis": {
         "anchor": "x",
         "categoryorder": "total ascending",
         "domain": [
          0,
          1
         ],
         "title": {
          "text": "index"
         }
        }
       }
      }
     },
     "metadata": {},
     "output_type": "display_data"
    }
   ],
   "source": [
    "# Generar input con tranformaciones\n",
    "imput_transf = imputDep.join(transf_cramer)\n",
    "\n",
    "# Aplicar la función al input completo contra la objetivo\n",
    "tablaCramer = pd.DataFrame(imput_transf.apply(lambda x: cramers_v(x,varObjBin)),columns=['VCramer'])\n",
    "\n",
    "# Obtener el gráfico de importancia de las variables frente a la objetivo continua según vcramer\n",
    "import plotly.express as px\n",
    "px.bar(tablaCramer,x=tablaCramer.VCramer,title='Relaciones frente a Compra').update_yaxes(categoryorder=\"total ascending\").show()"
   ]
  },
  {
   "cell_type": "code",
   "execution_count": 20,
   "metadata": {},
   "outputs": [],
   "source": [
    "# Guardar archivo con transformaciones para la variable objetivo binaria\n",
    "# Agregar variables objetivo al input ya limpio\n",
    "todo_bin = pd.concat([imput_transf,varObjBin], axis=1)\n",
    "\n",
    "# Guardar archivo\n",
    "todo_bin.to_csv('todo_bin_Vino.csv')"
   ]
  },
  {
   "cell_type": "markdown",
   "metadata": {},
   "source": [
    "## Modelos de regresión logística para la predicción de la variable compra"
   ]
  },
  {
   "cell_type": "code",
   "execution_count": 21,
   "metadata": {},
   "outputs": [
    {
     "name": "stdout",
     "output_type": "stream",
     "text": [
      "<class 'pandas.core.frame.DataFrame'>\n",
      "Index: 6365 entries, 0 to 6364\n",
      "Data columns (total 19 columns):\n",
      " #   Column          Non-Null Count  Dtype   \n",
      "---  ------          --------------  -----   \n",
      " 0   ID              6365 non-null   int64   \n",
      " 1   Acidez          6365 non-null   float64 \n",
      " 2   AcidoCitrico    6365 non-null   float64 \n",
      " 3   Azucar          6365 non-null   float64 \n",
      " 4   CloruroSodico   6365 non-null   float64 \n",
      " 5   Densidad        6365 non-null   float64 \n",
      " 6   pH              6365 non-null   float64 \n",
      " 7   Sulfatos        6365 non-null   float64 \n",
      " 8   Alcohol         6365 non-null   float64 \n",
      " 9   CalifProductor  6365 non-null   int64   \n",
      " 10  PrecioBotella   6365 non-null   float64 \n",
      " 11  Etiqueta        6365 non-null   category\n",
      " 12  Clasificacion   6365 non-null   category\n",
      " 13  Region          6365 non-null   category\n",
      " 14  prop_missings   6365 non-null   category\n",
      " 15  Beneficio       6365 non-null   int64   \n",
      " 16  Compra          6365 non-null   category\n",
      " 17  aleatorio       6365 non-null   float64 \n",
      " 18  aleatorio2      6365 non-null   float64 \n",
      "dtypes: category(5), float64(11), int64(3)\n",
      "memory usage: 777.8 KB\n"
     ]
    }
   ],
   "source": [
    "# Se trabaja con el archivo con variable originales\n",
    "vinosDep.info()"
   ]
  },
  {
   "cell_type": "code",
   "execution_count": 22,
   "metadata": {},
   "outputs": [
    {
     "data": {
      "text/plain": [
       "Compra\n",
       "1    0.785232\n",
       "0    0.214768\n",
       "Name: proportion, dtype: float64"
      ]
     },
     "execution_count": 22,
     "metadata": {},
     "output_type": "execute_result"
    }
   ],
   "source": [
    "# Tabla de frecuencias relativas de las categorías de Compra\n",
    "vinosDep.Compra.value_counts(normalize=True)"
   ]
  },
  {
   "cell_type": "markdown",
   "metadata": {},
   "source": [
    "### Partición training-test"
   ]
  },
  {
   "cell_type": "code",
   "execution_count": 23,
   "metadata": {},
   "outputs": [
    {
     "name": "stdout",
     "output_type": "stream",
     "text": [
      "Training dataset shape: (5092, 16) (5092,)\n",
      "Testing dataset shape: (1273, 16) (1273,)\n"
     ]
    }
   ],
   "source": [
    "# Función necesaria\n",
    "from sklearn.model_selection import train_test_split\n",
    "\n",
    "# Crear 4 objetos: predictores para tr y tst y variable objetivo para tr y tst. \n",
    "X_train, X_test, y_train, y_test = train_test_split(imputDep, varObjBin, test_size=0.2, random_state=1234)\n",
    "\n",
    "# Comprobar dimensiones\n",
    "print('Training dataset shape:', X_train.shape, y_train.shape)\n",
    "print('Testing dataset shape:', X_test.shape, y_test.shape)"
   ]
  },
  {
   "cell_type": "code",
   "execution_count": 24,
   "metadata": {},
   "outputs": [
    {
     "name": "stdout",
     "output_type": "stream",
     "text": [
      "Compra\n",
      "1    0.784171\n",
      "0    0.215829\n",
      "Name: proportion, dtype: float64\n"
     ]
    },
    {
     "data": {
      "text/plain": [
       "Compra\n",
       "1    0.789474\n",
       "0    0.210526\n",
       "Name: proportion, dtype: float64"
      ]
     },
     "execution_count": 24,
     "metadata": {},
     "output_type": "execute_result"
    }
   ],
   "source": [
    "# ¿ Mantendrá la proporción de clases de la variable objetivo esta partición?\n",
    "# Training \n",
    "print(y_train.value_counts(normalize=True))\n",
    "\n",
    "# Test\n",
    "y_test.value_counts(normalize=True)"
   ]
  },
  {
   "cell_type": "markdown",
   "metadata": {},
   "source": [
    "## Modelo completo de referencia"
   ]
  },
  {
   "cell_type": "code",
   "execution_count": 25,
   "metadata": {},
   "outputs": [],
   "source": [
    "# Generar el training con la objetivo dentro (método logit de *statmodels.formula.api* no acepta categórica como objetivo, por lo que se transforma en entera int64)\n",
    "data_train = X_train.join(y_train.astype('int64'))"
   ]
  },
  {
   "cell_type": "code",
   "execution_count": 26,
   "metadata": {},
   "outputs": [
    {
     "data": {
      "text/plain": [
       "'Compra ~ Acidez + AcidoCitrico + Azucar + CloruroSodico + Densidad + pH + Sulfatos + Alcohol + CalifProductor + PrecioBotella + Etiqueta + Clasificacion + Region + prop_missings + aleatorio + aleatorio2'"
      ]
     },
     "execution_count": 26,
     "metadata": {},
     "output_type": "execute_result"
    }
   ],
   "source": [
    "# Aplicar a fórmula de modelo completo\n",
    "formC=ols_formula(data_train,'Compra')\n",
    "formC"
   ]
  },
  {
   "cell_type": "code",
   "execution_count": 27,
   "metadata": {},
   "outputs": [
    {
     "data": {
      "text/html": [
       "<div>\n",
       "<style scoped>\n",
       "    .dataframe tbody tr th:only-of-type {\n",
       "        vertical-align: middle;\n",
       "    }\n",
       "\n",
       "    .dataframe tbody tr th {\n",
       "        vertical-align: top;\n",
       "    }\n",
       "\n",
       "    .dataframe thead th {\n",
       "        text-align: right;\n",
       "    }\n",
       "</style>\n",
       "<table border=\"1\" class=\"dataframe\">\n",
       "  <thead>\n",
       "    <tr style=\"text-align: right;\">\n",
       "      <th></th>\n",
       "      <th>Acidez</th>\n",
       "      <th>AcidoCitrico</th>\n",
       "      <th>Azucar</th>\n",
       "      <th>CloruroSodico</th>\n",
       "      <th>Densidad</th>\n",
       "      <th>pH</th>\n",
       "      <th>Sulfatos</th>\n",
       "      <th>Alcohol</th>\n",
       "      <th>CalifProductor</th>\n",
       "      <th>PrecioBotella</th>\n",
       "      <th>Etiqueta</th>\n",
       "      <th>Clasificacion</th>\n",
       "      <th>Region</th>\n",
       "      <th>prop_missings</th>\n",
       "      <th>aleatorio</th>\n",
       "      <th>aleatorio2</th>\n",
       "      <th>Compra</th>\n",
       "    </tr>\n",
       "  </thead>\n",
       "  <tbody>\n",
       "    <tr>\n",
       "      <th>3574</th>\n",
       "      <td>0.24</td>\n",
       "      <td>0.56</td>\n",
       "      <td>4.3</td>\n",
       "      <td>0.044</td>\n",
       "      <td>0.97323</td>\n",
       "      <td>2.61</td>\n",
       "      <td>0.44</td>\n",
       "      <td>13.3</td>\n",
       "      <td>4</td>\n",
       "      <td>2.32</td>\n",
       "      <td>M</td>\n",
       "      <td>Desc</td>\n",
       "      <td>2.0</td>\n",
       "      <td>0.000000</td>\n",
       "      <td>0.883892</td>\n",
       "      <td>0.726499</td>\n",
       "      <td>0</td>\n",
       "    </tr>\n",
       "    <tr>\n",
       "      <th>2287</th>\n",
       "      <td>0.24</td>\n",
       "      <td>0.30</td>\n",
       "      <td>-23.3</td>\n",
       "      <td>0.035</td>\n",
       "      <td>1.04440</td>\n",
       "      <td>3.22</td>\n",
       "      <td>0.57</td>\n",
       "      <td>5.4</td>\n",
       "      <td>3</td>\n",
       "      <td>1.09</td>\n",
       "      <td>MB</td>\n",
       "      <td>***</td>\n",
       "      <td>3.0</td>\n",
       "      <td>0.000000</td>\n",
       "      <td>0.533957</td>\n",
       "      <td>0.289682</td>\n",
       "      <td>1</td>\n",
       "    </tr>\n",
       "    <tr>\n",
       "      <th>5692</th>\n",
       "      <td>0.82</td>\n",
       "      <td>0.31</td>\n",
       "      <td>109.9</td>\n",
       "      <td>-0.448</td>\n",
       "      <td>0.99013</td>\n",
       "      <td>2.63</td>\n",
       "      <td>1.98</td>\n",
       "      <td>18.4</td>\n",
       "      <td>2</td>\n",
       "      <td>2.20</td>\n",
       "      <td>MM</td>\n",
       "      <td>*</td>\n",
       "      <td>2.0</td>\n",
       "      <td>0.000000</td>\n",
       "      <td>0.231473</td>\n",
       "      <td>0.628761</td>\n",
       "      <td>1</td>\n",
       "    </tr>\n",
       "    <tr>\n",
       "      <th>3525</th>\n",
       "      <td>0.61</td>\n",
       "      <td>0.28</td>\n",
       "      <td>1.6</td>\n",
       "      <td>0.147</td>\n",
       "      <td>1.02338</td>\n",
       "      <td>2.15</td>\n",
       "      <td>1.06</td>\n",
       "      <td>14.0</td>\n",
       "      <td>3</td>\n",
       "      <td>3.07</td>\n",
       "      <td>R</td>\n",
       "      <td>***</td>\n",
       "      <td>2.0</td>\n",
       "      <td>0.000000</td>\n",
       "      <td>0.657205</td>\n",
       "      <td>0.850955</td>\n",
       "      <td>1</td>\n",
       "    </tr>\n",
       "    <tr>\n",
       "      <th>809</th>\n",
       "      <td>0.58</td>\n",
       "      <td>-0.37</td>\n",
       "      <td>1.3</td>\n",
       "      <td>0.338</td>\n",
       "      <td>0.99410</td>\n",
       "      <td>5.19</td>\n",
       "      <td>-1.05</td>\n",
       "      <td>20.6</td>\n",
       "      <td>3</td>\n",
       "      <td>3.75</td>\n",
       "      <td>M</td>\n",
       "      <td>*</td>\n",
       "      <td>1.0</td>\n",
       "      <td>0.000000</td>\n",
       "      <td>0.110023</td>\n",
       "      <td>0.479913</td>\n",
       "      <td>1</td>\n",
       "    </tr>\n",
       "    <tr>\n",
       "      <th>...</th>\n",
       "      <td>...</td>\n",
       "      <td>...</td>\n",
       "      <td>...</td>\n",
       "      <td>...</td>\n",
       "      <td>...</td>\n",
       "      <td>...</td>\n",
       "      <td>...</td>\n",
       "      <td>...</td>\n",
       "      <td>...</td>\n",
       "      <td>...</td>\n",
       "      <td>...</td>\n",
       "      <td>...</td>\n",
       "      <td>...</td>\n",
       "      <td>...</td>\n",
       "      <td>...</td>\n",
       "      <td>...</td>\n",
       "      <td>...</td>\n",
       "    </tr>\n",
       "    <tr>\n",
       "      <th>664</th>\n",
       "      <td>0.18</td>\n",
       "      <td>0.31</td>\n",
       "      <td>11.8</td>\n",
       "      <td>0.607</td>\n",
       "      <td>0.97072</td>\n",
       "      <td>3.07</td>\n",
       "      <td>-1.20</td>\n",
       "      <td>2.9</td>\n",
       "      <td>4</td>\n",
       "      <td>1.51</td>\n",
       "      <td>M</td>\n",
       "      <td>**</td>\n",
       "      <td>2.0</td>\n",
       "      <td>6.666667</td>\n",
       "      <td>0.059942</td>\n",
       "      <td>0.617452</td>\n",
       "      <td>1</td>\n",
       "    </tr>\n",
       "    <tr>\n",
       "      <th>3276</th>\n",
       "      <td>0.58</td>\n",
       "      <td>0.07</td>\n",
       "      <td>6.9</td>\n",
       "      <td>0.084</td>\n",
       "      <td>0.99440</td>\n",
       "      <td>2.55</td>\n",
       "      <td>2.23</td>\n",
       "      <td>9.7</td>\n",
       "      <td>1</td>\n",
       "      <td>2.04</td>\n",
       "      <td>M</td>\n",
       "      <td>**</td>\n",
       "      <td>3.0</td>\n",
       "      <td>0.000000</td>\n",
       "      <td>0.566280</td>\n",
       "      <td>0.167737</td>\n",
       "      <td>1</td>\n",
       "    </tr>\n",
       "    <tr>\n",
       "      <th>1318</th>\n",
       "      <td>0.44</td>\n",
       "      <td>1.42</td>\n",
       "      <td>2.7</td>\n",
       "      <td>-0.107</td>\n",
       "      <td>0.99630</td>\n",
       "      <td>3.84</td>\n",
       "      <td>0.63</td>\n",
       "      <td>11.6</td>\n",
       "      <td>6</td>\n",
       "      <td>2.92</td>\n",
       "      <td>M</td>\n",
       "      <td>**</td>\n",
       "      <td>2.0</td>\n",
       "      <td>0.000000</td>\n",
       "      <td>0.970512</td>\n",
       "      <td>0.545806</td>\n",
       "      <td>1</td>\n",
       "    </tr>\n",
       "    <tr>\n",
       "      <th>723</th>\n",
       "      <td>0.24</td>\n",
       "      <td>0.20</td>\n",
       "      <td>15.8</td>\n",
       "      <td>0.447</td>\n",
       "      <td>0.97091</td>\n",
       "      <td>3.54</td>\n",
       "      <td>2.15</td>\n",
       "      <td>15.9</td>\n",
       "      <td>3</td>\n",
       "      <td>1.94</td>\n",
       "      <td>M</td>\n",
       "      <td>Desc</td>\n",
       "      <td>1.0</td>\n",
       "      <td>6.666667</td>\n",
       "      <td>0.684759</td>\n",
       "      <td>0.982550</td>\n",
       "      <td>0</td>\n",
       "    </tr>\n",
       "    <tr>\n",
       "      <th>2863</th>\n",
       "      <td>0.31</td>\n",
       "      <td>0.24</td>\n",
       "      <td>34.7</td>\n",
       "      <td>0.031</td>\n",
       "      <td>0.99397</td>\n",
       "      <td>3.16</td>\n",
       "      <td>-2.32</td>\n",
       "      <td>8.1</td>\n",
       "      <td>3</td>\n",
       "      <td>2.82</td>\n",
       "      <td>R</td>\n",
       "      <td>*</td>\n",
       "      <td>2.0</td>\n",
       "      <td>0.000000</td>\n",
       "      <td>0.674169</td>\n",
       "      <td>0.704391</td>\n",
       "      <td>1</td>\n",
       "    </tr>\n",
       "  </tbody>\n",
       "</table>\n",
       "<p>5092 rows × 17 columns</p>\n",
       "</div>"
      ],
      "text/plain": [
       "      Acidez  AcidoCitrico  Azucar  CloruroSodico  Densidad    pH  Sulfatos  \\\n",
       "3574    0.24          0.56     4.3          0.044   0.97323  2.61      0.44   \n",
       "2287    0.24          0.30   -23.3          0.035   1.04440  3.22      0.57   \n",
       "5692    0.82          0.31   109.9         -0.448   0.99013  2.63      1.98   \n",
       "3525    0.61          0.28     1.6          0.147   1.02338  2.15      1.06   \n",
       "809     0.58         -0.37     1.3          0.338   0.99410  5.19     -1.05   \n",
       "...      ...           ...     ...            ...       ...   ...       ...   \n",
       "664     0.18          0.31    11.8          0.607   0.97072  3.07     -1.20   \n",
       "3276    0.58          0.07     6.9          0.084   0.99440  2.55      2.23   \n",
       "1318    0.44          1.42     2.7         -0.107   0.99630  3.84      0.63   \n",
       "723     0.24          0.20    15.8          0.447   0.97091  3.54      2.15   \n",
       "2863    0.31          0.24    34.7          0.031   0.99397  3.16     -2.32   \n",
       "\n",
       "      Alcohol  CalifProductor  PrecioBotella Etiqueta Clasificacion Region  \\\n",
       "3574     13.3               4           2.32        M          Desc    2.0   \n",
       "2287      5.4               3           1.09       MB           ***    3.0   \n",
       "5692     18.4               2           2.20       MM             *    2.0   \n",
       "3525     14.0               3           3.07        R           ***    2.0   \n",
       "809      20.6               3           3.75        M             *    1.0   \n",
       "...       ...             ...            ...      ...           ...    ...   \n",
       "664       2.9               4           1.51        M            **    2.0   \n",
       "3276      9.7               1           2.04        M            **    3.0   \n",
       "1318     11.6               6           2.92        M            **    2.0   \n",
       "723      15.9               3           1.94        M          Desc    1.0   \n",
       "2863      8.1               3           2.82        R             *    2.0   \n",
       "\n",
       "     prop_missings  aleatorio  aleatorio2  Compra  \n",
       "3574      0.000000   0.883892    0.726499       0  \n",
       "2287      0.000000   0.533957    0.289682       1  \n",
       "5692      0.000000   0.231473    0.628761       1  \n",
       "3525      0.000000   0.657205    0.850955       1  \n",
       "809       0.000000   0.110023    0.479913       1  \n",
       "...            ...        ...         ...     ...  \n",
       "664       6.666667   0.059942    0.617452       1  \n",
       "3276      0.000000   0.566280    0.167737       1  \n",
       "1318      0.000000   0.970512    0.545806       1  \n",
       "723       6.666667   0.684759    0.982550       0  \n",
       "2863      0.000000   0.674169    0.704391       1  \n",
       "\n",
       "[5092 rows x 17 columns]"
      ]
     },
     "execution_count": 27,
     "metadata": {},
     "output_type": "execute_result"
    }
   ],
   "source": [
    "data_train"
   ]
  },
  {
   "cell_type": "code",
   "execution_count": 28,
   "metadata": {},
   "outputs": [
    {
     "name": "stdout",
     "output_type": "stream",
     "text": [
      "Warning: Maximum number of iterations has been exceeded.\n",
      "         Current function value: 0.299776\n",
      "         Iterations: 35\n"
     ]
    },
    {
     "name": "stderr",
     "output_type": "stream",
     "text": [
      "c:\\Users\\Usuario\\anaconda3\\Lib\\site-packages\\statsmodels\\base\\model.py:607: ConvergenceWarning:\n",
      "\n",
      "Maximum Likelihood optimization failed to converge. Check mle_retvals\n",
      "\n"
     ]
    },
    {
     "data": {
      "text/html": [
       "<table class=\"simpletable\">\n",
       "<caption>Logit Regression Results</caption>\n",
       "<tr>\n",
       "  <th>Dep. Variable:</th>        <td>Compra</td>      <th>  No. Observations:  </th>  <td>  5092</td> \n",
       "</tr>\n",
       "<tr>\n",
       "  <th>Model:</th>                 <td>Logit</td>      <th>  Df Residuals:      </th>  <td>  5066</td> \n",
       "</tr>\n",
       "<tr>\n",
       "  <th>Method:</th>                 <td>MLE</td>       <th>  Df Model:          </th>  <td>    25</td> \n",
       "</tr>\n",
       "<tr>\n",
       "  <th>Date:</th>            <td>Tue, 03 Dec 2024</td> <th>  Pseudo R-squ.:     </th>  <td>0.4253</td> \n",
       "</tr>\n",
       "<tr>\n",
       "  <th>Time:</th>                <td>20:23:16</td>     <th>  Log-Likelihood:    </th> <td> -1526.5</td>\n",
       "</tr>\n",
       "<tr>\n",
       "  <th>converged:</th>             <td>False</td>      <th>  LL-Null:           </th> <td> -2655.9</td>\n",
       "</tr>\n",
       "<tr>\n",
       "  <th>Covariance Type:</th>     <td>nonrobust</td>    <th>  LLR p-value:       </th>  <td> 0.000</td> \n",
       "</tr>\n",
       "</table>\n",
       "<table class=\"simpletable\">\n",
       "<tr>\n",
       "                   <td></td>                      <th>coef</th>     <th>std err</th>      <th>z</th>      <th>P>|z|</th>  <th>[0.025</th>    <th>0.975]</th>  \n",
       "</tr>\n",
       "<tr>\n",
       "  <th>Intercept</th>                           <td>    4.4814</td> <td>    1.791</td> <td>    2.502</td> <td> 0.012</td> <td>    0.971</td> <td>    7.991</td>\n",
       "</tr>\n",
       "<tr>\n",
       "  <th>Etiqueta[T.M]</th>                       <td>   -0.3466</td> <td>    0.219</td> <td>   -1.582</td> <td> 0.114</td> <td>   -0.776</td> <td>    0.083</td>\n",
       "</tr>\n",
       "<tr>\n",
       "  <th>Etiqueta[T.R]</th>                       <td>   -1.0105</td> <td>    0.214</td> <td>   -4.730</td> <td> 0.000</td> <td>   -1.429</td> <td>   -0.592</td>\n",
       "</tr>\n",
       "<tr>\n",
       "  <th>Etiqueta[T.B]</th>                       <td>   -1.4241</td> <td>    0.229</td> <td>   -6.209</td> <td> 0.000</td> <td>   -1.874</td> <td>   -0.975</td>\n",
       "</tr>\n",
       "<tr>\n",
       "  <th>Etiqueta[T.MB]</th>                      <td>   -1.9213</td> <td>    0.345</td> <td>   -5.567</td> <td> 0.000</td> <td>   -2.598</td> <td>   -1.245</td>\n",
       "</tr>\n",
       "<tr>\n",
       "  <th>Clasificacion[T.*]</th>                  <td>    1.8082</td> <td>    0.098</td> <td>   18.515</td> <td> 0.000</td> <td>    1.617</td> <td>    2.000</td>\n",
       "</tr>\n",
       "<tr>\n",
       "  <th>Clasificacion[T.**]</th>                 <td>    4.1641</td> <td>    0.179</td> <td>   23.325</td> <td> 0.000</td> <td>    3.814</td> <td>    4.514</td>\n",
       "</tr>\n",
       "<tr>\n",
       "  <th>Clasificacion[T.***]</th>                <td>   18.1892</td> <td>  207.419</td> <td>    0.088</td> <td> 0.930</td> <td> -388.344</td> <td>  424.722</td>\n",
       "</tr>\n",
       "<tr>\n",
       "  <th>Clasificacion[T.****]</th>               <td>   24.1980</td> <td> 7066.750</td> <td>    0.003</td> <td> 0.997</td> <td>-1.38e+04</td> <td> 1.39e+04</td>\n",
       "</tr>\n",
       "<tr>\n",
       "  <th>Region[T.2.0]</th>                       <td>   -0.1032</td> <td>    0.112</td> <td>   -0.918</td> <td> 0.358</td> <td>   -0.323</td> <td>    0.117</td>\n",
       "</tr>\n",
       "<tr>\n",
       "  <th>Region[T.3.0]</th>                       <td>   -0.1125</td> <td>    0.110</td> <td>   -1.021</td> <td> 0.307</td> <td>   -0.329</td> <td>    0.103</td>\n",
       "</tr>\n",
       "<tr>\n",
       "  <th>prop_missings[T.6.666666666666667]</th>  <td>   -0.1714</td> <td>    0.106</td> <td>   -1.613</td> <td> 0.107</td> <td>   -0.380</td> <td>    0.037</td>\n",
       "</tr>\n",
       "<tr>\n",
       "  <th>prop_missings[T.13.333333333333334]</th> <td>   -0.3613</td> <td>    0.253</td> <td>   -1.430</td> <td> 0.153</td> <td>   -0.857</td> <td>    0.134</td>\n",
       "</tr>\n",
       "<tr>\n",
       "  <th>prop_missings[T.20.0]</th>               <td>    0.1873</td> <td>    1.136</td> <td>    0.165</td> <td> 0.869</td> <td>   -2.038</td> <td>    2.413</td>\n",
       "</tr>\n",
       "<tr>\n",
       "  <th>Acidez</th>                              <td>   -0.1781</td> <td>    0.059</td> <td>   -3.004</td> <td> 0.003</td> <td>   -0.294</td> <td>   -0.062</td>\n",
       "</tr>\n",
       "<tr>\n",
       "  <th>AcidoCitrico</th>                        <td>    0.0108</td> <td>    0.054</td> <td>    0.198</td> <td> 0.843</td> <td>   -0.096</td> <td>    0.117</td>\n",
       "</tr>\n",
       "<tr>\n",
       "  <th>Azucar</th>                              <td>    0.0026</td> <td>    0.001</td> <td>    1.910</td> <td> 0.056</td> <td>-6.77e-05</td> <td>    0.005</td>\n",
       "</tr>\n",
       "<tr>\n",
       "  <th>CloruroSodico</th>                       <td>   -0.3353</td> <td>    0.144</td> <td>   -2.320</td> <td> 0.020</td> <td>   -0.619</td> <td>   -0.052</td>\n",
       "</tr>\n",
       "<tr>\n",
       "  <th>Densidad</th>                            <td>   -1.5423</td> <td>    1.747</td> <td>   -0.883</td> <td> 0.377</td> <td>   -4.966</td> <td>    1.881</td>\n",
       "</tr>\n",
       "<tr>\n",
       "  <th>pH</th>                                  <td>   -0.2534</td> <td>    0.068</td> <td>   -3.726</td> <td> 0.000</td> <td>   -0.387</td> <td>   -0.120</td>\n",
       "</tr>\n",
       "<tr>\n",
       "  <th>Sulfatos</th>                            <td>   -0.0240</td> <td>    0.049</td> <td>   -0.490</td> <td> 0.624</td> <td>   -0.120</td> <td>    0.072</td>\n",
       "</tr>\n",
       "<tr>\n",
       "  <th>Alcohol</th>                             <td>   -0.0126</td> <td>    0.013</td> <td>   -0.971</td> <td> 0.331</td> <td>   -0.038</td> <td>    0.013</td>\n",
       "</tr>\n",
       "<tr>\n",
       "  <th>CalifProductor</th>                      <td>   -0.4203</td> <td>    0.035</td> <td>  -12.036</td> <td> 0.000</td> <td>   -0.489</td> <td>   -0.352</td>\n",
       "</tr>\n",
       "<tr>\n",
       "  <th>PrecioBotella</th>                       <td>    0.0335</td> <td>    0.030</td> <td>    1.101</td> <td> 0.271</td> <td>   -0.026</td> <td>    0.093</td>\n",
       "</tr>\n",
       "<tr>\n",
       "  <th>aleatorio</th>                           <td>   -0.2210</td> <td>    0.158</td> <td>   -1.396</td> <td> 0.163</td> <td>   -0.531</td> <td>    0.089</td>\n",
       "</tr>\n",
       "<tr>\n",
       "  <th>aleatorio2</th>                          <td>   -0.2632</td> <td>    0.158</td> <td>   -1.666</td> <td> 0.096</td> <td>   -0.573</td> <td>    0.047</td>\n",
       "</tr>\n",
       "</table><br/><br/>Possibly complete quasi-separation: A fraction 0.22 of observations can be<br/>perfectly predicted. This might indicate that there is complete<br/>quasi-separation. In this case some parameters will not be identified."
      ],
      "text/latex": [
       "\\begin{center}\n",
       "\\begin{tabular}{lclc}\n",
       "\\toprule\n",
       "\\textbf{Dep. Variable:}                       &      Compra      & \\textbf{  No. Observations:  } &     5092    \\\\\n",
       "\\textbf{Model:}                               &      Logit       & \\textbf{  Df Residuals:      } &     5066    \\\\\n",
       "\\textbf{Method:}                              &       MLE        & \\textbf{  Df Model:          } &       25    \\\\\n",
       "\\textbf{Date:}                                & Tue, 03 Dec 2024 & \\textbf{  Pseudo R-squ.:     } &   0.4253    \\\\\n",
       "\\textbf{Time:}                                &     20:23:16     & \\textbf{  Log-Likelihood:    } &   -1526.5   \\\\\n",
       "\\textbf{converged:}                           &      False       & \\textbf{  LL-Null:           } &   -2655.9   \\\\\n",
       "\\textbf{Covariance Type:}                     &    nonrobust     & \\textbf{  LLR p-value:       } &    0.000    \\\\\n",
       "\\bottomrule\n",
       "\\end{tabular}\n",
       "\\begin{tabular}{lcccccc}\n",
       "                                              & \\textbf{coef} & \\textbf{std err} & \\textbf{z} & \\textbf{P$> |$z$|$} & \\textbf{[0.025} & \\textbf{0.975]}  \\\\\n",
       "\\midrule\n",
       "\\textbf{Intercept}                            &       4.4814  &        1.791     &     2.502  &         0.012        &        0.971    &        7.991     \\\\\n",
       "\\textbf{Etiqueta[T.M]}                        &      -0.3466  &        0.219     &    -1.582  &         0.114        &       -0.776    &        0.083     \\\\\n",
       "\\textbf{Etiqueta[T.R]}                        &      -1.0105  &        0.214     &    -4.730  &         0.000        &       -1.429    &       -0.592     \\\\\n",
       "\\textbf{Etiqueta[T.B]}                        &      -1.4241  &        0.229     &    -6.209  &         0.000        &       -1.874    &       -0.975     \\\\\n",
       "\\textbf{Etiqueta[T.MB]}                       &      -1.9213  &        0.345     &    -5.567  &         0.000        &       -2.598    &       -1.245     \\\\\n",
       "\\textbf{Clasificacion[T.*]}                   &       1.8082  &        0.098     &    18.515  &         0.000        &        1.617    &        2.000     \\\\\n",
       "\\textbf{Clasificacion[T.**]}                  &       4.1641  &        0.179     &    23.325  &         0.000        &        3.814    &        4.514     \\\\\n",
       "\\textbf{Clasificacion[T.***]}                 &      18.1892  &      207.419     &     0.088  &         0.930        &     -388.344    &      424.722     \\\\\n",
       "\\textbf{Clasificacion[T.****]}                &      24.1980  &     7066.750     &     0.003  &         0.997        &    -1.38e+04    &     1.39e+04     \\\\\n",
       "\\textbf{Region[T.2.0]}                        &      -0.1032  &        0.112     &    -0.918  &         0.358        &       -0.323    &        0.117     \\\\\n",
       "\\textbf{Region[T.3.0]}                        &      -0.1125  &        0.110     &    -1.021  &         0.307        &       -0.329    &        0.103     \\\\\n",
       "\\textbf{prop\\_missings[T.6.666666666666667]}  &      -0.1714  &        0.106     &    -1.613  &         0.107        &       -0.380    &        0.037     \\\\\n",
       "\\textbf{prop\\_missings[T.13.333333333333334]} &      -0.3613  &        0.253     &    -1.430  &         0.153        &       -0.857    &        0.134     \\\\\n",
       "\\textbf{prop\\_missings[T.20.0]}               &       0.1873  &        1.136     &     0.165  &         0.869        &       -2.038    &        2.413     \\\\\n",
       "\\textbf{Acidez}                               &      -0.1781  &        0.059     &    -3.004  &         0.003        &       -0.294    &       -0.062     \\\\\n",
       "\\textbf{AcidoCitrico}                         &       0.0108  &        0.054     &     0.198  &         0.843        &       -0.096    &        0.117     \\\\\n",
       "\\textbf{Azucar}                               &       0.0026  &        0.001     &     1.910  &         0.056        &    -6.77e-05    &        0.005     \\\\\n",
       "\\textbf{CloruroSodico}                        &      -0.3353  &        0.144     &    -2.320  &         0.020        &       -0.619    &       -0.052     \\\\\n",
       "\\textbf{Densidad}                             &      -1.5423  &        1.747     &    -0.883  &         0.377        &       -4.966    &        1.881     \\\\\n",
       "\\textbf{pH}                                   &      -0.2534  &        0.068     &    -3.726  &         0.000        &       -0.387    &       -0.120     \\\\\n",
       "\\textbf{Sulfatos}                             &      -0.0240  &        0.049     &    -0.490  &         0.624        &       -0.120    &        0.072     \\\\\n",
       "\\textbf{Alcohol}                              &      -0.0126  &        0.013     &    -0.971  &         0.331        &       -0.038    &        0.013     \\\\\n",
       "\\textbf{CalifProductor}                       &      -0.4203  &        0.035     &   -12.036  &         0.000        &       -0.489    &       -0.352     \\\\\n",
       "\\textbf{PrecioBotella}                        &       0.0335  &        0.030     &     1.101  &         0.271        &       -0.026    &        0.093     \\\\\n",
       "\\textbf{aleatorio}                            &      -0.2210  &        0.158     &    -1.396  &         0.163        &       -0.531    &        0.089     \\\\\n",
       "\\textbf{aleatorio2}                           &      -0.2632  &        0.158     &    -1.666  &         0.096        &       -0.573    &        0.047     \\\\\n",
       "\\bottomrule\n",
       "\\end{tabular}\n",
       "%\\caption{Logit Regression Results}\n",
       "\\end{center}\n",
       "\n",
       "Possibly complete quasi-separation: A fraction 0.22 of observations can be \\newline\n",
       " perfectly predicted. This might indicate that there is complete \\newline\n",
       " quasi-separation. In this case some parameters will not be identified."
      ],
      "text/plain": [
       "<class 'statsmodels.iolib.summary.Summary'>\n",
       "\"\"\"\n",
       "                           Logit Regression Results                           \n",
       "==============================================================================\n",
       "Dep. Variable:                 Compra   No. Observations:                 5092\n",
       "Model:                          Logit   Df Residuals:                     5066\n",
       "Method:                           MLE   Df Model:                           25\n",
       "Date:                Tue, 03 Dec 2024   Pseudo R-squ.:                  0.4253\n",
       "Time:                        20:23:16   Log-Likelihood:                -1526.5\n",
       "converged:                      False   LL-Null:                       -2655.9\n",
       "Covariance Type:            nonrobust   LLR p-value:                     0.000\n",
       "=======================================================================================================\n",
       "                                          coef    std err          z      P>|z|      [0.025      0.975]\n",
       "-------------------------------------------------------------------------------------------------------\n",
       "Intercept                               4.4814      1.791      2.502      0.012       0.971       7.991\n",
       "Etiqueta[T.M]                          -0.3466      0.219     -1.582      0.114      -0.776       0.083\n",
       "Etiqueta[T.R]                          -1.0105      0.214     -4.730      0.000      -1.429      -0.592\n",
       "Etiqueta[T.B]                          -1.4241      0.229     -6.209      0.000      -1.874      -0.975\n",
       "Etiqueta[T.MB]                         -1.9213      0.345     -5.567      0.000      -2.598      -1.245\n",
       "Clasificacion[T.*]                      1.8082      0.098     18.515      0.000       1.617       2.000\n",
       "Clasificacion[T.**]                     4.1641      0.179     23.325      0.000       3.814       4.514\n",
       "Clasificacion[T.***]                   18.1892    207.419      0.088      0.930    -388.344     424.722\n",
       "Clasificacion[T.****]                  24.1980   7066.750      0.003      0.997   -1.38e+04    1.39e+04\n",
       "Region[T.2.0]                          -0.1032      0.112     -0.918      0.358      -0.323       0.117\n",
       "Region[T.3.0]                          -0.1125      0.110     -1.021      0.307      -0.329       0.103\n",
       "prop_missings[T.6.666666666666667]     -0.1714      0.106     -1.613      0.107      -0.380       0.037\n",
       "prop_missings[T.13.333333333333334]    -0.3613      0.253     -1.430      0.153      -0.857       0.134\n",
       "prop_missings[T.20.0]                   0.1873      1.136      0.165      0.869      -2.038       2.413\n",
       "Acidez                                 -0.1781      0.059     -3.004      0.003      -0.294      -0.062\n",
       "AcidoCitrico                            0.0108      0.054      0.198      0.843      -0.096       0.117\n",
       "Azucar                                  0.0026      0.001      1.910      0.056   -6.77e-05       0.005\n",
       "CloruroSodico                          -0.3353      0.144     -2.320      0.020      -0.619      -0.052\n",
       "Densidad                               -1.5423      1.747     -0.883      0.377      -4.966       1.881\n",
       "pH                                     -0.2534      0.068     -3.726      0.000      -0.387      -0.120\n",
       "Sulfatos                               -0.0240      0.049     -0.490      0.624      -0.120       0.072\n",
       "Alcohol                                -0.0126      0.013     -0.971      0.331      -0.038       0.013\n",
       "CalifProductor                         -0.4203      0.035    -12.036      0.000      -0.489      -0.352\n",
       "PrecioBotella                           0.0335      0.030      1.101      0.271      -0.026       0.093\n",
       "aleatorio                              -0.2210      0.158     -1.396      0.163      -0.531       0.089\n",
       "aleatorio2                             -0.2632      0.158     -1.666      0.096      -0.573       0.047\n",
       "=======================================================================================================\n",
       "\n",
       "Possibly complete quasi-separation: A fraction 0.22 of observations can be\n",
       "perfectly predicted. This might indicate that there is complete\n",
       "quasi-separation. In this case some parameters will not be identified.\n",
       "\"\"\""
      ]
     },
     "execution_count": 28,
     "metadata": {},
     "output_type": "execute_result"
    }
   ],
   "source": [
    "# Importar la api para fórmulas (en concreto logit para regresión)\n",
    "from statsmodels.formula.api import logit \n",
    "\n",
    "# Ajustar regresión de ejemplo\n",
    "modeloCompleto = logit(formC,data=data_train).fit()\n",
    "modeloCompleto.summary()"
   ]
  },
  {
   "cell_type": "code",
   "execution_count": null,
   "metadata": {},
   "outputs": [],
   "source": [
    "# Los errores estandar de Clasificacion[T.***] y Clasificacion[T.****] son demasiado grandes (esto pasa porque todo vino de *** y **** estrellas es 1, no hay 0 por lo que el modelo no puede aprender de esa categoría)"
   ]
  },
  {
   "cell_type": "code",
   "execution_count": 29,
   "metadata": {},
   "outputs": [
    {
     "data": {
      "text/html": [
       "<div>\n",
       "<style scoped>\n",
       "    .dataframe tbody tr th:only-of-type {\n",
       "        vertical-align: middle;\n",
       "    }\n",
       "\n",
       "    .dataframe tbody tr th {\n",
       "        vertical-align: top;\n",
       "    }\n",
       "\n",
       "    .dataframe thead th {\n",
       "        text-align: right;\n",
       "    }\n",
       "</style>\n",
       "<table border=\"1\" class=\"dataframe\">\n",
       "  <thead>\n",
       "    <tr style=\"text-align: right;\">\n",
       "      <th>Clasificacion</th>\n",
       "      <th>Desc</th>\n",
       "      <th>*</th>\n",
       "      <th>**</th>\n",
       "      <th>***</th>\n",
       "      <th>****</th>\n",
       "    </tr>\n",
       "    <tr>\n",
       "      <th>Compra</th>\n",
       "      <th></th>\n",
       "      <th></th>\n",
       "      <th></th>\n",
       "      <th></th>\n",
       "      <th></th>\n",
       "    </tr>\n",
       "  </thead>\n",
       "  <tbody>\n",
       "    <tr>\n",
       "      <th>0</th>\n",
       "      <td>810</td>\n",
       "      <td>250</td>\n",
       "      <td>39</td>\n",
       "      <td>0</td>\n",
       "      <td>0</td>\n",
       "    </tr>\n",
       "    <tr>\n",
       "      <th>1</th>\n",
       "      <td>526</td>\n",
       "      <td>971</td>\n",
       "      <td>1375</td>\n",
       "      <td>862</td>\n",
       "      <td>259</td>\n",
       "    </tr>\n",
       "  </tbody>\n",
       "</table>\n",
       "</div>"
      ],
      "text/plain": [
       "Clasificacion  Desc    *    **  ***  ****\n",
       "Compra                                   \n",
       "0               810  250    39    0     0\n",
       "1               526  971  1375  862   259"
      ]
     },
     "execution_count": 29,
     "metadata": {},
     "output_type": "execute_result"
    }
   ],
   "source": [
    "# Ver la distribución de la tabla cruzada de Clasificación y la objetivo en data_train\n",
    "pd.crosstab(data_train.Compra, data_train.Clasificacion)"
   ]
  },
  {
   "cell_type": "code",
   "execution_count": 30,
   "metadata": {},
   "outputs": [
    {
     "name": "stdout",
     "output_type": "stream",
     "text": [
      "Optimization terminated successfully.\n",
      "         Current function value: 0.304904\n",
      "         Iterations 8\n"
     ]
    },
    {
     "name": "stderr",
     "output_type": "stream",
     "text": [
      "C:\\Users\\Usuario\\AppData\\Local\\Temp\\ipykernel_17828\\3226815176.py:2: FutureWarning:\n",
      "\n",
      "A value is trying to be set on a copy of a DataFrame or Series through chained assignment using an inplace method.\n",
      "The behavior will change in pandas 3.0. This inplace method will never work because the intermediate object on which we are setting values always behaves as a copy.\n",
      "\n",
      "For example, when doing 'df[col].method(value, inplace=True)', try using 'df.method({col: value}, inplace=True)' or df[col] = df[col].method(value) instead, to perform the operation inplace on the original object.\n",
      "\n",
      "\n",
      "\n",
      "C:\\Users\\Usuario\\AppData\\Local\\Temp\\ipykernel_17828\\3226815176.py:2: FutureWarning:\n",
      "\n",
      "The behavior of Series.replace (and DataFrame.replace) with CategoricalDtype is deprecated. In a future version, replace will only be used for cases that preserve the categories. To change the categories, use ser.cat.rename_categories instead.\n",
      "\n"
     ]
    },
    {
     "data": {
      "text/html": [
       "<table class=\"simpletable\">\n",
       "<caption>Logit Regression Results</caption>\n",
       "<tr>\n",
       "  <th>Dep. Variable:</th>        <td>Compra</td>      <th>  No. Observations:  </th>  <td>  5092</td> \n",
       "</tr>\n",
       "<tr>\n",
       "  <th>Model:</th>                 <td>Logit</td>      <th>  Df Residuals:      </th>  <td>  5068</td> \n",
       "</tr>\n",
       "<tr>\n",
       "  <th>Method:</th>                 <td>MLE</td>       <th>  Df Model:          </th>  <td>    23</td> \n",
       "</tr>\n",
       "<tr>\n",
       "  <th>Date:</th>            <td>Tue, 03 Dec 2024</td> <th>  Pseudo R-squ.:     </th>  <td>0.4154</td> \n",
       "</tr>\n",
       "<tr>\n",
       "  <th>Time:</th>                <td>20:24:35</td>     <th>  Log-Likelihood:    </th> <td> -1552.6</td>\n",
       "</tr>\n",
       "<tr>\n",
       "  <th>converged:</th>             <td>True</td>       <th>  LL-Null:           </th> <td> -2655.9</td>\n",
       "</tr>\n",
       "<tr>\n",
       "  <th>Covariance Type:</th>     <td>nonrobust</td>    <th>  LLR p-value:       </th>  <td> 0.000</td> \n",
       "</tr>\n",
       "</table>\n",
       "<table class=\"simpletable\">\n",
       "<tr>\n",
       "                   <td></td>                      <th>coef</th>     <th>std err</th>      <th>z</th>      <th>P>|z|</th>  <th>[0.025</th>    <th>0.975]</th>  \n",
       "</tr>\n",
       "<tr>\n",
       "  <th>Intercept</th>                           <td>    4.4078</td> <td>    1.788</td> <td>    2.465</td> <td> 0.014</td> <td>    0.903</td> <td>    7.913</td>\n",
       "</tr>\n",
       "<tr>\n",
       "  <th>Etiqueta[T.M]</th>                       <td>   -0.3558</td> <td>    0.219</td> <td>   -1.621</td> <td> 0.105</td> <td>   -0.786</td> <td>    0.074</td>\n",
       "</tr>\n",
       "<tr>\n",
       "  <th>Etiqueta[T.R]</th>                       <td>   -1.0154</td> <td>    0.214</td> <td>   -4.748</td> <td> 0.000</td> <td>   -1.435</td> <td>   -0.596</td>\n",
       "</tr>\n",
       "<tr>\n",
       "  <th>Etiqueta[T.B]</th>                       <td>   -1.3945</td> <td>    0.229</td> <td>   -6.081</td> <td> 0.000</td> <td>   -1.844</td> <td>   -0.945</td>\n",
       "</tr>\n",
       "<tr>\n",
       "  <th>Etiqueta[T.MB]</th>                      <td>   -1.7816</td> <td>    0.332</td> <td>   -5.363</td> <td> 0.000</td> <td>   -2.433</td> <td>   -1.131</td>\n",
       "</tr>\n",
       "<tr>\n",
       "  <th>Clasificacion[T.*]</th>                  <td>    1.8059</td> <td>    0.098</td> <td>   18.520</td> <td> 0.000</td> <td>    1.615</td> <td>    1.997</td>\n",
       "</tr>\n",
       "<tr>\n",
       "  <th>Clasificacion[T.**+]</th>                <td>    4.8296</td> <td>    0.179</td> <td>   27.004</td> <td> 0.000</td> <td>    4.479</td> <td>    5.180</td>\n",
       "</tr>\n",
       "<tr>\n",
       "  <th>Region[T.2.0]</th>                       <td>   -0.1076</td> <td>    0.112</td> <td>   -0.960</td> <td> 0.337</td> <td>   -0.327</td> <td>    0.112</td>\n",
       "</tr>\n",
       "<tr>\n",
       "  <th>Region[T.3.0]</th>                       <td>   -0.1153</td> <td>    0.110</td> <td>   -1.048</td> <td> 0.295</td> <td>   -0.331</td> <td>    0.100</td>\n",
       "</tr>\n",
       "<tr>\n",
       "  <th>prop_missings[T.6.666666666666667]</th>  <td>   -0.1562</td> <td>    0.106</td> <td>   -1.477</td> <td> 0.140</td> <td>   -0.363</td> <td>    0.051</td>\n",
       "</tr>\n",
       "<tr>\n",
       "  <th>prop_missings[T.13.333333333333334]</th> <td>   -0.3595</td> <td>    0.252</td> <td>   -1.425</td> <td> 0.154</td> <td>   -0.854</td> <td>    0.135</td>\n",
       "</tr>\n",
       "<tr>\n",
       "  <th>prop_missings[T.20.0]</th>               <td>    0.1156</td> <td>    1.154</td> <td>    0.100</td> <td> 0.920</td> <td>   -2.147</td> <td>    2.378</td>\n",
       "</tr>\n",
       "<tr>\n",
       "  <th>Acidez</th>                              <td>   -0.1756</td> <td>    0.059</td> <td>   -2.967</td> <td> 0.003</td> <td>   -0.292</td> <td>   -0.060</td>\n",
       "</tr>\n",
       "<tr>\n",
       "  <th>AcidoCitrico</th>                        <td>    0.0090</td> <td>    0.054</td> <td>    0.168</td> <td> 0.867</td> <td>   -0.097</td> <td>    0.115</td>\n",
       "</tr>\n",
       "<tr>\n",
       "  <th>Azucar</th>                              <td>    0.0025</td> <td>    0.001</td> <td>    1.854</td> <td> 0.064</td> <td>   -0.000</td> <td>    0.005</td>\n",
       "</tr>\n",
       "<tr>\n",
       "  <th>CloruroSodico</th>                       <td>   -0.3349</td> <td>    0.144</td> <td>   -2.318</td> <td> 0.020</td> <td>   -0.618</td> <td>   -0.052</td>\n",
       "</tr>\n",
       "<tr>\n",
       "  <th>Densidad</th>                            <td>   -1.4857</td> <td>    1.746</td> <td>   -0.851</td> <td> 0.395</td> <td>   -4.907</td> <td>    1.935</td>\n",
       "</tr>\n",
       "<tr>\n",
       "  <th>pH</th>                                  <td>   -0.2534</td> <td>    0.068</td> <td>   -3.728</td> <td> 0.000</td> <td>   -0.387</td> <td>   -0.120</td>\n",
       "</tr>\n",
       "<tr>\n",
       "  <th>Sulfatos</th>                            <td>   -0.0273</td> <td>    0.049</td> <td>   -0.560</td> <td> 0.575</td> <td>   -0.123</td> <td>    0.068</td>\n",
       "</tr>\n",
       "<tr>\n",
       "  <th>Alcohol</th>                             <td>   -0.0108</td> <td>    0.013</td> <td>   -0.835</td> <td> 0.404</td> <td>   -0.036</td> <td>    0.015</td>\n",
       "</tr>\n",
       "<tr>\n",
       "  <th>CalifProductor</th>                      <td>   -0.4222</td> <td>    0.035</td> <td>  -12.137</td> <td> 0.000</td> <td>   -0.490</td> <td>   -0.354</td>\n",
       "</tr>\n",
       "<tr>\n",
       "  <th>PrecioBotella</th>                       <td>    0.0329</td> <td>    0.030</td> <td>    1.081</td> <td> 0.280</td> <td>   -0.027</td> <td>    0.093</td>\n",
       "</tr>\n",
       "<tr>\n",
       "  <th>aleatorio</th>                           <td>   -0.2164</td> <td>    0.158</td> <td>   -1.372</td> <td> 0.170</td> <td>   -0.526</td> <td>    0.093</td>\n",
       "</tr>\n",
       "<tr>\n",
       "  <th>aleatorio2</th>                          <td>   -0.2604</td> <td>    0.158</td> <td>   -1.652</td> <td> 0.099</td> <td>   -0.569</td> <td>    0.049</td>\n",
       "</tr>\n",
       "</table>"
      ],
      "text/latex": [
       "\\begin{center}\n",
       "\\begin{tabular}{lclc}\n",
       "\\toprule\n",
       "\\textbf{Dep. Variable:}                       &      Compra      & \\textbf{  No. Observations:  } &     5092    \\\\\n",
       "\\textbf{Model:}                               &      Logit       & \\textbf{  Df Residuals:      } &     5068    \\\\\n",
       "\\textbf{Method:}                              &       MLE        & \\textbf{  Df Model:          } &       23    \\\\\n",
       "\\textbf{Date:}                                & Tue, 03 Dec 2024 & \\textbf{  Pseudo R-squ.:     } &   0.4154    \\\\\n",
       "\\textbf{Time:}                                &     20:24:35     & \\textbf{  Log-Likelihood:    } &   -1552.6   \\\\\n",
       "\\textbf{converged:}                           &       True       & \\textbf{  LL-Null:           } &   -2655.9   \\\\\n",
       "\\textbf{Covariance Type:}                     &    nonrobust     & \\textbf{  LLR p-value:       } &    0.000    \\\\\n",
       "\\bottomrule\n",
       "\\end{tabular}\n",
       "\\begin{tabular}{lcccccc}\n",
       "                                              & \\textbf{coef} & \\textbf{std err} & \\textbf{z} & \\textbf{P$> |$z$|$} & \\textbf{[0.025} & \\textbf{0.975]}  \\\\\n",
       "\\midrule\n",
       "\\textbf{Intercept}                            &       4.4078  &        1.788     &     2.465  &         0.014        &        0.903    &        7.913     \\\\\n",
       "\\textbf{Etiqueta[T.M]}                        &      -0.3558  &        0.219     &    -1.621  &         0.105        &       -0.786    &        0.074     \\\\\n",
       "\\textbf{Etiqueta[T.R]}                        &      -1.0154  &        0.214     &    -4.748  &         0.000        &       -1.435    &       -0.596     \\\\\n",
       "\\textbf{Etiqueta[T.B]}                        &      -1.3945  &        0.229     &    -6.081  &         0.000        &       -1.844    &       -0.945     \\\\\n",
       "\\textbf{Etiqueta[T.MB]}                       &      -1.7816  &        0.332     &    -5.363  &         0.000        &       -2.433    &       -1.131     \\\\\n",
       "\\textbf{Clasificacion[T.*]}                   &       1.8059  &        0.098     &    18.520  &         0.000        &        1.615    &        1.997     \\\\\n",
       "\\textbf{Clasificacion[T.**+]}                 &       4.8296  &        0.179     &    27.004  &         0.000        &        4.479    &        5.180     \\\\\n",
       "\\textbf{Region[T.2.0]}                        &      -0.1076  &        0.112     &    -0.960  &         0.337        &       -0.327    &        0.112     \\\\\n",
       "\\textbf{Region[T.3.0]}                        &      -0.1153  &        0.110     &    -1.048  &         0.295        &       -0.331    &        0.100     \\\\\n",
       "\\textbf{prop\\_missings[T.6.666666666666667]}  &      -0.1562  &        0.106     &    -1.477  &         0.140        &       -0.363    &        0.051     \\\\\n",
       "\\textbf{prop\\_missings[T.13.333333333333334]} &      -0.3595  &        0.252     &    -1.425  &         0.154        &       -0.854    &        0.135     \\\\\n",
       "\\textbf{prop\\_missings[T.20.0]}               &       0.1156  &        1.154     &     0.100  &         0.920        &       -2.147    &        2.378     \\\\\n",
       "\\textbf{Acidez}                               &      -0.1756  &        0.059     &    -2.967  &         0.003        &       -0.292    &       -0.060     \\\\\n",
       "\\textbf{AcidoCitrico}                         &       0.0090  &        0.054     &     0.168  &         0.867        &       -0.097    &        0.115     \\\\\n",
       "\\textbf{Azucar}                               &       0.0025  &        0.001     &     1.854  &         0.064        &       -0.000    &        0.005     \\\\\n",
       "\\textbf{CloruroSodico}                        &      -0.3349  &        0.144     &    -2.318  &         0.020        &       -0.618    &       -0.052     \\\\\n",
       "\\textbf{Densidad}                             &      -1.4857  &        1.746     &    -0.851  &         0.395        &       -4.907    &        1.935     \\\\\n",
       "\\textbf{pH}                                   &      -0.2534  &        0.068     &    -3.728  &         0.000        &       -0.387    &       -0.120     \\\\\n",
       "\\textbf{Sulfatos}                             &      -0.0273  &        0.049     &    -0.560  &         0.575        &       -0.123    &        0.068     \\\\\n",
       "\\textbf{Alcohol}                              &      -0.0108  &        0.013     &    -0.835  &         0.404        &       -0.036    &        0.015     \\\\\n",
       "\\textbf{CalifProductor}                       &      -0.4222  &        0.035     &   -12.137  &         0.000        &       -0.490    &       -0.354     \\\\\n",
       "\\textbf{PrecioBotella}                        &       0.0329  &        0.030     &     1.081  &         0.280        &       -0.027    &        0.093     \\\\\n",
       "\\textbf{aleatorio}                            &      -0.2164  &        0.158     &    -1.372  &         0.170        &       -0.526    &        0.093     \\\\\n",
       "\\textbf{aleatorio2}                           &      -0.2604  &        0.158     &    -1.652  &         0.099        &       -0.569    &        0.049     \\\\\n",
       "\\bottomrule\n",
       "\\end{tabular}\n",
       "%\\caption{Logit Regression Results}\n",
       "\\end{center}"
      ],
      "text/plain": [
       "<class 'statsmodels.iolib.summary.Summary'>\n",
       "\"\"\"\n",
       "                           Logit Regression Results                           \n",
       "==============================================================================\n",
       "Dep. Variable:                 Compra   No. Observations:                 5092\n",
       "Model:                          Logit   Df Residuals:                     5068\n",
       "Method:                           MLE   Df Model:                           23\n",
       "Date:                Tue, 03 Dec 2024   Pseudo R-squ.:                  0.4154\n",
       "Time:                        20:24:35   Log-Likelihood:                -1552.6\n",
       "converged:                       True   LL-Null:                       -2655.9\n",
       "Covariance Type:            nonrobust   LLR p-value:                     0.000\n",
       "=======================================================================================================\n",
       "                                          coef    std err          z      P>|z|      [0.025      0.975]\n",
       "-------------------------------------------------------------------------------------------------------\n",
       "Intercept                               4.4078      1.788      2.465      0.014       0.903       7.913\n",
       "Etiqueta[T.M]                          -0.3558      0.219     -1.621      0.105      -0.786       0.074\n",
       "Etiqueta[T.R]                          -1.0154      0.214     -4.748      0.000      -1.435      -0.596\n",
       "Etiqueta[T.B]                          -1.3945      0.229     -6.081      0.000      -1.844      -0.945\n",
       "Etiqueta[T.MB]                         -1.7816      0.332     -5.363      0.000      -2.433      -1.131\n",
       "Clasificacion[T.*]                      1.8059      0.098     18.520      0.000       1.615       1.997\n",
       "Clasificacion[T.**+]                    4.8296      0.179     27.004      0.000       4.479       5.180\n",
       "Region[T.2.0]                          -0.1076      0.112     -0.960      0.337      -0.327       0.112\n",
       "Region[T.3.0]                          -0.1153      0.110     -1.048      0.295      -0.331       0.100\n",
       "prop_missings[T.6.666666666666667]     -0.1562      0.106     -1.477      0.140      -0.363       0.051\n",
       "prop_missings[T.13.333333333333334]    -0.3595      0.252     -1.425      0.154      -0.854       0.135\n",
       "prop_missings[T.20.0]                   0.1156      1.154      0.100      0.920      -2.147       2.378\n",
       "Acidez                                 -0.1756      0.059     -2.967      0.003      -0.292      -0.060\n",
       "AcidoCitrico                            0.0090      0.054      0.168      0.867      -0.097       0.115\n",
       "Azucar                                  0.0025      0.001      1.854      0.064      -0.000       0.005\n",
       "CloruroSodico                          -0.3349      0.144     -2.318      0.020      -0.618      -0.052\n",
       "Densidad                               -1.4857      1.746     -0.851      0.395      -4.907       1.935\n",
       "pH                                     -0.2534      0.068     -3.728      0.000      -0.387      -0.120\n",
       "Sulfatos                               -0.0273      0.049     -0.560      0.575      -0.123       0.068\n",
       "Alcohol                                -0.0108      0.013     -0.835      0.404      -0.036       0.015\n",
       "CalifProductor                         -0.4222      0.035    -12.137      0.000      -0.490      -0.354\n",
       "PrecioBotella                           0.0329      0.030      1.081      0.280      -0.027       0.093\n",
       "aleatorio                              -0.2164      0.158     -1.372      0.170      -0.526       0.093\n",
       "aleatorio2                             -0.2604      0.158     -1.652      0.099      -0.569       0.049\n",
       "=======================================================================================================\n",
       "\"\"\""
      ]
     },
     "execution_count": 30,
     "metadata": {},
     "output_type": "execute_result"
    }
   ],
   "source": [
    "# Unir la categorías problemáticas de Clasificacion\n",
    "imputDep.Clasificacion.replace(['**','***','****'],'**+',inplace=True)\n",
    "\n",
    "\n",
    "# Actualizar la partición\n",
    "X_train, X_test, y_train, y_test = train_test_split(imputDep, varObjBin, test_size=0.2, random_state=1234)\n",
    "\n",
    "# Genero el training con la objetivo dentro \n",
    "data_train = X_train.join(y_train.astype('int64'))\n",
    "data_test = X_test.join(y_test.astype('int64'))\n",
    "\n",
    "# Volver a ajustar el modelo inicial\n",
    "modeloCompleto = logit(formC,data=data_train).fit()\n",
    "modeloCompleto.summary()"
   ]
  },
  {
   "cell_type": "code",
   "execution_count": 31,
   "metadata": {},
   "outputs": [
    {
     "name": "stdout",
     "output_type": "stream",
     "text": [
      "Optimization terminated successfully.\n",
      "         Current function value: 0.325890\n",
      "         Iterations 8\n"
     ]
    },
    {
     "data": {
      "text/html": [
       "<table class=\"simpletable\">\n",
       "<caption>Logit Regression Results</caption>\n",
       "<tr>\n",
       "  <th>Dep. Variable:</th>        <td>Compra</td>      <th>  No. Observations:  </th>  <td>  5092</td> \n",
       "</tr>\n",
       "<tr>\n",
       "  <th>Model:</th>                 <td>Logit</td>      <th>  Df Residuals:      </th>  <td>  5085</td> \n",
       "</tr>\n",
       "<tr>\n",
       "  <th>Method:</th>                 <td>MLE</td>       <th>  Df Model:          </th>  <td>     6</td> \n",
       "</tr>\n",
       "<tr>\n",
       "  <th>Date:</th>            <td>Tue, 03 Dec 2024</td> <th>  Pseudo R-squ.:     </th>  <td>0.3752</td> \n",
       "</tr>\n",
       "<tr>\n",
       "  <th>Time:</th>                <td>20:25:47</td>     <th>  Log-Likelihood:    </th> <td> -1659.4</td>\n",
       "</tr>\n",
       "<tr>\n",
       "  <th>converged:</th>             <td>True</td>       <th>  LL-Null:           </th> <td> -2655.9</td>\n",
       "</tr>\n",
       "<tr>\n",
       "  <th>Covariance Type:</th>     <td>nonrobust</td>    <th>  LLR p-value:       </th>  <td> 0.000</td> \n",
       "</tr>\n",
       "</table>\n",
       "<table class=\"simpletable\">\n",
       "<tr>\n",
       "            <td></td>              <th>coef</th>     <th>std err</th>      <th>z</th>      <th>P>|z|</th>  <th>[0.025</th>    <th>0.975]</th>  \n",
       "</tr>\n",
       "<tr>\n",
       "  <th>Intercept</th>            <td>    0.3894</td> <td>    0.196</td> <td>    1.987</td> <td> 0.047</td> <td>    0.005</td> <td>    0.774</td>\n",
       "</tr>\n",
       "<tr>\n",
       "  <th>Etiqueta[T.M]</th>        <td>   -0.3264</td> <td>    0.210</td> <td>   -1.551</td> <td> 0.121</td> <td>   -0.739</td> <td>    0.086</td>\n",
       "</tr>\n",
       "<tr>\n",
       "  <th>Etiqueta[T.R]</th>        <td>   -1.0025</td> <td>    0.205</td> <td>   -4.886</td> <td> 0.000</td> <td>   -1.405</td> <td>   -0.600</td>\n",
       "</tr>\n",
       "<tr>\n",
       "  <th>Etiqueta[T.B]</th>        <td>   -1.4218</td> <td>    0.219</td> <td>   -6.486</td> <td> 0.000</td> <td>   -1.851</td> <td>   -0.992</td>\n",
       "</tr>\n",
       "<tr>\n",
       "  <th>Etiqueta[T.MB]</th>       <td>   -1.7830</td> <td>    0.324</td> <td>   -5.505</td> <td> 0.000</td> <td>   -2.418</td> <td>   -1.148</td>\n",
       "</tr>\n",
       "<tr>\n",
       "  <th>Clasificacion[T.*]</th>   <td>    1.8148</td> <td>    0.093</td> <td>   19.529</td> <td> 0.000</td> <td>    1.633</td> <td>    1.997</td>\n",
       "</tr>\n",
       "<tr>\n",
       "  <th>Clasificacion[T.**+]</th> <td>    4.8798</td> <td>    0.176</td> <td>   27.741</td> <td> 0.000</td> <td>    4.535</td> <td>    5.225</td>\n",
       "</tr>\n",
       "</table>"
      ],
      "text/latex": [
       "\\begin{center}\n",
       "\\begin{tabular}{lclc}\n",
       "\\toprule\n",
       "\\textbf{Dep. Variable:}       &      Compra      & \\textbf{  No. Observations:  } &     5092    \\\\\n",
       "\\textbf{Model:}               &      Logit       & \\textbf{  Df Residuals:      } &     5085    \\\\\n",
       "\\textbf{Method:}              &       MLE        & \\textbf{  Df Model:          } &        6    \\\\\n",
       "\\textbf{Date:}                & Tue, 03 Dec 2024 & \\textbf{  Pseudo R-squ.:     } &   0.3752    \\\\\n",
       "\\textbf{Time:}                &     20:25:47     & \\textbf{  Log-Likelihood:    } &   -1659.4   \\\\\n",
       "\\textbf{converged:}           &       True       & \\textbf{  LL-Null:           } &   -2655.9   \\\\\n",
       "\\textbf{Covariance Type:}     &    nonrobust     & \\textbf{  LLR p-value:       } &    0.000    \\\\\n",
       "\\bottomrule\n",
       "\\end{tabular}\n",
       "\\begin{tabular}{lcccccc}\n",
       "                              & \\textbf{coef} & \\textbf{std err} & \\textbf{z} & \\textbf{P$> |$z$|$} & \\textbf{[0.025} & \\textbf{0.975]}  \\\\\n",
       "\\midrule\n",
       "\\textbf{Intercept}            &       0.3894  &        0.196     &     1.987  &         0.047        &        0.005    &        0.774     \\\\\n",
       "\\textbf{Etiqueta[T.M]}        &      -0.3264  &        0.210     &    -1.551  &         0.121        &       -0.739    &        0.086     \\\\\n",
       "\\textbf{Etiqueta[T.R]}        &      -1.0025  &        0.205     &    -4.886  &         0.000        &       -1.405    &       -0.600     \\\\\n",
       "\\textbf{Etiqueta[T.B]}        &      -1.4218  &        0.219     &    -6.486  &         0.000        &       -1.851    &       -0.992     \\\\\n",
       "\\textbf{Etiqueta[T.MB]}       &      -1.7830  &        0.324     &    -5.505  &         0.000        &       -2.418    &       -1.148     \\\\\n",
       "\\textbf{Clasificacion[T.*]}   &       1.8148  &        0.093     &    19.529  &         0.000        &        1.633    &        1.997     \\\\\n",
       "\\textbf{Clasificacion[T.**+]} &       4.8798  &        0.176     &    27.741  &         0.000        &        4.535    &        5.225     \\\\\n",
       "\\bottomrule\n",
       "\\end{tabular}\n",
       "%\\caption{Logit Regression Results}\n",
       "\\end{center}"
      ],
      "text/plain": [
       "<class 'statsmodels.iolib.summary.Summary'>\n",
       "\"\"\"\n",
       "                           Logit Regression Results                           \n",
       "==============================================================================\n",
       "Dep. Variable:                 Compra   No. Observations:                 5092\n",
       "Model:                          Logit   Df Residuals:                     5085\n",
       "Method:                           MLE   Df Model:                            6\n",
       "Date:                Tue, 03 Dec 2024   Pseudo R-squ.:                  0.3752\n",
       "Time:                        20:25:47   Log-Likelihood:                -1659.4\n",
       "converged:                       True   LL-Null:                       -2655.9\n",
       "Covariance Type:            nonrobust   LLR p-value:                     0.000\n",
       "========================================================================================\n",
       "                           coef    std err          z      P>|z|      [0.025      0.975]\n",
       "----------------------------------------------------------------------------------------\n",
       "Intercept                0.3894      0.196      1.987      0.047       0.005       0.774\n",
       "Etiqueta[T.M]           -0.3264      0.210     -1.551      0.121      -0.739       0.086\n",
       "Etiqueta[T.R]           -1.0025      0.205     -4.886      0.000      -1.405      -0.600\n",
       "Etiqueta[T.B]           -1.4218      0.219     -6.486      0.000      -1.851      -0.992\n",
       "Etiqueta[T.MB]          -1.7830      0.324     -5.505      0.000      -2.418      -1.148\n",
       "Clasificacion[T.*]       1.8148      0.093     19.529      0.000       1.633       1.997\n",
       "Clasificacion[T.**+]     4.8798      0.176     27.741      0.000       4.535       5.225\n",
       "========================================================================================\n",
       "\"\"\""
      ]
     },
     "execution_count": 31,
     "metadata": {},
     "output_type": "execute_result"
    }
   ],
   "source": [
    "# Volver al modelo inicial con Etiqueta y Clasificación con data_train\n",
    "modeloEti= logit('Compra~Etiqueta+Clasificacion',data=data_train).fit()\n",
    "modeloEti.summary()"
   ]
  },
  {
   "cell_type": "markdown",
   "metadata": {},
   "source": [
    "## Importancia de las variables"
   ]
  },
  {
   "cell_type": "code",
   "execution_count": 32,
   "metadata": {},
   "outputs": [],
   "source": [
    "import statsmodels.api as sm\n",
    "import patsy\n",
    "\n",
    "# Generar las matrices de diseño según la fórmula de modelo completo\n",
    "y_tr, X_tr = patsy.dmatrices(formC, data_train, return_type='dataframe')\n",
    "\n",
    "# Generar las matrices de diseño según la fórmula de modelo completo para test\n",
    "y_tst, X_tst = patsy.dmatrices(formC, data_test, return_type='dataframe')\n",
    "\n",
    "# Ahora se puede aplicar la función \"oficial\" de statmodels Logit (con formato y,X)\n",
    "# model=sm.Logit(y_tr,X_tr).fit()\n",
    "# model.summary()"
   ]
  },
  {
   "cell_type": "code",
   "execution_count": 33,
   "metadata": {},
   "outputs": [
    {
     "data": {
      "text/html": [
       "<div>\n",
       "<style scoped>\n",
       "    .dataframe tbody tr th:only-of-type {\n",
       "        vertical-align: middle;\n",
       "    }\n",
       "\n",
       "    .dataframe tbody tr th {\n",
       "        vertical-align: top;\n",
       "    }\n",
       "\n",
       "    .dataframe thead th {\n",
       "        text-align: right;\n",
       "    }\n",
       "</style>\n",
       "<table border=\"1\" class=\"dataframe\">\n",
       "  <thead>\n",
       "    <tr style=\"text-align: right;\">\n",
       "      <th></th>\n",
       "      <th>driver</th>\n",
       "      <th>rawRelaImpt</th>\n",
       "      <th>normRelaImpt</th>\n",
       "    </tr>\n",
       "  </thead>\n",
       "  <tbody>\n",
       "    <tr>\n",
       "      <th>5</th>\n",
       "      <td>Clasificacion[T.**+]</td>\n",
       "      <td>0.275748</td>\n",
       "      <td>68.393335</td>\n",
       "    </tr>\n",
       "    <tr>\n",
       "      <th>4</th>\n",
       "      <td>Clasificacion[T.*]</td>\n",
       "      <td>0.054204</td>\n",
       "      <td>13.444100</td>\n",
       "    </tr>\n",
       "    <tr>\n",
       "      <th>19</th>\n",
       "      <td>CalifProductor</td>\n",
       "      <td>0.053056</td>\n",
       "      <td>13.159347</td>\n",
       "    </tr>\n",
       "    <tr>\n",
       "      <th>2</th>\n",
       "      <td>Etiqueta[T.B]</td>\n",
       "      <td>0.004131</td>\n",
       "      <td>1.024491</td>\n",
       "    </tr>\n",
       "    <tr>\n",
       "      <th>11</th>\n",
       "      <td>Acidez</td>\n",
       "      <td>0.003288</td>\n",
       "      <td>0.815514</td>\n",
       "    </tr>\n",
       "    <tr>\n",
       "      <th>1</th>\n",
       "      <td>Etiqueta[T.R]</td>\n",
       "      <td>0.001961</td>\n",
       "      <td>0.486444</td>\n",
       "    </tr>\n",
       "    <tr>\n",
       "      <th>0</th>\n",
       "      <td>Etiqueta[T.M]</td>\n",
       "      <td>0.001855</td>\n",
       "      <td>0.460024</td>\n",
       "    </tr>\n",
       "    <tr>\n",
       "      <th>16</th>\n",
       "      <td>pH</td>\n",
       "      <td>0.001744</td>\n",
       "      <td>0.432618</td>\n",
       "    </tr>\n",
       "    <tr>\n",
       "      <th>14</th>\n",
       "      <td>CloruroSodico</td>\n",
       "      <td>0.001647</td>\n",
       "      <td>0.408585</td>\n",
       "    </tr>\n",
       "    <tr>\n",
       "      <th>3</th>\n",
       "      <td>Etiqueta[T.MB]</td>\n",
       "      <td>0.001451</td>\n",
       "      <td>0.359773</td>\n",
       "    </tr>\n",
       "    <tr>\n",
       "      <th>13</th>\n",
       "      <td>Azucar</td>\n",
       "      <td>0.001072</td>\n",
       "      <td>0.265798</td>\n",
       "    </tr>\n",
       "    <tr>\n",
       "      <th>9</th>\n",
       "      <td>prop_missings[T.13.333333333333334]</td>\n",
       "      <td>0.000807</td>\n",
       "      <td>0.200094</td>\n",
       "    </tr>\n",
       "    <tr>\n",
       "      <th>17</th>\n",
       "      <td>Sulfatos</td>\n",
       "      <td>0.000652</td>\n",
       "      <td>0.161671</td>\n",
       "    </tr>\n",
       "    <tr>\n",
       "      <th>8</th>\n",
       "      <td>prop_missings[T.6.666666666666667]</td>\n",
       "      <td>0.000534</td>\n",
       "      <td>0.132373</td>\n",
       "    </tr>\n",
       "    <tr>\n",
       "      <th>15</th>\n",
       "      <td>Densidad</td>\n",
       "      <td>0.000205</td>\n",
       "      <td>0.050913</td>\n",
       "    </tr>\n",
       "    <tr>\n",
       "      <th>22</th>\n",
       "      <td>aleatorio2</td>\n",
       "      <td>0.000196</td>\n",
       "      <td>0.048630</td>\n",
       "    </tr>\n",
       "    <tr>\n",
       "      <th>18</th>\n",
       "      <td>Alcohol</td>\n",
       "      <td>0.000163</td>\n",
       "      <td>0.040353</td>\n",
       "    </tr>\n",
       "    <tr>\n",
       "      <th>21</th>\n",
       "      <td>aleatorio</td>\n",
       "      <td>0.000113</td>\n",
       "      <td>0.028140</td>\n",
       "    </tr>\n",
       "    <tr>\n",
       "      <th>6</th>\n",
       "      <td>Region[T.2.0]</td>\n",
       "      <td>0.000107</td>\n",
       "      <td>0.026567</td>\n",
       "    </tr>\n",
       "    <tr>\n",
       "      <th>12</th>\n",
       "      <td>AcidoCitrico</td>\n",
       "      <td>0.000088</td>\n",
       "      <td>0.021779</td>\n",
       "    </tr>\n",
       "    <tr>\n",
       "      <th>20</th>\n",
       "      <td>PrecioBotella</td>\n",
       "      <td>0.000083</td>\n",
       "      <td>0.020532</td>\n",
       "    </tr>\n",
       "    <tr>\n",
       "      <th>7</th>\n",
       "      <td>Region[T.3.0]</td>\n",
       "      <td>0.000057</td>\n",
       "      <td>0.014163</td>\n",
       "    </tr>\n",
       "    <tr>\n",
       "      <th>10</th>\n",
       "      <td>prop_missings[T.20.0]</td>\n",
       "      <td>0.000019</td>\n",
       "      <td>0.004757</td>\n",
       "    </tr>\n",
       "  </tbody>\n",
       "</table>\n",
       "</div>"
      ],
      "text/plain": [
       "                                 driver  rawRelaImpt  normRelaImpt\n",
       "5                  Clasificacion[T.**+]     0.275748     68.393335\n",
       "4                    Clasificacion[T.*]     0.054204     13.444100\n",
       "19                       CalifProductor     0.053056     13.159347\n",
       "2                         Etiqueta[T.B]     0.004131      1.024491\n",
       "11                               Acidez     0.003288      0.815514\n",
       "1                         Etiqueta[T.R]     0.001961      0.486444\n",
       "0                         Etiqueta[T.M]     0.001855      0.460024\n",
       "16                                   pH     0.001744      0.432618\n",
       "14                        CloruroSodico     0.001647      0.408585\n",
       "3                        Etiqueta[T.MB]     0.001451      0.359773\n",
       "13                               Azucar     0.001072      0.265798\n",
       "9   prop_missings[T.13.333333333333334]     0.000807      0.200094\n",
       "17                             Sulfatos     0.000652      0.161671\n",
       "8    prop_missings[T.6.666666666666667]     0.000534      0.132373\n",
       "15                             Densidad     0.000205      0.050913\n",
       "22                           aleatorio2     0.000196      0.048630\n",
       "18                              Alcohol     0.000163      0.040353\n",
       "21                            aleatorio     0.000113      0.028140\n",
       "6                         Region[T.2.0]     0.000107      0.026567\n",
       "12                         AcidoCitrico     0.000088      0.021779\n",
       "20                        PrecioBotella     0.000083      0.020532\n",
       "7                         Region[T.3.0]     0.000057      0.014163\n",
       "10                prop_missings[T.20.0]     0.000019      0.004757"
      ]
     },
     "execution_count": 33,
     "metadata": {},
     "output_type": "execute_result"
    }
   ],
   "source": [
    "# Calcular la importancia relativa de los efectos del modelo\n",
    "from relativeImp import relativeImp\n",
    "\n",
    "# Nombres de predictores (en modo dummy) donde quitamos la constante\n",
    "names=X_tr.columns.tolist()[1:]\n",
    "\n",
    "# Calcular importancia relativa\n",
    "df_results = relativeImp(X_tr.join(y_tr), outcomeName = 'Compra', driverNames = names)\n",
    "\n",
    "# Ordenar valores \n",
    "df_results.sort_values(by='normRelaImpt', ascending=False)"
   ]
  },
  {
   "cell_type": "markdown",
   "metadata": {},
   "source": [
    "## Métricas de ajuste en training-test"
   ]
  },
  {
   "cell_type": "code",
   "execution_count": 34,
   "metadata": {},
   "outputs": [
    {
     "name": "stderr",
     "output_type": "stream",
     "text": [
      "C:\\Users\\Usuario\\AppData\\Local\\Temp\\ipykernel_17828\\2231923443.py:8: FutureWarning:\n",
      "\n",
      "Series.ravel is deprecated. The underlying array is already 1D, so ravel is not necessary.  Use `to_numpy()` for conversion to a numpy array instead.\n",
      "\n"
     ]
    },
    {
     "name": "stdout",
     "output_type": "stream",
     "text": [
      "0.8605655930871956\n",
      "[[183  85]\n",
      " [ 97 908]]\n",
      "              precision    recall  f1-score   support\n",
      "\n",
      "         0.0       0.65      0.68      0.67       268\n",
      "         1.0       0.91      0.90      0.91      1005\n",
      "\n",
      "    accuracy                           0.86      1273\n",
      "   macro avg       0.78      0.79      0.79      1273\n",
      "weighted avg       0.86      0.86      0.86      1273\n",
      "\n"
     ]
    },
    {
     "data": {
      "text/plain": [
       "0.905193278410102"
      ]
     },
     "execution_count": 34,
     "metadata": {},
     "output_type": "execute_result"
    }
   ],
   "source": [
    "from sklearn.linear_model import LogisticRegression\n",
    "from sklearn import metrics\n",
    "\n",
    "# Definición de modelo\n",
    "modelo = LogisticRegression(solver='lbfgs', max_iter=1000, penalty=None)\n",
    "\n",
    "# Arreglar y para que le guste a sklearn...numeric\n",
    "y_tr_ = y_tr.Compra.ravel()\n",
    "\n",
    "# Ajuste de modelo\n",
    "modelLog = modelo.fit(X_tr,y_tr_)\n",
    "\n",
    "# Accuracy del modelo en training\n",
    "acc = modelLog.score(X_tr,y_tr_)\n",
    "print(acc)\n",
    "\n",
    "# Predicciones en test\n",
    "y_pred = modelLog.predict(X_tst)\n",
    "\n",
    "# Matriz de confusion de clasificación \n",
    "print(metrics.confusion_matrix(y_tst,y_pred))\n",
    "\n",
    "# Reporte de clasificación \n",
    "print(metrics.classification_report(y_tst,y_pred))\n",
    "\n",
    "# Extraer el Area bajo la curva ROC\n",
    "metrics.roc_auc_score(y_tr, modelLog.predict_proba(X_tr)[:, 1])"
   ]
  },
  {
   "cell_type": "code",
   "execution_count": 35,
   "metadata": {},
   "outputs": [
    {
     "data": {
      "text/plain": [
       "<Figure size 640x480 with 0 Axes>"
      ]
     },
     "metadata": {},
     "output_type": "display_data"
    }
   ],
   "source": [
    "from sklearn.metrics import roc_curve, auc, roc_auc_score\n",
    "from bioinfokit.visuz import stat\n",
    "\n",
    "fpr, tpr, thresholds = roc_curve(y_tr, modelLog.predict_proba(X_tr)[:, 1])\n",
    "auc = roc_auc_score(y_tr, modelLog.predict_proba(X_tr)[:, 1])\n",
    "\n",
    "# plot ROC\n",
    "plt.clf()\n",
    "stat.roc(fpr=fpr, tpr=tpr, auc=auc, shade_auc=True, per_class=True, legendpos='upper center', legendanchor=(0.5, 1.08), legendcols=3)\n",
    "plt.show()"
   ]
  },
  {
   "cell_type": "code",
   "execution_count": 36,
   "metadata": {},
   "outputs": [],
   "source": [
    "import matplotlib.pyplot as plt\n",
    "from sklearn.metrics import roc_curve, auc, roc_auc_score\n",
    "\n",
    "# Calcular las tasas de verdaderos positivos y falsos positivos\n",
    "fpr, tpr, thresholds = roc_curve(y_tr_, modelLog.predict_proba(X_tr)[:, 1])\n",
    "roc_auc = auc(fpr, tpr)"
   ]
  },
  {
   "cell_type": "code",
   "execution_count": 37,
   "metadata": {},
   "outputs": [
    {
     "data": {
      "image/png": "[encoded data removed]",
      "text/plain": [
       "<Figure size 640x480 with 1 Axes>"
      ]
     },
     "metadata": {},
     "output_type": "display_data"
    }
   ],
   "source": [
    "# Graficar la curva ROC\n",
    "plt.figure()\n",
    "plt.plot(fpr, tpr, color='darkorange', lw=2, label=f'ROC curve (area = {roc_auc:.2f})')\n",
    "plt.plot([0, 1], [0, 1], color='navy', lw=2, linestyle='--')\n",
    "plt.xlabel('False Positive Rate')\n",
    "plt.ylabel('True Positive Rate')\n",
    "plt.title('Receiver Operating Characteristic (ROC)')\n",
    "plt.legend(loc='lower right')\n",
    "plt.show()"
   ]
  },
  {
   "cell_type": "markdown",
   "metadata": {},
   "source": [
    "## Proceso manual hacia delante"
   ]
  },
  {
   "cell_type": "code",
   "execution_count": 38,
   "metadata": {},
   "outputs": [
    {
     "name": "stdout",
     "output_type": "stream",
     "text": [
      "Optimization terminated successfully.\n",
      "         Current function value: 0.317393\n",
      "         Iterations 8\n"
     ]
    },
    {
     "data": {
      "text/html": [
       "<table class=\"simpletable\">\n",
       "<caption>Logit Regression Results</caption>\n",
       "<tr>\n",
       "  <th>Dep. Variable:</th>        <td>Compra</td>      <th>  No. Observations:  </th>  <td>  5092</td> \n",
       "</tr>\n",
       "<tr>\n",
       "  <th>Model:</th>                 <td>Logit</td>      <th>  Df Residuals:      </th>  <td>  5087</td> \n",
       "</tr>\n",
       "<tr>\n",
       "  <th>Method:</th>                 <td>MLE</td>       <th>  Df Model:          </th>  <td>     4</td> \n",
       "</tr>\n",
       "<tr>\n",
       "  <th>Date:</th>            <td>Tue, 03 Dec 2024</td> <th>  Pseudo R-squ.:     </th>  <td>0.3915</td> \n",
       "</tr>\n",
       "<tr>\n",
       "  <th>Time:</th>                <td>20:30:12</td>     <th>  Log-Likelihood:    </th> <td> -1616.2</td>\n",
       "</tr>\n",
       "<tr>\n",
       "  <th>converged:</th>             <td>True</td>       <th>  LL-Null:           </th> <td> -2655.9</td>\n",
       "</tr>\n",
       "<tr>\n",
       "  <th>Covariance Type:</th>     <td>nonrobust</td>    <th>  LLR p-value:       </th>  <td> 0.000</td> \n",
       "</tr>\n",
       "</table>\n",
       "<table class=\"simpletable\">\n",
       "<tr>\n",
       "            <td></td>              <th>coef</th>     <th>std err</th>      <th>z</th>      <th>P>|z|</th>  <th>[0.025</th>    <th>0.975]</th>  \n",
       "</tr>\n",
       "<tr>\n",
       "  <th>Intercept</th>            <td>    1.7054</td> <td>    0.248</td> <td>    6.872</td> <td> 0.000</td> <td>    1.219</td> <td>    2.192</td>\n",
       "</tr>\n",
       "<tr>\n",
       "  <th>Clasificacion[T.*]</th>   <td>    1.7692</td> <td>    0.094</td> <td>   18.812</td> <td> 0.000</td> <td>    1.585</td> <td>    1.954</td>\n",
       "</tr>\n",
       "<tr>\n",
       "  <th>Clasificacion[T.**+]</th> <td>    4.5533</td> <td>    0.173</td> <td>   26.291</td> <td> 0.000</td> <td>    4.214</td> <td>    4.893</td>\n",
       "</tr>\n",
       "<tr>\n",
       "  <th>CalifProductor</th>       <td>   -0.4389</td> <td>    0.034</td> <td>  -12.991</td> <td> 0.000</td> <td>   -0.505</td> <td>   -0.373</td>\n",
       "</tr>\n",
       "<tr>\n",
       "  <th>pH</th>                   <td>   -0.2613</td> <td>    0.066</td> <td>   -3.951</td> <td> 0.000</td> <td>   -0.391</td> <td>   -0.132</td>\n",
       "</tr>\n",
       "</table>"
      ],
      "text/latex": [
       "\\begin{center}\n",
       "\\begin{tabular}{lclc}\n",
       "\\toprule\n",
       "\\textbf{Dep. Variable:}       &      Compra      & \\textbf{  No. Observations:  } &     5092    \\\\\n",
       "\\textbf{Model:}               &      Logit       & \\textbf{  Df Residuals:      } &     5087    \\\\\n",
       "\\textbf{Method:}              &       MLE        & \\textbf{  Df Model:          } &        4    \\\\\n",
       "\\textbf{Date:}                & Tue, 03 Dec 2024 & \\textbf{  Pseudo R-squ.:     } &   0.3915    \\\\\n",
       "\\textbf{Time:}                &     20:30:12     & \\textbf{  Log-Likelihood:    } &   -1616.2   \\\\\n",
       "\\textbf{converged:}           &       True       & \\textbf{  LL-Null:           } &   -2655.9   \\\\\n",
       "\\textbf{Covariance Type:}     &    nonrobust     & \\textbf{  LLR p-value:       } &    0.000    \\\\\n",
       "\\bottomrule\n",
       "\\end{tabular}\n",
       "\\begin{tabular}{lcccccc}\n",
       "                              & \\textbf{coef} & \\textbf{std err} & \\textbf{z} & \\textbf{P$> |$z$|$} & \\textbf{[0.025} & \\textbf{0.975]}  \\\\\n",
       "\\midrule\n",
       "\\textbf{Intercept}            &       1.7054  &        0.248     &     6.872  &         0.000        &        1.219    &        2.192     \\\\\n",
       "\\textbf{Clasificacion[T.*]}   &       1.7692  &        0.094     &    18.812  &         0.000        &        1.585    &        1.954     \\\\\n",
       "\\textbf{Clasificacion[T.**+]} &       4.5533  &        0.173     &    26.291  &         0.000        &        4.214    &        4.893     \\\\\n",
       "\\textbf{CalifProductor}       &      -0.4389  &        0.034     &   -12.991  &         0.000        &       -0.505    &       -0.373     \\\\\n",
       "\\textbf{pH}                   &      -0.2613  &        0.066     &    -3.951  &         0.000        &       -0.391    &       -0.132     \\\\\n",
       "\\bottomrule\n",
       "\\end{tabular}\n",
       "%\\caption{Logit Regression Results}\n",
       "\\end{center}"
      ],
      "text/plain": [
       "<class 'statsmodels.iolib.summary.Summary'>\n",
       "\"\"\"\n",
       "                           Logit Regression Results                           \n",
       "==============================================================================\n",
       "Dep. Variable:                 Compra   No. Observations:                 5092\n",
       "Model:                          Logit   Df Residuals:                     5087\n",
       "Method:                           MLE   Df Model:                            4\n",
       "Date:                Tue, 03 Dec 2024   Pseudo R-squ.:                  0.3915\n",
       "Time:                        20:30:12   Log-Likelihood:                -1616.2\n",
       "converged:                       True   LL-Null:                       -2655.9\n",
       "Covariance Type:            nonrobust   LLR p-value:                     0.000\n",
       "========================================================================================\n",
       "                           coef    std err          z      P>|z|      [0.025      0.975]\n",
       "----------------------------------------------------------------------------------------\n",
       "Intercept                1.7054      0.248      6.872      0.000       1.219       2.192\n",
       "Clasificacion[T.*]       1.7692      0.094     18.812      0.000       1.585       1.954\n",
       "Clasificacion[T.**+]     4.5533      0.173     26.291      0.000       4.214       4.893\n",
       "CalifProductor          -0.4389      0.034    -12.991      0.000      -0.505      -0.373\n",
       "pH                      -0.2613      0.066     -3.951      0.000      -0.391      -0.132\n",
       "========================================================================================\n",
       "\"\"\""
      ]
     },
     "execution_count": 38,
     "metadata": {},
     "output_type": "execute_result"
    }
   ],
   "source": [
    "# Se considera un modelo con las 3 primeras variables ya que presentan una importancia bastante más elevada que el resto\n",
    "form1 = 'Compra ~ Clasificacion + CalifProductor + pH'\n",
    "\n",
    "# Ajustar modelo 1\n",
    "modelo1 = logit(form1,data=data_train).fit()\n",
    "modelo1.summary()"
   ]
  },
  {
   "cell_type": "code",
   "execution_count": 39,
   "metadata": {},
   "outputs": [
    {
     "name": "stdout",
     "output_type": "stream",
     "text": [
      "Optimization terminated successfully.\n",
      "         Current function value: 0.303100\n",
      "         Iterations 9\n"
     ]
    },
    {
     "data": {
      "text/html": [
       "<table class=\"simpletable\">\n",
       "<caption>Logit Regression Results</caption>\n",
       "<tr>\n",
       "  <th>Dep. Variable:</th>        <td>Compra</td>      <th>  No. Observations:  </th>  <td>  5092</td> \n",
       "</tr>\n",
       "<tr>\n",
       "  <th>Model:</th>                 <td>Logit</td>      <th>  Df Residuals:      </th>  <td>  5075</td> \n",
       "</tr>\n",
       "<tr>\n",
       "  <th>Method:</th>                 <td>MLE</td>       <th>  Df Model:          </th>  <td>    16</td> \n",
       "</tr>\n",
       "<tr>\n",
       "  <th>Date:</th>            <td>Tue, 03 Dec 2024</td> <th>  Pseudo R-squ.:     </th>  <td>0.4189</td> \n",
       "</tr>\n",
       "<tr>\n",
       "  <th>Time:</th>                <td>20:30:15</td>     <th>  Log-Likelihood:    </th> <td> -1543.4</td>\n",
       "</tr>\n",
       "<tr>\n",
       "  <th>converged:</th>             <td>True</td>       <th>  LL-Null:           </th> <td> -2655.9</td>\n",
       "</tr>\n",
       "<tr>\n",
       "  <th>Covariance Type:</th>     <td>nonrobust</td>    <th>  LLR p-value:       </th>  <td> 0.000</td> \n",
       "</tr>\n",
       "</table>\n",
       "<table class=\"simpletable\">\n",
       "<tr>\n",
       "                   <td></td>                      <th>coef</th>     <th>std err</th>      <th>z</th>      <th>P>|z|</th>  <th>[0.025</th>    <th>0.975]</th>  \n",
       "</tr>\n",
       "<tr>\n",
       "  <th>Intercept</th>                           <td>    2.6114</td> <td>    0.351</td> <td>    7.445</td> <td> 0.000</td> <td>    1.924</td> <td>    3.299</td>\n",
       "</tr>\n",
       "<tr>\n",
       "  <th>Clasificacion[T.*]</th>                  <td>    1.5060</td> <td>    0.419</td> <td>    3.598</td> <td> 0.000</td> <td>    0.686</td> <td>    2.326</td>\n",
       "</tr>\n",
       "<tr>\n",
       "  <th>Clasificacion[T.**+]</th>                <td>    2.7012</td> <td>    1.050</td> <td>    2.572</td> <td> 0.010</td> <td>    0.643</td> <td>    4.760</td>\n",
       "</tr>\n",
       "<tr>\n",
       "  <th>Etiqueta[T.M]</th>                       <td>   -0.3578</td> <td>    0.266</td> <td>   -1.343</td> <td> 0.179</td> <td>   -0.880</td> <td>    0.164</td>\n",
       "</tr>\n",
       "<tr>\n",
       "  <th>Etiqueta[T.R]</th>                       <td>   -1.0943</td> <td>    0.262</td> <td>   -4.173</td> <td> 0.000</td> <td>   -1.608</td> <td>   -0.580</td>\n",
       "</tr>\n",
       "<tr>\n",
       "  <th>Etiqueta[T.B]</th>                       <td>   -1.9260</td> <td>    0.295</td> <td>   -6.519</td> <td> 0.000</td> <td>   -2.505</td> <td>   -1.347</td>\n",
       "</tr>\n",
       "<tr>\n",
       "  <th>Etiqueta[T.MB]</th>                      <td>   -1.8426</td> <td>    0.459</td> <td>   -4.019</td> <td> 0.000</td> <td>   -2.741</td> <td>   -0.944</td>\n",
       "</tr>\n",
       "<tr>\n",
       "  <th>Clasificacion[T.*]:Etiqueta[T.M]</th>    <td>    0.2004</td> <td>    0.458</td> <td>    0.437</td> <td> 0.662</td> <td>   -0.698</td> <td>    1.098</td>\n",
       "</tr>\n",
       "<tr>\n",
       "  <th>Clasificacion[T.**+]:Etiqueta[T.M]</th>  <td>    0.4597</td> <td>    1.086</td> <td>    0.423</td> <td> 0.672</td> <td>   -1.669</td> <td>    2.589</td>\n",
       "</tr>\n",
       "<tr>\n",
       "  <th>Clasificacion[T.*]:Etiqueta[T.R]</th>    <td>    0.1998</td> <td>    0.441</td> <td>    0.453</td> <td> 0.650</td> <td>   -0.664</td> <td>    1.064</td>\n",
       "</tr>\n",
       "<tr>\n",
       "  <th>Clasificacion[T.**+]:Etiqueta[T.R]</th>  <td>    2.1593</td> <td>    1.086</td> <td>    1.988</td> <td> 0.047</td> <td>    0.030</td> <td>    4.289</td>\n",
       "</tr>\n",
       "<tr>\n",
       "  <th>Clasificacion[T.*]:Etiqueta[T.B]</th>    <td>    0.9749</td> <td>    0.485</td> <td>    2.011</td> <td> 0.044</td> <td>    0.025</td> <td>    1.925</td>\n",
       "</tr>\n",
       "<tr>\n",
       "  <th>Clasificacion[T.**+]:Etiqueta[T.B]</th>  <td>    3.5081</td> <td>    1.140</td> <td>    3.077</td> <td> 0.002</td> <td>    1.274</td> <td>    5.743</td>\n",
       "</tr>\n",
       "<tr>\n",
       "  <th>Clasificacion[T.*]:Etiqueta[T.MB]</th>   <td>   -0.3236</td> <td>    0.729</td> <td>   -0.444</td> <td> 0.657</td> <td>   -1.752</td> <td>    1.105</td>\n",
       "</tr>\n",
       "<tr>\n",
       "  <th>Clasificacion[T.**+]:Etiqueta[T.MB]</th> <td>    3.4298</td> <td>    1.504</td> <td>    2.280</td> <td> 0.023</td> <td>    0.481</td> <td>    6.378</td>\n",
       "</tr>\n",
       "<tr>\n",
       "  <th>CalifProductor</th>                      <td>   -0.4244</td> <td>    0.035</td> <td>  -12.240</td> <td> 0.000</td> <td>   -0.492</td> <td>   -0.356</td>\n",
       "</tr>\n",
       "<tr>\n",
       "  <th>pH</th>                                  <td>   -0.2627</td> <td>    0.068</td> <td>   -3.883</td> <td> 0.000</td> <td>   -0.395</td> <td>   -0.130</td>\n",
       "</tr>\n",
       "</table>"
      ],
      "text/latex": [
       "\\begin{center}\n",
       "\\begin{tabular}{lclc}\n",
       "\\toprule\n",
       "\\textbf{Dep. Variable:}                      &      Compra      & \\textbf{  No. Observations:  } &     5092    \\\\\n",
       "\\textbf{Model:}                              &      Logit       & \\textbf{  Df Residuals:      } &     5075    \\\\\n",
       "\\textbf{Method:}                             &       MLE        & \\textbf{  Df Model:          } &       16    \\\\\n",
       "\\textbf{Date:}                               & Tue, 03 Dec 2024 & \\textbf{  Pseudo R-squ.:     } &   0.4189    \\\\\n",
       "\\textbf{Time:}                               &     20:30:15     & \\textbf{  Log-Likelihood:    } &   -1543.4   \\\\\n",
       "\\textbf{converged:}                          &       True       & \\textbf{  LL-Null:           } &   -2655.9   \\\\\n",
       "\\textbf{Covariance Type:}                    &    nonrobust     & \\textbf{  LLR p-value:       } &    0.000    \\\\\n",
       "\\bottomrule\n",
       "\\end{tabular}\n",
       "\\begin{tabular}{lcccccc}\n",
       "                                             & \\textbf{coef} & \\textbf{std err} & \\textbf{z} & \\textbf{P$> |$z$|$} & \\textbf{[0.025} & \\textbf{0.975]}  \\\\\n",
       "\\midrule\n",
       "\\textbf{Intercept}                           &       2.6114  &        0.351     &     7.445  &         0.000        &        1.924    &        3.299     \\\\\n",
       "\\textbf{Clasificacion[T.*]}                  &       1.5060  &        0.419     &     3.598  &         0.000        &        0.686    &        2.326     \\\\\n",
       "\\textbf{Clasificacion[T.**+]}                &       2.7012  &        1.050     &     2.572  &         0.010        &        0.643    &        4.760     \\\\\n",
       "\\textbf{Etiqueta[T.M]}                       &      -0.3578  &        0.266     &    -1.343  &         0.179        &       -0.880    &        0.164     \\\\\n",
       "\\textbf{Etiqueta[T.R]}                       &      -1.0943  &        0.262     &    -4.173  &         0.000        &       -1.608    &       -0.580     \\\\\n",
       "\\textbf{Etiqueta[T.B]}                       &      -1.9260  &        0.295     &    -6.519  &         0.000        &       -2.505    &       -1.347     \\\\\n",
       "\\textbf{Etiqueta[T.MB]}                      &      -1.8426  &        0.459     &    -4.019  &         0.000        &       -2.741    &       -0.944     \\\\\n",
       "\\textbf{Clasificacion[T.*]:Etiqueta[T.M]}    &       0.2004  &        0.458     &     0.437  &         0.662        &       -0.698    &        1.098     \\\\\n",
       "\\textbf{Clasificacion[T.**+]:Etiqueta[T.M]}  &       0.4597  &        1.086     &     0.423  &         0.672        &       -1.669    &        2.589     \\\\\n",
       "\\textbf{Clasificacion[T.*]:Etiqueta[T.R]}    &       0.1998  &        0.441     &     0.453  &         0.650        &       -0.664    &        1.064     \\\\\n",
       "\\textbf{Clasificacion[T.**+]:Etiqueta[T.R]}  &       2.1593  &        1.086     &     1.988  &         0.047        &        0.030    &        4.289     \\\\\n",
       "\\textbf{Clasificacion[T.*]:Etiqueta[T.B]}    &       0.9749  &        0.485     &     2.011  &         0.044        &        0.025    &        1.925     \\\\\n",
       "\\textbf{Clasificacion[T.**+]:Etiqueta[T.B]}  &       3.5081  &        1.140     &     3.077  &         0.002        &        1.274    &        5.743     \\\\\n",
       "\\textbf{Clasificacion[T.*]:Etiqueta[T.MB]}   &      -0.3236  &        0.729     &    -0.444  &         0.657        &       -1.752    &        1.105     \\\\\n",
       "\\textbf{Clasificacion[T.**+]:Etiqueta[T.MB]} &       3.4298  &        1.504     &     2.280  &         0.023        &        0.481    &        6.378     \\\\\n",
       "\\textbf{CalifProductor}                      &      -0.4244  &        0.035     &   -12.240  &         0.000        &       -0.492    &       -0.356     \\\\\n",
       "\\textbf{pH}                                  &      -0.2627  &        0.068     &    -3.883  &         0.000        &       -0.395    &       -0.130     \\\\\n",
       "\\bottomrule\n",
       "\\end{tabular}\n",
       "%\\caption{Logit Regression Results}\n",
       "\\end{center}"
      ],
      "text/plain": [
       "<class 'statsmodels.iolib.summary.Summary'>\n",
       "\"\"\"\n",
       "                           Logit Regression Results                           \n",
       "==============================================================================\n",
       "Dep. Variable:                 Compra   No. Observations:                 5092\n",
       "Model:                          Logit   Df Residuals:                     5075\n",
       "Method:                           MLE   Df Model:                           16\n",
       "Date:                Tue, 03 Dec 2024   Pseudo R-squ.:                  0.4189\n",
       "Time:                        20:30:15   Log-Likelihood:                -1543.4\n",
       "converged:                       True   LL-Null:                       -2655.9\n",
       "Covariance Type:            nonrobust   LLR p-value:                     0.000\n",
       "=======================================================================================================\n",
       "                                          coef    std err          z      P>|z|      [0.025      0.975]\n",
       "-------------------------------------------------------------------------------------------------------\n",
       "Intercept                               2.6114      0.351      7.445      0.000       1.924       3.299\n",
       "Clasificacion[T.*]                      1.5060      0.419      3.598      0.000       0.686       2.326\n",
       "Clasificacion[T.**+]                    2.7012      1.050      2.572      0.010       0.643       4.760\n",
       "Etiqueta[T.M]                          -0.3578      0.266     -1.343      0.179      -0.880       0.164\n",
       "Etiqueta[T.R]                          -1.0943      0.262     -4.173      0.000      -1.608      -0.580\n",
       "Etiqueta[T.B]                          -1.9260      0.295     -6.519      0.000      -2.505      -1.347\n",
       "Etiqueta[T.MB]                         -1.8426      0.459     -4.019      0.000      -2.741      -0.944\n",
       "Clasificacion[T.*]:Etiqueta[T.M]        0.2004      0.458      0.437      0.662      -0.698       1.098\n",
       "Clasificacion[T.**+]:Etiqueta[T.M]      0.4597      1.086      0.423      0.672      -1.669       2.589\n",
       "Clasificacion[T.*]:Etiqueta[T.R]        0.1998      0.441      0.453      0.650      -0.664       1.064\n",
       "Clasificacion[T.**+]:Etiqueta[T.R]      2.1593      1.086      1.988      0.047       0.030       4.289\n",
       "Clasificacion[T.*]:Etiqueta[T.B]        0.9749      0.485      2.011      0.044       0.025       1.925\n",
       "Clasificacion[T.**+]:Etiqueta[T.B]      3.5081      1.140      3.077      0.002       1.274       5.743\n",
       "Clasificacion[T.*]:Etiqueta[T.MB]      -0.3236      0.729     -0.444      0.657      -1.752       1.105\n",
       "Clasificacion[T.**+]:Etiqueta[T.MB]     3.4298      1.504      2.280      0.023       0.481       6.378\n",
       "CalifProductor                         -0.4244      0.035    -12.240      0.000      -0.492      -0.356\n",
       "pH                                     -0.2627      0.068     -3.883      0.000      -0.395      -0.130\n",
       "=======================================================================================================\n",
       "\"\"\""
      ]
     },
     "execution_count": 39,
     "metadata": {},
     "output_type": "execute_result"
    }
   ],
   "source": [
    "# Probar entonces la interacción de clasificación y etiqueta\n",
    "form2 = 'Compra ~ Clasificacion*Etiqueta + CalifProductor + pH'\n",
    "\n",
    "# Ajustar modelo 2\n",
    "modelo2 = logit(form2,data=data_train).fit()\n",
    "modelo2.summary()"
   ]
  },
  {
   "cell_type": "code",
   "execution_count": 40,
   "metadata": {},
   "outputs": [
    {
     "name": "stdout",
     "output_type": "stream",
     "text": [
      "Optimization terminated successfully.\n",
      "         Current function value: 0.307987\n",
      "         Iterations 8\n"
     ]
    },
    {
     "data": {
      "text/html": [
       "<table class=\"simpletable\">\n",
       "<caption>Logit Regression Results</caption>\n",
       "<tr>\n",
       "  <th>Dep. Variable:</th>        <td>Compra</td>      <th>  No. Observations:  </th>  <td>  5092</td> \n",
       "</tr>\n",
       "<tr>\n",
       "  <th>Model:</th>                 <td>Logit</td>      <th>  Df Residuals:      </th>  <td>  5083</td> \n",
       "</tr>\n",
       "<tr>\n",
       "  <th>Method:</th>                 <td>MLE</td>       <th>  Df Model:          </th>  <td>     8</td> \n",
       "</tr>\n",
       "<tr>\n",
       "  <th>Date:</th>            <td>Tue, 03 Dec 2024</td> <th>  Pseudo R-squ.:     </th>  <td>0.4095</td> \n",
       "</tr>\n",
       "<tr>\n",
       "  <th>Time:</th>                <td>20:30:21</td>     <th>  Log-Likelihood:    </th> <td> -1568.3</td>\n",
       "</tr>\n",
       "<tr>\n",
       "  <th>converged:</th>             <td>True</td>       <th>  LL-Null:           </th> <td> -2655.9</td>\n",
       "</tr>\n",
       "<tr>\n",
       "  <th>Covariance Type:</th>     <td>nonrobust</td>    <th>  LLR p-value:       </th>  <td> 0.000</td> \n",
       "</tr>\n",
       "</table>\n",
       "<table class=\"simpletable\">\n",
       "<tr>\n",
       "            <td></td>              <th>coef</th>     <th>std err</th>      <th>z</th>      <th>P>|z|</th>  <th>[0.025</th>    <th>0.975]</th>  \n",
       "</tr>\n",
       "<tr>\n",
       "  <th>Intercept</th>            <td>    2.4790</td> <td>    0.320</td> <td>    7.750</td> <td> 0.000</td> <td>    1.852</td> <td>    3.106</td>\n",
       "</tr>\n",
       "<tr>\n",
       "  <th>Clasificacion[T.*]</th>   <td>    1.7978</td> <td>    0.096</td> <td>   18.640</td> <td> 0.000</td> <td>    1.609</td> <td>    1.987</td>\n",
       "</tr>\n",
       "<tr>\n",
       "  <th>Clasificacion[T.**+]</th> <td>    4.8205</td> <td>    0.178</td> <td>   27.081</td> <td> 0.000</td> <td>    4.472</td> <td>    5.169</td>\n",
       "</tr>\n",
       "<tr>\n",
       "  <th>Etiqueta[T.M]</th>        <td>   -0.3483</td> <td>    0.218</td> <td>   -1.600</td> <td> 0.110</td> <td>   -0.775</td> <td>    0.078</td>\n",
       "</tr>\n",
       "<tr>\n",
       "  <th>Etiqueta[T.R]</th>        <td>   -1.0004</td> <td>    0.212</td> <td>   -4.719</td> <td> 0.000</td> <td>   -1.416</td> <td>   -0.585</td>\n",
       "</tr>\n",
       "<tr>\n",
       "  <th>Etiqueta[T.B]</th>        <td>   -1.3695</td> <td>    0.227</td> <td>   -6.027</td> <td> 0.000</td> <td>   -1.815</td> <td>   -0.924</td>\n",
       "</tr>\n",
       "<tr>\n",
       "  <th>Etiqueta[T.MB]</th>       <td>   -1.7407</td> <td>    0.330</td> <td>   -5.280</td> <td> 0.000</td> <td>   -2.387</td> <td>   -1.095</td>\n",
       "</tr>\n",
       "<tr>\n",
       "  <th>CalifProductor</th>       <td>   -0.4283</td> <td>    0.034</td> <td>  -12.439</td> <td> 0.000</td> <td>   -0.496</td> <td>   -0.361</td>\n",
       "</tr>\n",
       "<tr>\n",
       "  <th>pH</th>                   <td>   -0.2583</td> <td>    0.067</td> <td>   -3.840</td> <td> 0.000</td> <td>   -0.390</td> <td>   -0.126</td>\n",
       "</tr>\n",
       "</table>"
      ],
      "text/latex": [
       "\\begin{center}\n",
       "\\begin{tabular}{lclc}\n",
       "\\toprule\n",
       "\\textbf{Dep. Variable:}       &      Compra      & \\textbf{  No. Observations:  } &     5092    \\\\\n",
       "\\textbf{Model:}               &      Logit       & \\textbf{  Df Residuals:      } &     5083    \\\\\n",
       "\\textbf{Method:}              &       MLE        & \\textbf{  Df Model:          } &        8    \\\\\n",
       "\\textbf{Date:}                & Tue, 03 Dec 2024 & \\textbf{  Pseudo R-squ.:     } &   0.4095    \\\\\n",
       "\\textbf{Time:}                &     20:30:21     & \\textbf{  Log-Likelihood:    } &   -1568.3   \\\\\n",
       "\\textbf{converged:}           &       True       & \\textbf{  LL-Null:           } &   -2655.9   \\\\\n",
       "\\textbf{Covariance Type:}     &    nonrobust     & \\textbf{  LLR p-value:       } &    0.000    \\\\\n",
       "\\bottomrule\n",
       "\\end{tabular}\n",
       "\\begin{tabular}{lcccccc}\n",
       "                              & \\textbf{coef} & \\textbf{std err} & \\textbf{z} & \\textbf{P$> |$z$|$} & \\textbf{[0.025} & \\textbf{0.975]}  \\\\\n",
       "\\midrule\n",
       "\\textbf{Intercept}            &       2.4790  &        0.320     &     7.750  &         0.000        &        1.852    &        3.106     \\\\\n",
       "\\textbf{Clasificacion[T.*]}   &       1.7978  &        0.096     &    18.640  &         0.000        &        1.609    &        1.987     \\\\\n",
       "\\textbf{Clasificacion[T.**+]} &       4.8205  &        0.178     &    27.081  &         0.000        &        4.472    &        5.169     \\\\\n",
       "\\textbf{Etiqueta[T.M]}        &      -0.3483  &        0.218     &    -1.600  &         0.110        &       -0.775    &        0.078     \\\\\n",
       "\\textbf{Etiqueta[T.R]}        &      -1.0004  &        0.212     &    -4.719  &         0.000        &       -1.416    &       -0.585     \\\\\n",
       "\\textbf{Etiqueta[T.B]}        &      -1.3695  &        0.227     &    -6.027  &         0.000        &       -1.815    &       -0.924     \\\\\n",
       "\\textbf{Etiqueta[T.MB]}       &      -1.7407  &        0.330     &    -5.280  &         0.000        &       -2.387    &       -1.095     \\\\\n",
       "\\textbf{CalifProductor}       &      -0.4283  &        0.034     &   -12.439  &         0.000        &       -0.496    &       -0.361     \\\\\n",
       "\\textbf{pH}                   &      -0.2583  &        0.067     &    -3.840  &         0.000        &       -0.390    &       -0.126     \\\\\n",
       "\\bottomrule\n",
       "\\end{tabular}\n",
       "%\\caption{Logit Regression Results}\n",
       "\\end{center}"
      ],
      "text/plain": [
       "<class 'statsmodels.iolib.summary.Summary'>\n",
       "\"\"\"\n",
       "                           Logit Regression Results                           \n",
       "==============================================================================\n",
       "Dep. Variable:                 Compra   No. Observations:                 5092\n",
       "Model:                          Logit   Df Residuals:                     5083\n",
       "Method:                           MLE   Df Model:                            8\n",
       "Date:                Tue, 03 Dec 2024   Pseudo R-squ.:                  0.4095\n",
       "Time:                        20:30:21   Log-Likelihood:                -1568.3\n",
       "converged:                       True   LL-Null:                       -2655.9\n",
       "Covariance Type:            nonrobust   LLR p-value:                     0.000\n",
       "========================================================================================\n",
       "                           coef    std err          z      P>|z|      [0.025      0.975]\n",
       "----------------------------------------------------------------------------------------\n",
       "Intercept                2.4790      0.320      7.750      0.000       1.852       3.106\n",
       "Clasificacion[T.*]       1.7978      0.096     18.640      0.000       1.609       1.987\n",
       "Clasificacion[T.**+]     4.8205      0.178     27.081      0.000       4.472       5.169\n",
       "Etiqueta[T.M]           -0.3483      0.218     -1.600      0.110      -0.775       0.078\n",
       "Etiqueta[T.R]           -1.0004      0.212     -4.719      0.000      -1.416      -0.585\n",
       "Etiqueta[T.B]           -1.3695      0.227     -6.027      0.000      -1.815      -0.924\n",
       "Etiqueta[T.MB]          -1.7407      0.330     -5.280      0.000      -2.387      -1.095\n",
       "CalifProductor          -0.4283      0.034    -12.439      0.000      -0.496      -0.361\n",
       "pH                      -0.2583      0.067     -3.840      0.000      -0.390      -0.126\n",
       "========================================================================================\n",
       "\"\"\""
      ]
     },
     "execution_count": 40,
     "metadata": {},
     "output_type": "execute_result"
    }
   ],
   "source": [
    "# Eliminar la interacción y poner en su lugar un par de variables continuas para obtener un modelo más sencillo\n",
    "form3 = 'Compra ~  Clasificacion + CalifProductor + pH + Etiqueta'\n",
    "\n",
    "# Ajustar modelo 3\n",
    "modelo3 = logit(form3,data=data_train).fit()\n",
    "modelo3.summary()"
   ]
  },
  {
   "cell_type": "code",
   "execution_count": 41,
   "metadata": {},
   "outputs": [
    {
     "name": "stdout",
     "output_type": "stream",
     "text": [
      "Optimization terminated successfully.\n",
      "         Current function value: 0.307458\n",
      "         Iterations 8\n"
     ]
    },
    {
     "data": {
      "text/html": [
       "<table class=\"simpletable\">\n",
       "<caption>Logit Regression Results</caption>\n",
       "<tr>\n",
       "  <th>Dep. Variable:</th>        <td>Compra</td>      <th>  No. Observations:  </th>  <td>  5092</td> \n",
       "</tr>\n",
       "<tr>\n",
       "  <th>Model:</th>                 <td>Logit</td>      <th>  Df Residuals:      </th>  <td>  5082</td> \n",
       "</tr>\n",
       "<tr>\n",
       "  <th>Method:</th>                 <td>MLE</td>       <th>  Df Model:          </th>  <td>     9</td> \n",
       "</tr>\n",
       "<tr>\n",
       "  <th>Date:</th>            <td>Tue, 03 Dec 2024</td> <th>  Pseudo R-squ.:     </th>  <td>0.4105</td> \n",
       "</tr>\n",
       "<tr>\n",
       "  <th>Time:</th>                <td>20:30:24</td>     <th>  Log-Likelihood:    </th> <td> -1565.6</td>\n",
       "</tr>\n",
       "<tr>\n",
       "  <th>converged:</th>             <td>True</td>       <th>  LL-Null:           </th> <td> -2655.9</td>\n",
       "</tr>\n",
       "<tr>\n",
       "  <th>Covariance Type:</th>     <td>nonrobust</td>    <th>  LLR p-value:       </th>  <td> 0.000</td> \n",
       "</tr>\n",
       "</table>\n",
       "<table class=\"simpletable\">\n",
       "<tr>\n",
       "            <td></td>              <th>coef</th>     <th>std err</th>      <th>z</th>      <th>P>|z|</th>  <th>[0.025</th>    <th>0.975]</th>  \n",
       "</tr>\n",
       "<tr>\n",
       "  <th>Intercept</th>            <td>    2.4941</td> <td>    0.320</td> <td>    7.797</td> <td> 0.000</td> <td>    1.867</td> <td>    3.121</td>\n",
       "</tr>\n",
       "<tr>\n",
       "  <th>Clasificacion[T.*]</th>   <td>    1.7963</td> <td>    0.097</td> <td>   18.611</td> <td> 0.000</td> <td>    1.607</td> <td>    1.985</td>\n",
       "</tr>\n",
       "<tr>\n",
       "  <th>Clasificacion[T.**+]</th> <td>    4.8203</td> <td>    0.178</td> <td>   27.064</td> <td> 0.000</td> <td>    4.471</td> <td>    5.169</td>\n",
       "</tr>\n",
       "<tr>\n",
       "  <th>Etiqueta[T.M]</th>        <td>   -0.3445</td> <td>    0.218</td> <td>   -1.581</td> <td> 0.114</td> <td>   -0.771</td> <td>    0.082</td>\n",
       "</tr>\n",
       "<tr>\n",
       "  <th>Etiqueta[T.R]</th>        <td>   -0.9934</td> <td>    0.212</td> <td>   -4.682</td> <td> 0.000</td> <td>   -1.409</td> <td>   -0.578</td>\n",
       "</tr>\n",
       "<tr>\n",
       "  <th>Etiqueta[T.B]</th>        <td>   -1.3644</td> <td>    0.227</td> <td>   -6.000</td> <td> 0.000</td> <td>   -1.810</td> <td>   -0.919</td>\n",
       "</tr>\n",
       "<tr>\n",
       "  <th>Etiqueta[T.MB]</th>       <td>   -1.7293</td> <td>    0.331</td> <td>   -5.231</td> <td> 0.000</td> <td>   -2.377</td> <td>   -1.081</td>\n",
       "</tr>\n",
       "<tr>\n",
       "  <th>CalifProductor</th>       <td>   -0.4254</td> <td>    0.034</td> <td>  -12.351</td> <td> 0.000</td> <td>   -0.493</td> <td>   -0.358</td>\n",
       "</tr>\n",
       "<tr>\n",
       "  <th>pH</th>                   <td>   -0.2613</td> <td>    0.067</td> <td>   -3.884</td> <td> 0.000</td> <td>   -0.393</td> <td>   -0.129</td>\n",
       "</tr>\n",
       "<tr>\n",
       "  <th>CloruroSodico</th>        <td>   -0.3321</td> <td>    0.143</td> <td>   -2.317</td> <td> 0.020</td> <td>   -0.613</td> <td>   -0.051</td>\n",
       "</tr>\n",
       "</table>"
      ],
      "text/latex": [
       "\\begin{center}\n",
       "\\begin{tabular}{lclc}\n",
       "\\toprule\n",
       "\\textbf{Dep. Variable:}       &      Compra      & \\textbf{  No. Observations:  } &     5092    \\\\\n",
       "\\textbf{Model:}               &      Logit       & \\textbf{  Df Residuals:      } &     5082    \\\\\n",
       "\\textbf{Method:}              &       MLE        & \\textbf{  Df Model:          } &        9    \\\\\n",
       "\\textbf{Date:}                & Tue, 03 Dec 2024 & \\textbf{  Pseudo R-squ.:     } &   0.4105    \\\\\n",
       "\\textbf{Time:}                &     20:30:24     & \\textbf{  Log-Likelihood:    } &   -1565.6   \\\\\n",
       "\\textbf{converged:}           &       True       & \\textbf{  LL-Null:           } &   -2655.9   \\\\\n",
       "\\textbf{Covariance Type:}     &    nonrobust     & \\textbf{  LLR p-value:       } &    0.000    \\\\\n",
       "\\bottomrule\n",
       "\\end{tabular}\n",
       "\\begin{tabular}{lcccccc}\n",
       "                              & \\textbf{coef} & \\textbf{std err} & \\textbf{z} & \\textbf{P$> |$z$|$} & \\textbf{[0.025} & \\textbf{0.975]}  \\\\\n",
       "\\midrule\n",
       "\\textbf{Intercept}            &       2.4941  &        0.320     &     7.797  &         0.000        &        1.867    &        3.121     \\\\\n",
       "\\textbf{Clasificacion[T.*]}   &       1.7963  &        0.097     &    18.611  &         0.000        &        1.607    &        1.985     \\\\\n",
       "\\textbf{Clasificacion[T.**+]} &       4.8203  &        0.178     &    27.064  &         0.000        &        4.471    &        5.169     \\\\\n",
       "\\textbf{Etiqueta[T.M]}        &      -0.3445  &        0.218     &    -1.581  &         0.114        &       -0.771    &        0.082     \\\\\n",
       "\\textbf{Etiqueta[T.R]}        &      -0.9934  &        0.212     &    -4.682  &         0.000        &       -1.409    &       -0.578     \\\\\n",
       "\\textbf{Etiqueta[T.B]}        &      -1.3644  &        0.227     &    -6.000  &         0.000        &       -1.810    &       -0.919     \\\\\n",
       "\\textbf{Etiqueta[T.MB]}       &      -1.7293  &        0.331     &    -5.231  &         0.000        &       -2.377    &       -1.081     \\\\\n",
       "\\textbf{CalifProductor}       &      -0.4254  &        0.034     &   -12.351  &         0.000        &       -0.493    &       -0.358     \\\\\n",
       "\\textbf{pH}                   &      -0.2613  &        0.067     &    -3.884  &         0.000        &       -0.393    &       -0.129     \\\\\n",
       "\\textbf{CloruroSodico}        &      -0.3321  &        0.143     &    -2.317  &         0.020        &       -0.613    &       -0.051     \\\\\n",
       "\\bottomrule\n",
       "\\end{tabular}\n",
       "%\\caption{Logit Regression Results}\n",
       "\\end{center}"
      ],
      "text/plain": [
       "<class 'statsmodels.iolib.summary.Summary'>\n",
       "\"\"\"\n",
       "                           Logit Regression Results                           \n",
       "==============================================================================\n",
       "Dep. Variable:                 Compra   No. Observations:                 5092\n",
       "Model:                          Logit   Df Residuals:                     5082\n",
       "Method:                           MLE   Df Model:                            9\n",
       "Date:                Tue, 03 Dec 2024   Pseudo R-squ.:                  0.4105\n",
       "Time:                        20:30:24   Log-Likelihood:                -1565.6\n",
       "converged:                       True   LL-Null:                       -2655.9\n",
       "Covariance Type:            nonrobust   LLR p-value:                     0.000\n",
       "========================================================================================\n",
       "                           coef    std err          z      P>|z|      [0.025      0.975]\n",
       "----------------------------------------------------------------------------------------\n",
       "Intercept                2.4941      0.320      7.797      0.000       1.867       3.121\n",
       "Clasificacion[T.*]       1.7963      0.097     18.611      0.000       1.607       1.985\n",
       "Clasificacion[T.**+]     4.8203      0.178     27.064      0.000       4.471       5.169\n",
       "Etiqueta[T.M]           -0.3445      0.218     -1.581      0.114      -0.771       0.082\n",
       "Etiqueta[T.R]           -0.9934      0.212     -4.682      0.000      -1.409      -0.578\n",
       "Etiqueta[T.B]           -1.3644      0.227     -6.000      0.000      -1.810      -0.919\n",
       "Etiqueta[T.MB]          -1.7293      0.331     -5.231      0.000      -2.377      -1.081\n",
       "CalifProductor          -0.4254      0.034    -12.351      0.000      -0.493      -0.358\n",
       "pH                      -0.2613      0.067     -3.884      0.000      -0.393      -0.129\n",
       "CloruroSodico           -0.3321      0.143     -2.317      0.020      -0.613      -0.051\n",
       "========================================================================================\n",
       "\"\"\""
      ]
     },
     "execution_count": 41,
     "metadata": {},
     "output_type": "execute_result"
    }
   ],
   "source": [
    "# Introducir otro par de variables continuas de las que pueden influir para valorar el aporte a la capacidad predictiva\n",
    "form4 = 'Compra ~  Clasificacion + CalifProductor + pH + Etiqueta + CloruroSodico'\n",
    "\n",
    "# Ajustar modelo 4\n",
    "modelo4 = logit(form4,data=data_train).fit()\n",
    "modelo4.summary()"
   ]
  },
  {
   "cell_type": "code",
   "execution_count": 42,
   "metadata": {},
   "outputs": [
    {
     "name": "stdout",
     "output_type": "stream",
     "text": [
      "Optimization terminated successfully.\n",
      "         Current function value: 0.307112\n",
      "         Iterations 8\n"
     ]
    },
    {
     "data": {
      "text/html": [
       "<table class=\"simpletable\">\n",
       "<caption>Logit Regression Results</caption>\n",
       "<tr>\n",
       "  <th>Dep. Variable:</th>        <td>Compra</td>      <th>  No. Observations:  </th>  <td>  5092</td> \n",
       "</tr>\n",
       "<tr>\n",
       "  <th>Model:</th>                 <td>Logit</td>      <th>  Df Residuals:      </th>  <td>  5082</td> \n",
       "</tr>\n",
       "<tr>\n",
       "  <th>Method:</th>                 <td>MLE</td>       <th>  Df Model:          </th>  <td>     9</td> \n",
       "</tr>\n",
       "<tr>\n",
       "  <th>Date:</th>            <td>Tue, 03 Dec 2024</td> <th>  Pseudo R-squ.:     </th>  <td>0.4112</td> \n",
       "</tr>\n",
       "<tr>\n",
       "  <th>Time:</th>                <td>20:30:28</td>     <th>  Log-Likelihood:    </th> <td> -1563.8</td>\n",
       "</tr>\n",
       "<tr>\n",
       "  <th>converged:</th>             <td>True</td>       <th>  LL-Null:           </th> <td> -2655.9</td>\n",
       "</tr>\n",
       "<tr>\n",
       "  <th>Covariance Type:</th>     <td>nonrobust</td>    <th>  LLR p-value:       </th>  <td> 0.000</td> \n",
       "</tr>\n",
       "</table>\n",
       "<table class=\"simpletable\">\n",
       "<tr>\n",
       "            <td></td>              <th>coef</th>     <th>std err</th>      <th>z</th>      <th>P>|z|</th>  <th>[0.025</th>    <th>0.975]</th>  \n",
       "</tr>\n",
       "<tr>\n",
       "  <th>Intercept</th>            <td>    2.5096</td> <td>    0.321</td> <td>    7.820</td> <td> 0.000</td> <td>    1.881</td> <td>    3.139</td>\n",
       "</tr>\n",
       "<tr>\n",
       "  <th>Clasificacion[T.*]</th>   <td>    1.7982</td> <td>    0.097</td> <td>   18.606</td> <td> 0.000</td> <td>    1.609</td> <td>    1.988</td>\n",
       "</tr>\n",
       "<tr>\n",
       "  <th>Clasificacion[T.**+]</th> <td>    4.8116</td> <td>    0.178</td> <td>   27.042</td> <td> 0.000</td> <td>    4.463</td> <td>    5.160</td>\n",
       "</tr>\n",
       "<tr>\n",
       "  <th>Etiqueta[T.M]</th>        <td>   -0.3510</td> <td>    0.218</td> <td>   -1.610</td> <td> 0.107</td> <td>   -0.778</td> <td>    0.076</td>\n",
       "</tr>\n",
       "<tr>\n",
       "  <th>Etiqueta[T.R]</th>        <td>   -0.9975</td> <td>    0.212</td> <td>   -4.698</td> <td> 0.000</td> <td>   -1.414</td> <td>   -0.581</td>\n",
       "</tr>\n",
       "<tr>\n",
       "  <th>Etiqueta[T.B]</th>        <td>   -1.3797</td> <td>    0.228</td> <td>   -6.063</td> <td> 0.000</td> <td>   -1.826</td> <td>   -0.934</td>\n",
       "</tr>\n",
       "<tr>\n",
       "  <th>Etiqueta[T.MB]</th>       <td>   -1.7487</td> <td>    0.330</td> <td>   -5.300</td> <td> 0.000</td> <td>   -2.395</td> <td>   -1.102</td>\n",
       "</tr>\n",
       "<tr>\n",
       "  <th>CalifProductor</th>       <td>   -0.4234</td> <td>    0.035</td> <td>  -12.266</td> <td> 0.000</td> <td>   -0.491</td> <td>   -0.356</td>\n",
       "</tr>\n",
       "<tr>\n",
       "  <th>pH</th>                   <td>   -0.2509</td> <td>    0.068</td> <td>   -3.716</td> <td> 0.000</td> <td>   -0.383</td> <td>   -0.119</td>\n",
       "</tr>\n",
       "<tr>\n",
       "  <th>Acidez</th>               <td>   -0.1756</td> <td>    0.059</td> <td>   -2.977</td> <td> 0.003</td> <td>   -0.291</td> <td>   -0.060</td>\n",
       "</tr>\n",
       "</table>"
      ],
      "text/latex": [
       "\\begin{center}\n",
       "\\begin{tabular}{lclc}\n",
       "\\toprule\n",
       "\\textbf{Dep. Variable:}       &      Compra      & \\textbf{  No. Observations:  } &     5092    \\\\\n",
       "\\textbf{Model:}               &      Logit       & \\textbf{  Df Residuals:      } &     5082    \\\\\n",
       "\\textbf{Method:}              &       MLE        & \\textbf{  Df Model:          } &        9    \\\\\n",
       "\\textbf{Date:}                & Tue, 03 Dec 2024 & \\textbf{  Pseudo R-squ.:     } &   0.4112    \\\\\n",
       "\\textbf{Time:}                &     20:30:28     & \\textbf{  Log-Likelihood:    } &   -1563.8   \\\\\n",
       "\\textbf{converged:}           &       True       & \\textbf{  LL-Null:           } &   -2655.9   \\\\\n",
       "\\textbf{Covariance Type:}     &    nonrobust     & \\textbf{  LLR p-value:       } &    0.000    \\\\\n",
       "\\bottomrule\n",
       "\\end{tabular}\n",
       "\\begin{tabular}{lcccccc}\n",
       "                              & \\textbf{coef} & \\textbf{std err} & \\textbf{z} & \\textbf{P$> |$z$|$} & \\textbf{[0.025} & \\textbf{0.975]}  \\\\\n",
       "\\midrule\n",
       "\\textbf{Intercept}            &       2.5096  &        0.321     &     7.820  &         0.000        &        1.881    &        3.139     \\\\\n",
       "\\textbf{Clasificacion[T.*]}   &       1.7982  &        0.097     &    18.606  &         0.000        &        1.609    &        1.988     \\\\\n",
       "\\textbf{Clasificacion[T.**+]} &       4.8116  &        0.178     &    27.042  &         0.000        &        4.463    &        5.160     \\\\\n",
       "\\textbf{Etiqueta[T.M]}        &      -0.3510  &        0.218     &    -1.610  &         0.107        &       -0.778    &        0.076     \\\\\n",
       "\\textbf{Etiqueta[T.R]}        &      -0.9975  &        0.212     &    -4.698  &         0.000        &       -1.414    &       -0.581     \\\\\n",
       "\\textbf{Etiqueta[T.B]}        &      -1.3797  &        0.228     &    -6.063  &         0.000        &       -1.826    &       -0.934     \\\\\n",
       "\\textbf{Etiqueta[T.MB]}       &      -1.7487  &        0.330     &    -5.300  &         0.000        &       -2.395    &       -1.102     \\\\\n",
       "\\textbf{CalifProductor}       &      -0.4234  &        0.035     &   -12.266  &         0.000        &       -0.491    &       -0.356     \\\\\n",
       "\\textbf{pH}                   &      -0.2509  &        0.068     &    -3.716  &         0.000        &       -0.383    &       -0.119     \\\\\n",
       "\\textbf{Acidez}               &      -0.1756  &        0.059     &    -2.977  &         0.003        &       -0.291    &       -0.060     \\\\\n",
       "\\bottomrule\n",
       "\\end{tabular}\n",
       "%\\caption{Logit Regression Results}\n",
       "\\end{center}"
      ],
      "text/plain": [
       "<class 'statsmodels.iolib.summary.Summary'>\n",
       "\"\"\"\n",
       "                           Logit Regression Results                           \n",
       "==============================================================================\n",
       "Dep. Variable:                 Compra   No. Observations:                 5092\n",
       "Model:                          Logit   Df Residuals:                     5082\n",
       "Method:                           MLE   Df Model:                            9\n",
       "Date:                Tue, 03 Dec 2024   Pseudo R-squ.:                  0.4112\n",
       "Time:                        20:30:28   Log-Likelihood:                -1563.8\n",
       "converged:                       True   LL-Null:                       -2655.9\n",
       "Covariance Type:            nonrobust   LLR p-value:                     0.000\n",
       "========================================================================================\n",
       "                           coef    std err          z      P>|z|      [0.025      0.975]\n",
       "----------------------------------------------------------------------------------------\n",
       "Intercept                2.5096      0.321      7.820      0.000       1.881       3.139\n",
       "Clasificacion[T.*]       1.7982      0.097     18.606      0.000       1.609       1.988\n",
       "Clasificacion[T.**+]     4.8116      0.178     27.042      0.000       4.463       5.160\n",
       "Etiqueta[T.M]           -0.3510      0.218     -1.610      0.107      -0.778       0.076\n",
       "Etiqueta[T.R]           -0.9975      0.212     -4.698      0.000      -1.414      -0.581\n",
       "Etiqueta[T.B]           -1.3797      0.228     -6.063      0.000      -1.826      -0.934\n",
       "Etiqueta[T.MB]          -1.7487      0.330     -5.300      0.000      -2.395      -1.102\n",
       "CalifProductor          -0.4234      0.035    -12.266      0.000      -0.491      -0.356\n",
       "pH                      -0.2509      0.068     -3.716      0.000      -0.383      -0.119\n",
       "Acidez                  -0.1756      0.059     -2.977      0.003      -0.291      -0.060\n",
       "========================================================================================\n",
       "\"\"\""
      ]
     },
     "execution_count": 42,
     "metadata": {},
     "output_type": "execute_result"
    }
   ],
   "source": [
    "form5 = 'Compra ~  Clasificacion + CalifProductor + pH + Etiqueta + Acidez'\n",
    "\n",
    "# Ajustar modelo 5\n",
    "modelo5 = logit(form5,data=data_train).fit()\n",
    "modelo5.summary()"
   ]
  },
  {
   "cell_type": "code",
   "execution_count": 43,
   "metadata": {},
   "outputs": [
    {
     "name": "stdout",
     "output_type": "stream",
     "text": [
      "Optimization terminated successfully.\n",
      "         Current function value: 0.301668\n",
      "         Iterations 9\n"
     ]
    },
    {
     "data": {
      "text/html": [
       "<table class=\"simpletable\">\n",
       "<caption>Logit Regression Results</caption>\n",
       "<tr>\n",
       "  <th>Dep. Variable:</th>        <td>Compra</td>      <th>  No. Observations:  </th>  <td>  5092</td> \n",
       "</tr>\n",
       "<tr>\n",
       "  <th>Model:</th>                 <td>Logit</td>      <th>  Df Residuals:      </th>  <td>  5073</td> \n",
       "</tr>\n",
       "<tr>\n",
       "  <th>Method:</th>                 <td>MLE</td>       <th>  Df Model:          </th>  <td>    18</td> \n",
       "</tr>\n",
       "<tr>\n",
       "  <th>Date:</th>            <td>Tue, 03 Dec 2024</td> <th>  Pseudo R-squ.:     </th>  <td>0.4216</td> \n",
       "</tr>\n",
       "<tr>\n",
       "  <th>Time:</th>                <td>20:30:31</td>     <th>  Log-Likelihood:    </th> <td> -1536.1</td>\n",
       "</tr>\n",
       "<tr>\n",
       "  <th>converged:</th>             <td>True</td>       <th>  LL-Null:           </th> <td> -2655.9</td>\n",
       "</tr>\n",
       "<tr>\n",
       "  <th>Covariance Type:</th>     <td>nonrobust</td>    <th>  LLR p-value:       </th>  <td> 0.000</td> \n",
       "</tr>\n",
       "</table>\n",
       "<table class=\"simpletable\">\n",
       "<tr>\n",
       "                   <td></td>                      <th>coef</th>     <th>std err</th>      <th>z</th>      <th>P>|z|</th>  <th>[0.025</th>    <th>0.975]</th>  \n",
       "</tr>\n",
       "<tr>\n",
       "  <th>Intercept</th>                           <td>    2.6440</td> <td>    0.352</td> <td>    7.508</td> <td> 0.000</td> <td>    1.954</td> <td>    3.334</td>\n",
       "</tr>\n",
       "<tr>\n",
       "  <th>Clasificacion[T.*]</th>                  <td>    1.5383</td> <td>    0.420</td> <td>    3.661</td> <td> 0.000</td> <td>    0.715</td> <td>    2.362</td>\n",
       "</tr>\n",
       "<tr>\n",
       "  <th>Clasificacion[T.**+]</th>                <td>    2.7580</td> <td>    1.051</td> <td>    2.624</td> <td> 0.009</td> <td>    0.698</td> <td>    4.818</td>\n",
       "</tr>\n",
       "<tr>\n",
       "  <th>Etiqueta[T.M]</th>                       <td>   -0.3535</td> <td>    0.268</td> <td>   -1.319</td> <td> 0.187</td> <td>   -0.879</td> <td>    0.172</td>\n",
       "</tr>\n",
       "<tr>\n",
       "  <th>Etiqueta[T.R]</th>                       <td>   -1.0656</td> <td>    0.264</td> <td>   -4.039</td> <td> 0.000</td> <td>   -1.583</td> <td>   -0.549</td>\n",
       "</tr>\n",
       "<tr>\n",
       "  <th>Etiqueta[T.B]</th>                       <td>   -1.9285</td> <td>    0.297</td> <td>   -6.494</td> <td> 0.000</td> <td>   -2.510</td> <td>   -1.346</td>\n",
       "</tr>\n",
       "<tr>\n",
       "  <th>Etiqueta[T.MB]</th>                      <td>   -1.8048</td> <td>    0.460</td> <td>   -3.926</td> <td> 0.000</td> <td>   -2.706</td> <td>   -0.904</td>\n",
       "</tr>\n",
       "<tr>\n",
       "  <th>Clasificacion[T.*]:Etiqueta[T.M]</th>    <td>    0.1894</td> <td>    0.460</td> <td>    0.412</td> <td> 0.680</td> <td>   -0.712</td> <td>    1.091</td>\n",
       "</tr>\n",
       "<tr>\n",
       "  <th>Clasificacion[T.**+]:Etiqueta[T.M]</th>  <td>    0.4284</td> <td>    1.087</td> <td>    0.394</td> <td> 0.693</td> <td>   -1.702</td> <td>    2.559</td>\n",
       "</tr>\n",
       "<tr>\n",
       "  <th>Clasificacion[T.*]:Etiqueta[T.R]</th>    <td>    0.1489</td> <td>    0.443</td> <td>    0.337</td> <td> 0.736</td> <td>   -0.718</td> <td>    1.016</td>\n",
       "</tr>\n",
       "<tr>\n",
       "  <th>Clasificacion[T.**+]:Etiqueta[T.R]</th>  <td>    2.0729</td> <td>    1.087</td> <td>    1.907</td> <td> 0.057</td> <td>   -0.058</td> <td>    4.203</td>\n",
       "</tr>\n",
       "<tr>\n",
       "  <th>Clasificacion[T.*]:Etiqueta[T.B]</th>    <td>    0.9536</td> <td>    0.486</td> <td>    1.961</td> <td> 0.050</td> <td>    0.001</td> <td>    1.907</td>\n",
       "</tr>\n",
       "<tr>\n",
       "  <th>Clasificacion[T.**+]:Etiqueta[T.B]</th>  <td>    3.4543</td> <td>    1.141</td> <td>    3.028</td> <td> 0.002</td> <td>    1.219</td> <td>    5.690</td>\n",
       "</tr>\n",
       "<tr>\n",
       "  <th>Clasificacion[T.*]:Etiqueta[T.MB]</th>   <td>   -0.4221</td> <td>    0.731</td> <td>   -0.577</td> <td> 0.564</td> <td>   -1.855</td> <td>    1.011</td>\n",
       "</tr>\n",
       "<tr>\n",
       "  <th>Clasificacion[T.**+]:Etiqueta[T.MB]</th> <td>    3.3473</td> <td>    1.505</td> <td>    2.224</td> <td> 0.026</td> <td>    0.398</td> <td>    6.297</td>\n",
       "</tr>\n",
       "<tr>\n",
       "  <th>CalifProductor</th>                      <td>   -0.4159</td> <td>    0.035</td> <td>  -11.956</td> <td> 0.000</td> <td>   -0.484</td> <td>   -0.348</td>\n",
       "</tr>\n",
       "<tr>\n",
       "  <th>pH</th>                                  <td>   -0.2573</td> <td>    0.068</td> <td>   -3.789</td> <td> 0.000</td> <td>   -0.390</td> <td>   -0.124</td>\n",
       "</tr>\n",
       "<tr>\n",
       "  <th>CloruroSodico</th>                       <td>   -0.3533</td> <td>    0.145</td> <td>   -2.431</td> <td> 0.015</td> <td>   -0.638</td> <td>   -0.068</td>\n",
       "</tr>\n",
       "<tr>\n",
       "  <th>Acidez</th>                              <td>   -0.1793</td> <td>    0.060</td> <td>   -3.013</td> <td> 0.003</td> <td>   -0.296</td> <td>   -0.063</td>\n",
       "</tr>\n",
       "</table>"
      ],
      "text/latex": [
       "\\begin{center}\n",
       "\\begin{tabular}{lclc}\n",
       "\\toprule\n",
       "\\textbf{Dep. Variable:}                      &      Compra      & \\textbf{  No. Observations:  } &     5092    \\\\\n",
       "\\textbf{Model:}                              &      Logit       & \\textbf{  Df Residuals:      } &     5073    \\\\\n",
       "\\textbf{Method:}                             &       MLE        & \\textbf{  Df Model:          } &       18    \\\\\n",
       "\\textbf{Date:}                               & Tue, 03 Dec 2024 & \\textbf{  Pseudo R-squ.:     } &   0.4216    \\\\\n",
       "\\textbf{Time:}                               &     20:30:31     & \\textbf{  Log-Likelihood:    } &   -1536.1   \\\\\n",
       "\\textbf{converged:}                          &       True       & \\textbf{  LL-Null:           } &   -2655.9   \\\\\n",
       "\\textbf{Covariance Type:}                    &    nonrobust     & \\textbf{  LLR p-value:       } &    0.000    \\\\\n",
       "\\bottomrule\n",
       "\\end{tabular}\n",
       "\\begin{tabular}{lcccccc}\n",
       "                                             & \\textbf{coef} & \\textbf{std err} & \\textbf{z} & \\textbf{P$> |$z$|$} & \\textbf{[0.025} & \\textbf{0.975]}  \\\\\n",
       "\\midrule\n",
       "\\textbf{Intercept}                           &       2.6440  &        0.352     &     7.508  &         0.000        &        1.954    &        3.334     \\\\\n",
       "\\textbf{Clasificacion[T.*]}                  &       1.5383  &        0.420     &     3.661  &         0.000        &        0.715    &        2.362     \\\\\n",
       "\\textbf{Clasificacion[T.**+]}                &       2.7580  &        1.051     &     2.624  &         0.009        &        0.698    &        4.818     \\\\\n",
       "\\textbf{Etiqueta[T.M]}                       &      -0.3535  &        0.268     &    -1.319  &         0.187        &       -0.879    &        0.172     \\\\\n",
       "\\textbf{Etiqueta[T.R]}                       &      -1.0656  &        0.264     &    -4.039  &         0.000        &       -1.583    &       -0.549     \\\\\n",
       "\\textbf{Etiqueta[T.B]}                       &      -1.9285  &        0.297     &    -6.494  &         0.000        &       -2.510    &       -1.346     \\\\\n",
       "\\textbf{Etiqueta[T.MB]}                      &      -1.8048  &        0.460     &    -3.926  &         0.000        &       -2.706    &       -0.904     \\\\\n",
       "\\textbf{Clasificacion[T.*]:Etiqueta[T.M]}    &       0.1894  &        0.460     &     0.412  &         0.680        &       -0.712    &        1.091     \\\\\n",
       "\\textbf{Clasificacion[T.**+]:Etiqueta[T.M]}  &       0.4284  &        1.087     &     0.394  &         0.693        &       -1.702    &        2.559     \\\\\n",
       "\\textbf{Clasificacion[T.*]:Etiqueta[T.R]}    &       0.1489  &        0.443     &     0.337  &         0.736        &       -0.718    &        1.016     \\\\\n",
       "\\textbf{Clasificacion[T.**+]:Etiqueta[T.R]}  &       2.0729  &        1.087     &     1.907  &         0.057        &       -0.058    &        4.203     \\\\\n",
       "\\textbf{Clasificacion[T.*]:Etiqueta[T.B]}    &       0.9536  &        0.486     &     1.961  &         0.050        &        0.001    &        1.907     \\\\\n",
       "\\textbf{Clasificacion[T.**+]:Etiqueta[T.B]}  &       3.4543  &        1.141     &     3.028  &         0.002        &        1.219    &        5.690     \\\\\n",
       "\\textbf{Clasificacion[T.*]:Etiqueta[T.MB]}   &      -0.4221  &        0.731     &    -0.577  &         0.564        &       -1.855    &        1.011     \\\\\n",
       "\\textbf{Clasificacion[T.**+]:Etiqueta[T.MB]} &       3.3473  &        1.505     &     2.224  &         0.026        &        0.398    &        6.297     \\\\\n",
       "\\textbf{CalifProductor}                      &      -0.4159  &        0.035     &   -11.956  &         0.000        &       -0.484    &       -0.348     \\\\\n",
       "\\textbf{pH}                                  &      -0.2573  &        0.068     &    -3.789  &         0.000        &       -0.390    &       -0.124     \\\\\n",
       "\\textbf{CloruroSodico}                       &      -0.3533  &        0.145     &    -2.431  &         0.015        &       -0.638    &       -0.068     \\\\\n",
       "\\textbf{Acidez}                              &      -0.1793  &        0.060     &    -3.013  &         0.003        &       -0.296    &       -0.063     \\\\\n",
       "\\bottomrule\n",
       "\\end{tabular}\n",
       "%\\caption{Logit Regression Results}\n",
       "\\end{center}"
      ],
      "text/plain": [
       "<class 'statsmodels.iolib.summary.Summary'>\n",
       "\"\"\"\n",
       "                           Logit Regression Results                           \n",
       "==============================================================================\n",
       "Dep. Variable:                 Compra   No. Observations:                 5092\n",
       "Model:                          Logit   Df Residuals:                     5073\n",
       "Method:                           MLE   Df Model:                           18\n",
       "Date:                Tue, 03 Dec 2024   Pseudo R-squ.:                  0.4216\n",
       "Time:                        20:30:31   Log-Likelihood:                -1536.1\n",
       "converged:                       True   LL-Null:                       -2655.9\n",
       "Covariance Type:            nonrobust   LLR p-value:                     0.000\n",
       "=======================================================================================================\n",
       "                                          coef    std err          z      P>|z|      [0.025      0.975]\n",
       "-------------------------------------------------------------------------------------------------------\n",
       "Intercept                               2.6440      0.352      7.508      0.000       1.954       3.334\n",
       "Clasificacion[T.*]                      1.5383      0.420      3.661      0.000       0.715       2.362\n",
       "Clasificacion[T.**+]                    2.7580      1.051      2.624      0.009       0.698       4.818\n",
       "Etiqueta[T.M]                          -0.3535      0.268     -1.319      0.187      -0.879       0.172\n",
       "Etiqueta[T.R]                          -1.0656      0.264     -4.039      0.000      -1.583      -0.549\n",
       "Etiqueta[T.B]                          -1.9285      0.297     -6.494      0.000      -2.510      -1.346\n",
       "Etiqueta[T.MB]                         -1.8048      0.460     -3.926      0.000      -2.706      -0.904\n",
       "Clasificacion[T.*]:Etiqueta[T.M]        0.1894      0.460      0.412      0.680      -0.712       1.091\n",
       "Clasificacion[T.**+]:Etiqueta[T.M]      0.4284      1.087      0.394      0.693      -1.702       2.559\n",
       "Clasificacion[T.*]:Etiqueta[T.R]        0.1489      0.443      0.337      0.736      -0.718       1.016\n",
       "Clasificacion[T.**+]:Etiqueta[T.R]      2.0729      1.087      1.907      0.057      -0.058       4.203\n",
       "Clasificacion[T.*]:Etiqueta[T.B]        0.9536      0.486      1.961      0.050       0.001       1.907\n",
       "Clasificacion[T.**+]:Etiqueta[T.B]      3.4543      1.141      3.028      0.002       1.219       5.690\n",
       "Clasificacion[T.*]:Etiqueta[T.MB]      -0.4221      0.731     -0.577      0.564      -1.855       1.011\n",
       "Clasificacion[T.**+]:Etiqueta[T.MB]     3.3473      1.505      2.224      0.026       0.398       6.297\n",
       "CalifProductor                         -0.4159      0.035    -11.956      0.000      -0.484      -0.348\n",
       "pH                                     -0.2573      0.068     -3.789      0.000      -0.390      -0.124\n",
       "CloruroSodico                          -0.3533      0.145     -2.431      0.015      -0.638      -0.068\n",
       "Acidez                                 -0.1793      0.060     -3.013      0.003      -0.296      -0.063\n",
       "=======================================================================================================\n",
       "\"\"\""
      ]
     },
     "execution_count": 43,
     "metadata": {},
     "output_type": "execute_result"
    }
   ],
   "source": [
    "form6 = 'Compra ~  Clasificacion*Etiqueta + CalifProductor + pH + CloruroSodico + Acidez'\n",
    "\n",
    "# Ajustar modelo 6\n",
    "modelo6 = logit(form6,data=data_train).fit()\n",
    "modelo6.summary()"
   ]
  },
  {
   "cell_type": "code",
   "execution_count": 44,
   "metadata": {},
   "outputs": [
    {
     "name": "stdout",
     "output_type": "stream",
     "text": [
      "Optimization terminated successfully.\n",
      "         Current function value: 0.305759\n",
      "         Iterations 8\n"
     ]
    },
    {
     "data": {
      "text/html": [
       "<table class=\"simpletable\">\n",
       "<caption>Logit Regression Results</caption>\n",
       "<tr>\n",
       "  <th>Dep. Variable:</th>        <td>Compra</td>      <th>  No. Observations:  </th>  <td>  5092</td> \n",
       "</tr>\n",
       "<tr>\n",
       "  <th>Model:</th>                 <td>Logit</td>      <th>  Df Residuals:      </th>  <td>  5073</td> \n",
       "</tr>\n",
       "<tr>\n",
       "  <th>Method:</th>                 <td>MLE</td>       <th>  Df Model:          </th>  <td>    18</td> \n",
       "</tr>\n",
       "<tr>\n",
       "  <th>Date:</th>            <td>Tue, 03 Dec 2024</td> <th>  Pseudo R-squ.:     </th>  <td>0.4138</td> \n",
       "</tr>\n",
       "<tr>\n",
       "  <th>Time:</th>                <td>20:30:36</td>     <th>  Log-Likelihood:    </th> <td> -1556.9</td>\n",
       "</tr>\n",
       "<tr>\n",
       "  <th>converged:</th>             <td>True</td>       <th>  LL-Null:           </th> <td> -2655.9</td>\n",
       "</tr>\n",
       "<tr>\n",
       "  <th>Covariance Type:</th>     <td>nonrobust</td>    <th>  LLR p-value:       </th>  <td> 0.000</td> \n",
       "</tr>\n",
       "</table>\n",
       "<table class=\"simpletable\">\n",
       "<tr>\n",
       "            <td></td>              <th>coef</th>     <th>std err</th>      <th>z</th>      <th>P>|z|</th>  <th>[0.025</th>    <th>0.975]</th>  \n",
       "</tr>\n",
       "<tr>\n",
       "  <th>Intercept</th>            <td>    3.9795</td> <td>    1.778</td> <td>    2.238</td> <td> 0.025</td> <td>    0.495</td> <td>    7.464</td>\n",
       "</tr>\n",
       "<tr>\n",
       "  <th>Etiqueta[T.M]</th>        <td>   -0.3437</td> <td>    0.219</td> <td>   -1.573</td> <td> 0.116</td> <td>   -0.772</td> <td>    0.085</td>\n",
       "</tr>\n",
       "<tr>\n",
       "  <th>Etiqueta[T.R]</th>        <td>   -0.9988</td> <td>    0.213</td> <td>   -4.690</td> <td> 0.000</td> <td>   -1.416</td> <td>   -0.581</td>\n",
       "</tr>\n",
       "<tr>\n",
       "  <th>Etiqueta[T.B]</th>        <td>   -1.3745</td> <td>    0.228</td> <td>   -6.022</td> <td> 0.000</td> <td>   -1.822</td> <td>   -0.927</td>\n",
       "</tr>\n",
       "<tr>\n",
       "  <th>Etiqueta[T.MB]</th>       <td>   -1.7462</td> <td>    0.331</td> <td>   -5.270</td> <td> 0.000</td> <td>   -2.396</td> <td>   -1.097</td>\n",
       "</tr>\n",
       "<tr>\n",
       "  <th>Clasificacion[T.*]</th>   <td>    1.8043</td> <td>    0.097</td> <td>   18.569</td> <td> 0.000</td> <td>    1.614</td> <td>    1.995</td>\n",
       "</tr>\n",
       "<tr>\n",
       "  <th>Clasificacion[T.**+]</th> <td>    4.8216</td> <td>    0.178</td> <td>   27.014</td> <td> 0.000</td> <td>    4.472</td> <td>    5.171</td>\n",
       "</tr>\n",
       "<tr>\n",
       "  <th>Region[T.2.0]</th>        <td>   -0.0982</td> <td>    0.112</td> <td>   -0.878</td> <td> 0.380</td> <td>   -0.317</td> <td>    0.121</td>\n",
       "</tr>\n",
       "<tr>\n",
       "  <th>Region[T.3.0]</th>        <td>   -0.1075</td> <td>    0.110</td> <td>   -0.980</td> <td> 0.327</td> <td>   -0.322</td> <td>    0.107</td>\n",
       "</tr>\n",
       "<tr>\n",
       "  <th>Acidez</th>               <td>   -0.1779</td> <td>    0.059</td> <td>   -3.004</td> <td> 0.003</td> <td>   -0.294</td> <td>   -0.062</td>\n",
       "</tr>\n",
       "<tr>\n",
       "  <th>AcidoCitrico</th>         <td>    0.0091</td> <td>    0.054</td> <td>    0.170</td> <td> 0.865</td> <td>   -0.096</td> <td>    0.115</td>\n",
       "</tr>\n",
       "<tr>\n",
       "  <th>Azucar</th>               <td>    0.0025</td> <td>    0.001</td> <td>    1.838</td> <td> 0.066</td> <td>   -0.000</td> <td>    0.005</td>\n",
       "</tr>\n",
       "<tr>\n",
       "  <th>CloruroSodico</th>        <td>   -0.3393</td> <td>    0.144</td> <td>   -2.351</td> <td> 0.019</td> <td>   -0.622</td> <td>   -0.056</td>\n",
       "</tr>\n",
       "<tr>\n",
       "  <th>Densidad</th>             <td>   -1.3483</td> <td>    1.742</td> <td>   -0.774</td> <td> 0.439</td> <td>   -4.763</td> <td>    2.066</td>\n",
       "</tr>\n",
       "<tr>\n",
       "  <th>pH</th>                   <td>   -0.2565</td> <td>    0.068</td> <td>   -3.783</td> <td> 0.000</td> <td>   -0.389</td> <td>   -0.124</td>\n",
       "</tr>\n",
       "<tr>\n",
       "  <th>Sulfatos</th>             <td>   -0.0293</td> <td>    0.049</td> <td>   -0.604</td> <td> 0.546</td> <td>   -0.125</td> <td>    0.066</td>\n",
       "</tr>\n",
       "<tr>\n",
       "  <th>Alcohol</th>              <td>   -0.0122</td> <td>    0.013</td> <td>   -0.948</td> <td> 0.343</td> <td>   -0.037</td> <td>    0.013</td>\n",
       "</tr>\n",
       "<tr>\n",
       "  <th>CalifProductor</th>       <td>   -0.4193</td> <td>    0.035</td> <td>  -12.070</td> <td> 0.000</td> <td>   -0.487</td> <td>   -0.351</td>\n",
       "</tr>\n",
       "<tr>\n",
       "  <th>PrecioBotella</th>        <td>    0.0344</td> <td>    0.030</td> <td>    1.135</td> <td> 0.257</td> <td>   -0.025</td> <td>    0.094</td>\n",
       "</tr>\n",
       "</table>"
      ],
      "text/latex": [
       "\\begin{center}\n",
       "\\begin{tabular}{lclc}\n",
       "\\toprule\n",
       "\\textbf{Dep. Variable:}       &      Compra      & \\textbf{  No. Observations:  } &     5092    \\\\\n",
       "\\textbf{Model:}               &      Logit       & \\textbf{  Df Residuals:      } &     5073    \\\\\n",
       "\\textbf{Method:}              &       MLE        & \\textbf{  Df Model:          } &       18    \\\\\n",
       "\\textbf{Date:}                & Tue, 03 Dec 2024 & \\textbf{  Pseudo R-squ.:     } &   0.4138    \\\\\n",
       "\\textbf{Time:}                &     20:30:36     & \\textbf{  Log-Likelihood:    } &   -1556.9   \\\\\n",
       "\\textbf{converged:}           &       True       & \\textbf{  LL-Null:           } &   -2655.9   \\\\\n",
       "\\textbf{Covariance Type:}     &    nonrobust     & \\textbf{  LLR p-value:       } &    0.000    \\\\\n",
       "\\bottomrule\n",
       "\\end{tabular}\n",
       "\\begin{tabular}{lcccccc}\n",
       "                              & \\textbf{coef} & \\textbf{std err} & \\textbf{z} & \\textbf{P$> |$z$|$} & \\textbf{[0.025} & \\textbf{0.975]}  \\\\\n",
       "\\midrule\n",
       "\\textbf{Intercept}            &       3.9795  &        1.778     &     2.238  &         0.025        &        0.495    &        7.464     \\\\\n",
       "\\textbf{Etiqueta[T.M]}        &      -0.3437  &        0.219     &    -1.573  &         0.116        &       -0.772    &        0.085     \\\\\n",
       "\\textbf{Etiqueta[T.R]}        &      -0.9988  &        0.213     &    -4.690  &         0.000        &       -1.416    &       -0.581     \\\\\n",
       "\\textbf{Etiqueta[T.B]}        &      -1.3745  &        0.228     &    -6.022  &         0.000        &       -1.822    &       -0.927     \\\\\n",
       "\\textbf{Etiqueta[T.MB]}       &      -1.7462  &        0.331     &    -5.270  &         0.000        &       -2.396    &       -1.097     \\\\\n",
       "\\textbf{Clasificacion[T.*]}   &       1.8043  &        0.097     &    18.569  &         0.000        &        1.614    &        1.995     \\\\\n",
       "\\textbf{Clasificacion[T.**+]} &       4.8216  &        0.178     &    27.014  &         0.000        &        4.472    &        5.171     \\\\\n",
       "\\textbf{Region[T.2.0]}        &      -0.0982  &        0.112     &    -0.878  &         0.380        &       -0.317    &        0.121     \\\\\n",
       "\\textbf{Region[T.3.0]}        &      -0.1075  &        0.110     &    -0.980  &         0.327        &       -0.322    &        0.107     \\\\\n",
       "\\textbf{Acidez}               &      -0.1779  &        0.059     &    -3.004  &         0.003        &       -0.294    &       -0.062     \\\\\n",
       "\\textbf{AcidoCitrico}         &       0.0091  &        0.054     &     0.170  &         0.865        &       -0.096    &        0.115     \\\\\n",
       "\\textbf{Azucar}               &       0.0025  &        0.001     &     1.838  &         0.066        &       -0.000    &        0.005     \\\\\n",
       "\\textbf{CloruroSodico}        &      -0.3393  &        0.144     &    -2.351  &         0.019        &       -0.622    &       -0.056     \\\\\n",
       "\\textbf{Densidad}             &      -1.3483  &        1.742     &    -0.774  &         0.439        &       -4.763    &        2.066     \\\\\n",
       "\\textbf{pH}                   &      -0.2565  &        0.068     &    -3.783  &         0.000        &       -0.389    &       -0.124     \\\\\n",
       "\\textbf{Sulfatos}             &      -0.0293  &        0.049     &    -0.604  &         0.546        &       -0.125    &        0.066     \\\\\n",
       "\\textbf{Alcohol}              &      -0.0122  &        0.013     &    -0.948  &         0.343        &       -0.037    &        0.013     \\\\\n",
       "\\textbf{CalifProductor}       &      -0.4193  &        0.035     &   -12.070  &         0.000        &       -0.487    &       -0.351     \\\\\n",
       "\\textbf{PrecioBotella}        &       0.0344  &        0.030     &     1.135  &         0.257        &       -0.025    &        0.094     \\\\\n",
       "\\bottomrule\n",
       "\\end{tabular}\n",
       "%\\caption{Logit Regression Results}\n",
       "\\end{center}"
      ],
      "text/plain": [
       "<class 'statsmodels.iolib.summary.Summary'>\n",
       "\"\"\"\n",
       "                           Logit Regression Results                           \n",
       "==============================================================================\n",
       "Dep. Variable:                 Compra   No. Observations:                 5092\n",
       "Model:                          Logit   Df Residuals:                     5073\n",
       "Method:                           MLE   Df Model:                           18\n",
       "Date:                Tue, 03 Dec 2024   Pseudo R-squ.:                  0.4138\n",
       "Time:                        20:30:36   Log-Likelihood:                -1556.9\n",
       "converged:                       True   LL-Null:                       -2655.9\n",
       "Covariance Type:            nonrobust   LLR p-value:                     0.000\n",
       "========================================================================================\n",
       "                           coef    std err          z      P>|z|      [0.025      0.975]\n",
       "----------------------------------------------------------------------------------------\n",
       "Intercept                3.9795      1.778      2.238      0.025       0.495       7.464\n",
       "Etiqueta[T.M]           -0.3437      0.219     -1.573      0.116      -0.772       0.085\n",
       "Etiqueta[T.R]           -0.9988      0.213     -4.690      0.000      -1.416      -0.581\n",
       "Etiqueta[T.B]           -1.3745      0.228     -6.022      0.000      -1.822      -0.927\n",
       "Etiqueta[T.MB]          -1.7462      0.331     -5.270      0.000      -2.396      -1.097\n",
       "Clasificacion[T.*]       1.8043      0.097     18.569      0.000       1.614       1.995\n",
       "Clasificacion[T.**+]     4.8216      0.178     27.014      0.000       4.472       5.171\n",
       "Region[T.2.0]           -0.0982      0.112     -0.878      0.380      -0.317       0.121\n",
       "Region[T.3.0]           -0.1075      0.110     -0.980      0.327      -0.322       0.107\n",
       "Acidez                  -0.1779      0.059     -3.004      0.003      -0.294      -0.062\n",
       "AcidoCitrico             0.0091      0.054      0.170      0.865      -0.096       0.115\n",
       "Azucar                   0.0025      0.001      1.838      0.066      -0.000       0.005\n",
       "CloruroSodico           -0.3393      0.144     -2.351      0.019      -0.622      -0.056\n",
       "Densidad                -1.3483      1.742     -0.774      0.439      -4.763       2.066\n",
       "pH                      -0.2565      0.068     -3.783      0.000      -0.389      -0.124\n",
       "Sulfatos                -0.0293      0.049     -0.604      0.546      -0.125       0.066\n",
       "Alcohol                 -0.0122      0.013     -0.948      0.343      -0.037       0.013\n",
       "CalifProductor          -0.4193      0.035    -12.070      0.000      -0.487      -0.351\n",
       "PrecioBotella            0.0344      0.030      1.135      0.257      -0.025       0.094\n",
       "========================================================================================\n",
       "\"\"\""
      ]
     },
     "execution_count": 44,
     "metadata": {},
     "output_type": "execute_result"
    }
   ],
   "source": [
    "# Uno con todas las variables\n",
    "form7 = 'Compra ~ Acidez + AcidoCitrico + Azucar + CloruroSodico + Densidad + pH + Sulfatos + Alcohol + CalifProductor + PrecioBotella + Etiqueta + Clasificacion + Region'\n",
    "\n",
    "# Ajustar modelo 7\n",
    "modelo7 = logit(form7,data=data_train).fit()\n",
    "modelo7.summary()\n"
   ]
  },
  {
   "cell_type": "markdown",
   "metadata": {},
   "source": [
    "# Evaluación de los modelos por validación cruzada repetida"
   ]
  },
  {
   "cell_type": "code",
   "execution_count": 51,
   "metadata": {},
   "outputs": [
    {
     "name": "stderr",
     "output_type": "stream",
     "text": [
      "<string>:295: FutureWarning:\n",
      "\n",
      "Series.ravel is deprecated. The underlying array is already 1D, so ravel is not necessary.  Use `to_numpy()` for conversion to a numpy array instead.\n",
      "\n"
     ]
    },
    {
     "name": "stdout",
     "output_type": "stream",
     "text": [
      "Modelo: Compra ~ Acidez + AcidoCitrico + Azucar + CloruroSodico + Densidad + pH + Sulfatos + Alcohol + CalifProductor + PrecioBotella + Etiqueta + Clasificacion + Region\n",
      "AUC: 0.908 (0.007)\n"
     ]
    },
    {
     "data": {
      "text/plain": [
       "array([0.89722155, 0.91687619, 0.91141026, 0.91475458, 0.90316269,\n",
       "       0.91879873, 0.9097993 , 0.91175973, 0.89677289, 0.9046044 ,\n",
       "       0.90621862, 0.91030243, 0.90907771, 0.90229632, 0.9142815 ,\n",
       "       0.91348789, 0.896967  , 0.90512333, 0.91434668, 0.9104427 ,\n",
       "       0.90575546, 0.90187933, 0.90678755, 0.91409144, 0.91335487,\n",
       "       0.8994479 , 0.91068968, 0.90754201, 0.9125074 , 0.9113329 ,\n",
       "       0.90999496, 0.9076782 , 0.89765856, 0.90941535, 0.91742983,\n",
       "       0.91115948, 0.9099794 , 0.9113805 , 0.90216664, 0.90851507,\n",
       "       0.91123109, 0.91331112, 0.91865753, 0.91370183, 0.88656253,\n",
       "       0.91246583, 0.91453863, 0.90552474, 0.90675795, 0.90270359,\n",
       "       0.91735534, 0.91300243, 0.90277685, 0.89975919, 0.90920769,\n",
       "       0.89902472, 0.9052525 , 0.90050913, 0.91969199, 0.91735534,\n",
       "       0.90557758, 0.91083621, 0.90634127, 0.9070015 , 0.91377783,\n",
       "       0.91139734, 0.89811918, 0.90533585, 0.90588045, 0.9187147 ,\n",
       "       0.90295041, 0.91225167, 0.91228552, 0.90992986, 0.90309099,\n",
       "       0.88553437, 0.91267135, 0.9000255 , 0.92275072, 0.91831654,\n",
       "       0.9176433 , 0.90973162, 0.8997614 , 0.89875328, 0.9168366 ,\n",
       "       0.90348182, 0.91098678, 0.89586513, 0.92146788, 0.91430792,\n",
       "       0.91117889, 0.89848424, 0.91691171, 0.91102127, 0.90461239,\n",
       "       0.90996499, 0.90562983, 0.90269597, 0.91030485, 0.91190826])"
      ]
     },
     "execution_count": 51,
     "metadata": {},
     "output_type": "execute_result"
    }
   ],
   "source": [
    "# Arreglar variable objetivo como numeric\n",
    "vinosDep.Compra = vinosDep.Compra.astype('int64')\n",
    "\n",
    "# Aplicación a una fórmula\n",
    "cross_val_log(form7,data=vinosDep)"
   ]
  },
  {
   "cell_type": "code",
   "execution_count": 52,
   "metadata": {},
   "outputs": [
    {
     "name": "stderr",
     "output_type": "stream",
     "text": [
      "<string>:295: FutureWarning:\n",
      "\n",
      "Series.ravel is deprecated. The underlying array is already 1D, so ravel is not necessary.  Use `to_numpy()` for conversion to a numpy array instead.\n",
      "\n"
     ]
    },
    {
     "name": "stdout",
     "output_type": "stream",
     "text": [
      "Modelo: Compra ~ Acidez + AcidoCitrico + Azucar + CloruroSodico + Densidad + pH + Sulfatos + Alcohol + CalifProductor + PrecioBotella + Etiqueta + Clasificacion + Region + prop_missings + aleatorio + aleatorio2\n",
      "AUC: 0.908 (0.007)\n"
     ]
    },
    {
     "name": "stderr",
     "output_type": "stream",
     "text": [
      "<string>:295: FutureWarning:\n",
      "\n",
      "Series.ravel is deprecated. The underlying array is already 1D, so ravel is not necessary.  Use `to_numpy()` for conversion to a numpy array instead.\n",
      "\n"
     ]
    },
    {
     "name": "stdout",
     "output_type": "stream",
     "text": [
      "Modelo: Compra ~ Clasificacion + CalifProductor + pH\n",
      "AUC: 0.901 (0.007)\n"
     ]
    },
    {
     "name": "stderr",
     "output_type": "stream",
     "text": [
      "<string>:295: FutureWarning:\n",
      "\n",
      "Series.ravel is deprecated. The underlying array is already 1D, so ravel is not necessary.  Use `to_numpy()` for conversion to a numpy array instead.\n",
      "\n"
     ]
    },
    {
     "name": "stdout",
     "output_type": "stream",
     "text": [
      "Modelo: Compra ~ Clasificacion*Etiqueta + CalifProductor + pH\n",
      "AUC: 0.910 (0.007)\n"
     ]
    },
    {
     "name": "stderr",
     "output_type": "stream",
     "text": [
      "<string>:295: FutureWarning:\n",
      "\n",
      "Series.ravel is deprecated. The underlying array is already 1D, so ravel is not necessary.  Use `to_numpy()` for conversion to a numpy array instead.\n",
      "\n"
     ]
    },
    {
     "name": "stdout",
     "output_type": "stream",
     "text": [
      "Modelo: Compra ~  Clasificacion + CalifProductor + pH + Etiqueta\n",
      "AUC: 0.908 (0.007)\n"
     ]
    },
    {
     "name": "stderr",
     "output_type": "stream",
     "text": [
      "<string>:295: FutureWarning:\n",
      "\n",
      "Series.ravel is deprecated. The underlying array is already 1D, so ravel is not necessary.  Use `to_numpy()` for conversion to a numpy array instead.\n",
      "\n"
     ]
    },
    {
     "name": "stdout",
     "output_type": "stream",
     "text": [
      "Modelo: Compra ~  Clasificacion + CalifProductor + pH + Etiqueta + CloruroSodico\n",
      "AUC: 0.908 (0.007)\n"
     ]
    },
    {
     "name": "stderr",
     "output_type": "stream",
     "text": [
      "<string>:295: FutureWarning:\n",
      "\n",
      "Series.ravel is deprecated. The underlying array is already 1D, so ravel is not necessary.  Use `to_numpy()` for conversion to a numpy array instead.\n",
      "\n"
     ]
    },
    {
     "name": "stdout",
     "output_type": "stream",
     "text": [
      "Modelo: Compra ~  Clasificacion + CalifProductor + pH + Etiqueta + Acidez\n",
      "AUC: 0.909 (0.007)\n"
     ]
    },
    {
     "name": "stderr",
     "output_type": "stream",
     "text": [
      "<string>:295: FutureWarning:\n",
      "\n",
      "Series.ravel is deprecated. The underlying array is already 1D, so ravel is not necessary.  Use `to_numpy()` for conversion to a numpy array instead.\n",
      "\n"
     ]
    },
    {
     "name": "stdout",
     "output_type": "stream",
     "text": [
      "Modelo: Compra ~  Clasificacion*Etiqueta + CalifProductor + pH + CloruroSodico + Acidez\n",
      "AUC: 0.910 (0.007)\n"
     ]
    },
    {
     "name": "stderr",
     "output_type": "stream",
     "text": [
      "<string>:295: FutureWarning:\n",
      "\n",
      "Series.ravel is deprecated. The underlying array is already 1D, so ravel is not necessary.  Use `to_numpy()` for conversion to a numpy array instead.\n",
      "\n"
     ]
    },
    {
     "name": "stdout",
     "output_type": "stream",
     "text": [
      "Modelo: Compra ~ Acidez + AcidoCitrico + Azucar + CloruroSodico + Densidad + pH + Sulfatos + Alcohol + CalifProductor + PrecioBotella + Etiqueta + Clasificacion + Region\n",
      "AUC: 0.908 (0.007)\n"
     ]
    }
   ],
   "source": [
    "# Crear lista de fórmulas   \n",
    "list_form = [formC,form1,form2,form3,form4,form5,form6,form7]\n",
    "#list_form\n",
    "\n",
    "\n",
    "# Aplicamos a toda la lista la función creada (devuelve un dataframe pero está transpuesto)\n",
    "list_res = pd.DataFrame(map(lambda x: cross_val_log(x,vinosDep, seed=2022),list_form))\n",
    "# np.random.seed(1234)"
   ]
  },
  {
   "cell_type": "code",
   "execution_count": 53,
   "metadata": {},
   "outputs": [
    {
     "name": "stderr",
     "output_type": "stream",
     "text": [
      "C:\\Users\\Usuario\\AppData\\Local\\Temp\\ipykernel_17828\\1551070279.py:8: FutureWarning:\n",
      "\n",
      "\n",
      "\n",
      "Passing `palette` without assigning `hue` is deprecated and will be removed in v0.14.0. Assign the `x` variable to `hue` and set `legend=False` for the same effect.\n",
      "\n",
      "\n"
     ]
    },
    {
     "data": {
      "image/png": "[encoded data removed]",
      "text/plain": [
       "<Figure size 640x480 with 1 Axes>"
      ]
     },
     "metadata": {},
     "output_type": "display_data"
    }
   ],
   "source": [
    "# Transponer dataframe y pasar de wide a long (creando un factor variable con el nombre de cada fórmula de la lista[0,1,2,3])\n",
    "results = list_res.T.melt()\n",
    "results.columns = ['Modelo','AUC']\n",
    "results.head()\n",
    "\n",
    "# Boxplot paralelo para comparar\n",
    "plt.clf()\n",
    "sns.boxplot(x='Modelo',y='AUC',data=results,palette='viridis')\n",
    "plt.show()"
   ]
  },
  {
   "cell_type": "markdown",
   "metadata": {},
   "source": [
    "## Punto de corte óptimo para la probabilidad estimada"
   ]
  },
  {
   "cell_type": "code",
   "execution_count": 54,
   "metadata": {},
   "outputs": [
    {
     "data": {
      "text/plain": [
       "['accuracy',\n",
       " 'adjusted_mutual_info_score',\n",
       " 'adjusted_rand_score',\n",
       " 'average_precision',\n",
       " 'balanced_accuracy',\n",
       " 'completeness_score',\n",
       " 'explained_variance',\n",
       " 'f1',\n",
       " 'f1_macro',\n",
       " 'f1_micro',\n",
       " 'f1_samples',\n",
       " 'f1_weighted',\n",
       " 'fowlkes_mallows_score',\n",
       " 'homogeneity_score',\n",
       " 'jaccard',\n",
       " 'jaccard_macro',\n",
       " 'jaccard_micro',\n",
       " 'jaccard_samples',\n",
       " 'jaccard_weighted',\n",
       " 'matthews_corrcoef',\n",
       " 'max_error',\n",
       " 'mutual_info_score',\n",
       " 'neg_brier_score',\n",
       " 'neg_log_loss',\n",
       " 'neg_mean_absolute_error',\n",
       " 'neg_mean_absolute_percentage_error',\n",
       " 'neg_mean_gamma_deviance',\n",
       " 'neg_mean_poisson_deviance',\n",
       " 'neg_mean_squared_error',\n",
       " 'neg_mean_squared_log_error',\n",
       " 'neg_median_absolute_error',\n",
       " 'neg_negative_likelihood_ratio',\n",
       " 'neg_root_mean_squared_error',\n",
       " 'neg_root_mean_squared_log_error',\n",
       " 'normalized_mutual_info_score',\n",
       " 'positive_likelihood_ratio',\n",
       " 'precision',\n",
       " 'precision_macro',\n",
       " 'precision_micro',\n",
       " 'precision_samples',\n",
       " 'precision_weighted',\n",
       " 'r2',\n",
       " 'rand_score',\n",
       " 'recall',\n",
       " 'recall_macro',\n",
       " 'recall_micro',\n",
       " 'recall_samples',\n",
       " 'recall_weighted',\n",
       " 'roc_auc',\n",
       " 'roc_auc_ovo',\n",
       " 'roc_auc_ovo_weighted',\n",
       " 'roc_auc_ovr',\n",
       " 'roc_auc_ovr_weighted',\n",
       " 'top_k_accuracy',\n",
       " 'v_measure_score']"
      ]
     },
     "execution_count": 54,
     "metadata": {},
     "output_type": "execute_result"
    }
   ],
   "source": [
    "metrics.get_scorer_names()"
   ]
  },
  {
   "cell_type": "code",
   "execution_count": 55,
   "metadata": {},
   "outputs": [
    {
     "data": {
      "image/png": "[encoded data removed]",
      "text/plain": [
       "<Figure size 640x480 with 1 Axes>"
      ]
     },
     "metadata": {},
     "output_type": "display_data"
    }
   ],
   "source": [
    "## Buscar el mejor punto de corte\n",
    "\n",
    "y_pred = modelo3.predict(X_test)\n",
    "\n",
    "#sns.histplot(x=y_pred, hue=y_test)\n",
    "#px.histogram(x=y_pred, color=y_test).show()\n",
    "#gráfico de las probabilidades obtenidas\n",
    "plt.clf()\n",
    "sns.kdeplot(x=y_pred, hue=y_test, fill=True, common_norm=False, alpha=0.4)\n",
    "plt.show()\n",
    "#hist_targetbinaria(predict(modelo4, newdata=data_test,type=\"response\"),data_test$varObjBin,\"probabilidad\")"
   ]
  },
  {
   "cell_type": "code",
   "execution_count": 56,
   "metadata": {},
   "outputs": [
    {
     "data": {
      "text/plain": [
       "count    1273.000000\n",
       "mean        0.772792\n",
       "std         0.274414\n",
       "min         0.015718\n",
       "25%         0.575268\n",
       "50%         0.925298\n",
       "75%         0.986731\n",
       "max         0.998255\n",
       "dtype: float64"
      ]
     },
     "execution_count": 56,
     "metadata": {},
     "output_type": "execute_result"
    }
   ],
   "source": [
    "y_pred.describe()"
   ]
  },
  {
   "cell_type": "code",
   "execution_count": 57,
   "metadata": {},
   "outputs": [
    {
     "data": {
      "image/png": "[encoded data removed]",
      "text/plain": [
       "<Figure size 640x480 with 1 Axes>"
      ]
     },
     "metadata": {},
     "output_type": "display_data"
    }
   ],
   "source": [
    "def roc_grafico(test,pred): \n",
    "    fpr, tpr, thresholds = metrics.roc_curve(test,pred)\n",
    "    roc_auc = metrics.auc(fpr, tpr)\n",
    "    \n",
    "    plt.figure()\n",
    "    lw = 2\n",
    "    plt.plot(\n",
    "        fpr,\n",
    "        tpr,\n",
    "        color=\"darkorange\",\n",
    "        lw=lw,\n",
    "        label=\"ROC curve (area = %0.2f)\" % roc_auc,\n",
    "    )\n",
    "    plt.plot([0, 1], [0, 1], color=\"navy\", lw=lw, linestyle=\"--\")\n",
    "    plt.xlim([0.0, 1.0])\n",
    "    plt.ylim([0.0, 1.05])\n",
    "    plt.xlabel(\"False Positive Rate\")\n",
    "    plt.ylabel(\"True Positive Rate\")\n",
    "    plt.title(\"Receiver operating characteristic example\")\n",
    "    plt.legend(loc=\"lower right\")\n",
    "    plt.show()\n",
    "    \n",
    "roc_grafico(y_test,y_pred)\n"
   ]
  },
  {
   "cell_type": "code",
   "execution_count": 58,
   "metadata": {},
   "outputs": [
    {
     "data": {
      "text/plain": [
       "0.7631451170350869"
      ]
     },
     "execution_count": 58,
     "metadata": {},
     "output_type": "execute_result"
    }
   ],
   "source": [
    "# Aplicar corte de youden (NuestrasFunciones), este es el primer punto a probar\n",
    "corte = cutoff_youden(y_test,y_pred)\n",
    "corte"
   ]
  },
  {
   "cell_type": "code",
   "execution_count": 59,
   "metadata": {},
   "outputs": [
    {
     "data": {
      "text/html": [
       "<table class=\"simpletable\">\n",
       "<caption>Logit Regression Results</caption>\n",
       "<tr>\n",
       "  <th>Dep. Variable:</th>        <td>Compra</td>      <th>  No. Observations:  </th>  <td>  5092</td> \n",
       "</tr>\n",
       "<tr>\n",
       "  <th>Model:</th>                 <td>Logit</td>      <th>  Df Residuals:      </th>  <td>  5083</td> \n",
       "</tr>\n",
       "<tr>\n",
       "  <th>Method:</th>                 <td>MLE</td>       <th>  Df Model:          </th>  <td>     8</td> \n",
       "</tr>\n",
       "<tr>\n",
       "  <th>Date:</th>            <td>Tue, 03 Dec 2024</td> <th>  Pseudo R-squ.:     </th>  <td>0.4095</td> \n",
       "</tr>\n",
       "<tr>\n",
       "  <th>Time:</th>                <td>22:33:17</td>     <th>  Log-Likelihood:    </th> <td> -1568.3</td>\n",
       "</tr>\n",
       "<tr>\n",
       "  <th>converged:</th>             <td>True</td>       <th>  LL-Null:           </th> <td> -2655.9</td>\n",
       "</tr>\n",
       "<tr>\n",
       "  <th>Covariance Type:</th>     <td>nonrobust</td>    <th>  LLR p-value:       </th>  <td> 0.000</td> \n",
       "</tr>\n",
       "</table>\n",
       "<table class=\"simpletable\">\n",
       "<tr>\n",
       "            <td></td>              <th>coef</th>     <th>std err</th>      <th>z</th>      <th>P>|z|</th>  <th>[0.025</th>    <th>0.975]</th>  \n",
       "</tr>\n",
       "<tr>\n",
       "  <th>Intercept</th>            <td>    2.4790</td> <td>    0.320</td> <td>    7.750</td> <td> 0.000</td> <td>    1.852</td> <td>    3.106</td>\n",
       "</tr>\n",
       "<tr>\n",
       "  <th>Clasificacion[T.*]</th>   <td>    1.7978</td> <td>    0.096</td> <td>   18.640</td> <td> 0.000</td> <td>    1.609</td> <td>    1.987</td>\n",
       "</tr>\n",
       "<tr>\n",
       "  <th>Clasificacion[T.**+]</th> <td>    4.8205</td> <td>    0.178</td> <td>   27.081</td> <td> 0.000</td> <td>    4.472</td> <td>    5.169</td>\n",
       "</tr>\n",
       "<tr>\n",
       "  <th>Etiqueta[T.M]</th>        <td>   -0.3483</td> <td>    0.218</td> <td>   -1.600</td> <td> 0.110</td> <td>   -0.775</td> <td>    0.078</td>\n",
       "</tr>\n",
       "<tr>\n",
       "  <th>Etiqueta[T.R]</th>        <td>   -1.0004</td> <td>    0.212</td> <td>   -4.719</td> <td> 0.000</td> <td>   -1.416</td> <td>   -0.585</td>\n",
       "</tr>\n",
       "<tr>\n",
       "  <th>Etiqueta[T.B]</th>        <td>   -1.3695</td> <td>    0.227</td> <td>   -6.027</td> <td> 0.000</td> <td>   -1.815</td> <td>   -0.924</td>\n",
       "</tr>\n",
       "<tr>\n",
       "  <th>Etiqueta[T.MB]</th>       <td>   -1.7407</td> <td>    0.330</td> <td>   -5.280</td> <td> 0.000</td> <td>   -2.387</td> <td>   -1.095</td>\n",
       "</tr>\n",
       "<tr>\n",
       "  <th>CalifProductor</th>       <td>   -0.4283</td> <td>    0.034</td> <td>  -12.439</td> <td> 0.000</td> <td>   -0.496</td> <td>   -0.361</td>\n",
       "</tr>\n",
       "<tr>\n",
       "  <th>pH</th>                   <td>   -0.2583</td> <td>    0.067</td> <td>   -3.840</td> <td> 0.000</td> <td>   -0.390</td> <td>   -0.126</td>\n",
       "</tr>\n",
       "</table>"
      ],
      "text/latex": [
       "\\begin{center}\n",
       "\\begin{tabular}{lclc}\n",
       "\\toprule\n",
       "\\textbf{Dep. Variable:}       &      Compra      & \\textbf{  No. Observations:  } &     5092    \\\\\n",
       "\\textbf{Model:}               &      Logit       & \\textbf{  Df Residuals:      } &     5083    \\\\\n",
       "\\textbf{Method:}              &       MLE        & \\textbf{  Df Model:          } &        8    \\\\\n",
       "\\textbf{Date:}                & Tue, 03 Dec 2024 & \\textbf{  Pseudo R-squ.:     } &   0.4095    \\\\\n",
       "\\textbf{Time:}                &     22:33:17     & \\textbf{  Log-Likelihood:    } &   -1568.3   \\\\\n",
       "\\textbf{converged:}           &       True       & \\textbf{  LL-Null:           } &   -2655.9   \\\\\n",
       "\\textbf{Covariance Type:}     &    nonrobust     & \\textbf{  LLR p-value:       } &    0.000    \\\\\n",
       "\\bottomrule\n",
       "\\end{tabular}\n",
       "\\begin{tabular}{lcccccc}\n",
       "                              & \\textbf{coef} & \\textbf{std err} & \\textbf{z} & \\textbf{P$> |$z$|$} & \\textbf{[0.025} & \\textbf{0.975]}  \\\\\n",
       "\\midrule\n",
       "\\textbf{Intercept}            &       2.4790  &        0.320     &     7.750  &         0.000        &        1.852    &        3.106     \\\\\n",
       "\\textbf{Clasificacion[T.*]}   &       1.7978  &        0.096     &    18.640  &         0.000        &        1.609    &        1.987     \\\\\n",
       "\\textbf{Clasificacion[T.**+]} &       4.8205  &        0.178     &    27.081  &         0.000        &        4.472    &        5.169     \\\\\n",
       "\\textbf{Etiqueta[T.M]}        &      -0.3483  &        0.218     &    -1.600  &         0.110        &       -0.775    &        0.078     \\\\\n",
       "\\textbf{Etiqueta[T.R]}        &      -1.0004  &        0.212     &    -4.719  &         0.000        &       -1.416    &       -0.585     \\\\\n",
       "\\textbf{Etiqueta[T.B]}        &      -1.3695  &        0.227     &    -6.027  &         0.000        &       -1.815    &       -0.924     \\\\\n",
       "\\textbf{Etiqueta[T.MB]}       &      -1.7407  &        0.330     &    -5.280  &         0.000        &       -2.387    &       -1.095     \\\\\n",
       "\\textbf{CalifProductor}       &      -0.4283  &        0.034     &   -12.439  &         0.000        &       -0.496    &       -0.361     \\\\\n",
       "\\textbf{pH}                   &      -0.2583  &        0.067     &    -3.840  &         0.000        &       -0.390    &       -0.126     \\\\\n",
       "\\bottomrule\n",
       "\\end{tabular}\n",
       "%\\caption{Logit Regression Results}\n",
       "\\end{center}"
      ],
      "text/plain": [
       "<class 'statsmodels.iolib.summary.Summary'>\n",
       "\"\"\"\n",
       "                           Logit Regression Results                           \n",
       "==============================================================================\n",
       "Dep. Variable:                 Compra   No. Observations:                 5092\n",
       "Model:                          Logit   Df Residuals:                     5083\n",
       "Method:                           MLE   Df Model:                            8\n",
       "Date:                Tue, 03 Dec 2024   Pseudo R-squ.:                  0.4095\n",
       "Time:                        22:33:17   Log-Likelihood:                -1568.3\n",
       "converged:                       True   LL-Null:                       -2655.9\n",
       "Covariance Type:            nonrobust   LLR p-value:                     0.000\n",
       "========================================================================================\n",
       "                           coef    std err          z      P>|z|      [0.025      0.975]\n",
       "----------------------------------------------------------------------------------------\n",
       "Intercept                2.4790      0.320      7.750      0.000       1.852       3.106\n",
       "Clasificacion[T.*]       1.7978      0.096     18.640      0.000       1.609       1.987\n",
       "Clasificacion[T.**+]     4.8205      0.178     27.081      0.000       4.472       5.169\n",
       "Etiqueta[T.M]           -0.3483      0.218     -1.600      0.110      -0.775       0.078\n",
       "Etiqueta[T.R]           -1.0004      0.212     -4.719      0.000      -1.416      -0.585\n",
       "Etiqueta[T.B]           -1.3695      0.227     -6.027      0.000      -1.815      -0.924\n",
       "Etiqueta[T.MB]          -1.7407      0.330     -5.280      0.000      -2.387      -1.095\n",
       "CalifProductor          -0.4283      0.034    -12.439      0.000      -0.496      -0.361\n",
       "pH                      -0.2583      0.067     -3.840      0.000      -0.390      -0.126\n",
       "========================================================================================\n",
       "\"\"\""
      ]
     },
     "execution_count": 59,
     "metadata": {},
     "output_type": "execute_result"
    }
   ],
   "source": [
    "# Ver los coeficientes del modelo ganador\n",
    "modelo3.summary()"
   ]
  },
  {
   "cell_type": "markdown",
   "metadata": {},
   "source": [
    "## Matrices de confusión"
   ]
  },
  {
   "cell_type": "markdown",
   "metadata": {},
   "source": [
    "**Matriz de confusión (punto de corte por defecto 0.5)**"
   ]
  },
  {
   "cell_type": "code",
   "execution_count": 60,
   "metadata": {},
   "outputs": [
    {
     "data": {
      "text/plain": [
       "2944    1.0\n",
       "2258    1.0\n",
       "3221    0.0\n",
       "1070    1.0\n",
       "1806    1.0\n",
       "       ... \n",
       "1624    1.0\n",
       "2815    1.0\n",
       "3512    1.0\n",
       "4615    1.0\n",
       "4809    1.0\n",
       "Length: 1273, dtype: float64"
      ]
     },
     "execution_count": 60,
     "metadata": {},
     "output_type": "execute_result"
    }
   ],
   "source": [
    "y_pred = modelo3.predict(X_test)\n",
    "round(y_pred)"
   ]
  },
  {
   "cell_type": "code",
   "execution_count": 61,
   "metadata": {},
   "outputs": [
    {
     "data": {
      "image/png": "[encoded data removed]",
      "text/plain": [
       "<Figure size 640x480 with 2 Axes>"
      ]
     },
     "metadata": {},
     "output_type": "display_data"
    }
   ],
   "source": [
    "from sklearn.metrics import confusion_matrix\n",
    "from sklearn.metrics import ConfusionMatrixDisplay\n",
    "\n",
    "y_pred = modelo3.predict(X_test)\n",
    "cm = confusion_matrix(y_test, round(y_pred))\n",
    "\n",
    "cm_display = ConfusionMatrixDisplay(cm).plot()\n",
    "cm_display\n",
    "plt.show()"
   ]
  },
  {
   "cell_type": "code",
   "execution_count": 62,
   "metadata": {},
   "outputs": [
    {
     "name": "stdout",
     "output_type": "stream",
     "text": [
      "              precision    recall  f1-score   support\n",
      "\n",
      "         0.0       0.68      0.69      0.69       268\n",
      "         1.0       0.92      0.91      0.92      1005\n",
      "\n",
      "    accuracy                           0.87      1273\n",
      "   macro avg       0.80      0.80      0.80      1273\n",
      "weighted avg       0.87      0.87      0.87      1273\n",
      "\n"
     ]
    }
   ],
   "source": [
    "# Reporte de clasificación \n",
    "print(metrics.classification_report(y_tst,round(y_pred)))"
   ]
  },
  {
   "cell_type": "markdown",
   "metadata": {},
   "source": [
    "**Matriz de confusión (punto de corte óptimo por Youden)**"
   ]
  },
  {
   "cell_type": "code",
   "execution_count": 63,
   "metadata": {},
   "outputs": [
    {
     "data": {
      "text/plain": [
       "<sklearn.metrics._plot.confusion_matrix.ConfusionMatrixDisplay at 0x195d7a6e600>"
      ]
     },
     "execution_count": 63,
     "metadata": {},
     "output_type": "execute_result"
    },
    {
     "data": {
      "image/png": "[encoded data removed]",
      "text/plain": [
       "<Figure size 640x480 with 2 Axes>"
      ]
     },
     "metadata": {},
     "output_type": "display_data"
    }
   ],
   "source": [
    "ConfusionMatrixDisplay(cm).plot()"
   ]
  },
  {
   "cell_type": "code",
   "execution_count": 64,
   "metadata": {},
   "outputs": [
    {
     "data": {
      "image/png": "[encoded data removed]",
      "text/plain": [
       "<Figure size 640x480 with 2 Axes>"
      ]
     },
     "metadata": {},
     "output_type": "display_data"
    }
   ],
   "source": [
    "from sklearn.metrics import confusion_matrix\n",
    "from sklearn.metrics import ConfusionMatrixDisplay\n",
    "\n",
    "y_pred = modelo3.predict(X_test)\n",
    "y_clas =  y_pred.map(lambda x: 1 if x > 0.7 else 0)\n",
    "\n",
    "cm = confusion_matrix(y_test, y_clas)\n",
    "\n",
    "cm_display = ConfusionMatrixDisplay(cm).plot()\n",
    "cm_display\n",
    "plt.show(cm_display)\n"
   ]
  },
  {
   "cell_type": "code",
   "execution_count": 65,
   "metadata": {},
   "outputs": [
    {
     "name": "stdout",
     "output_type": "stream",
     "text": [
      "              precision    recall  f1-score   support\n",
      "\n",
      "         0.0       0.56      0.83      0.67       268\n",
      "         1.0       0.95      0.83      0.88      1005\n",
      "\n",
      "    accuracy                           0.83      1273\n",
      "   macro avg       0.76      0.83      0.78      1273\n",
      "weighted avg       0.87      0.83      0.84      1273\n",
      "\n"
     ]
    }
   ],
   "source": [
    "# Reporte de clasificación \n",
    "print(metrics.classification_report(y_tst,y_clas))"
   ]
  },
  {
   "cell_type": "markdown",
   "metadata": {},
   "source": [
    "# Interpretación de parámetros del modelo logístico"
   ]
  },
  {
   "cell_type": "code",
   "execution_count": 66,
   "metadata": {},
   "outputs": [
    {
     "data": {
      "text/plain": [
       "0       1\n",
       "1       1\n",
       "2       0\n",
       "3       1\n",
       "4       1\n",
       "       ..\n",
       "6360    0\n",
       "6361    1\n",
       "6362    1\n",
       "6363    1\n",
       "6364    1\n",
       "Name: Compra, Length: 6365, dtype: category\n",
       "Categories (2, int64): [0, 1]"
      ]
     },
     "execution_count": 66,
     "metadata": {},
     "output_type": "execute_result"
    }
   ],
   "source": [
    "varObjBin"
   ]
  },
  {
   "cell_type": "code",
   "execution_count": 67,
   "metadata": {},
   "outputs": [
    {
     "name": "stdout",
     "output_type": "stream",
     "text": [
      "Optimization terminated successfully.\n",
      "         Current function value: 0.306391\n",
      "         Iterations 8\n"
     ]
    },
    {
     "data": {
      "text/html": [
       "<table class=\"simpletable\">\n",
       "<caption>Logit Regression Results</caption>\n",
       "<tr>\n",
       "  <th>Dep. Variable:</th>        <td>Compra</td>      <th>  No. Observations:  </th>  <td>  6365</td> \n",
       "</tr>\n",
       "<tr>\n",
       "  <th>Model:</th>                 <td>Logit</td>      <th>  Df Residuals:      </th>  <td>  6356</td> \n",
       "</tr>\n",
       "<tr>\n",
       "  <th>Method:</th>                 <td>MLE</td>       <th>  Df Model:          </th>  <td>     8</td> \n",
       "</tr>\n",
       "<tr>\n",
       "  <th>Date:</th>            <td>Tue, 03 Dec 2024</td> <th>  Pseudo R-squ.:     </th>  <td>0.4110</td> \n",
       "</tr>\n",
       "<tr>\n",
       "  <th>Time:</th>                <td>22:39:36</td>     <th>  Log-Likelihood:    </th> <td> -1950.2</td>\n",
       "</tr>\n",
       "<tr>\n",
       "  <th>converged:</th>             <td>True</td>       <th>  LL-Null:           </th> <td> -3311.1</td>\n",
       "</tr>\n",
       "<tr>\n",
       "  <th>Covariance Type:</th>     <td>nonrobust</td>    <th>  LLR p-value:       </th>  <td> 0.000</td> \n",
       "</tr>\n",
       "</table>\n",
       "<table class=\"simpletable\">\n",
       "<tr>\n",
       "            <td></td>              <th>coef</th>     <th>std err</th>      <th>z</th>      <th>P>|z|</th>  <th>[0.025</th>    <th>0.975]</th>  \n",
       "</tr>\n",
       "<tr>\n",
       "  <th>Intercept</th>            <td>    2.4246</td> <td>    0.286</td> <td>    8.474</td> <td> 0.000</td> <td>    1.864</td> <td>    2.985</td>\n",
       "</tr>\n",
       "<tr>\n",
       "  <th>Clasificacion[T.*]</th>   <td>    1.8162</td> <td>    0.086</td> <td>   21.012</td> <td> 0.000</td> <td>    1.647</td> <td>    1.986</td>\n",
       "</tr>\n",
       "<tr>\n",
       "  <th>Clasificacion[T.**+]</th> <td>    4.8493</td> <td>    0.163</td> <td>   29.743</td> <td> 0.000</td> <td>    4.530</td> <td>    5.169</td>\n",
       "</tr>\n",
       "<tr>\n",
       "  <th>Etiqueta[T.M]</th>        <td>   -0.3704</td> <td>    0.194</td> <td>   -1.908</td> <td> 0.056</td> <td>   -0.751</td> <td>    0.010</td>\n",
       "</tr>\n",
       "<tr>\n",
       "  <th>Etiqueta[T.R]</th>        <td>   -0.9703</td> <td>    0.189</td> <td>   -5.130</td> <td> 0.000</td> <td>   -1.341</td> <td>   -0.600</td>\n",
       "</tr>\n",
       "<tr>\n",
       "  <th>Etiqueta[T.B]</th>        <td>   -1.3849</td> <td>    0.203</td> <td>   -6.830</td> <td> 0.000</td> <td>   -1.782</td> <td>   -0.987</td>\n",
       "</tr>\n",
       "<tr>\n",
       "  <th>Etiqueta[T.MB]</th>       <td>   -1.6942</td> <td>    0.301</td> <td>   -5.622</td> <td> 0.000</td> <td>   -2.285</td> <td>   -1.104</td>\n",
       "</tr>\n",
       "<tr>\n",
       "  <th>CalifProductor</th>       <td>   -0.4307</td> <td>    0.030</td> <td>  -14.185</td> <td> 0.000</td> <td>   -0.490</td> <td>   -0.371</td>\n",
       "</tr>\n",
       "<tr>\n",
       "  <th>pH</th>                   <td>   -0.2332</td> <td>    0.061</td> <td>   -3.824</td> <td> 0.000</td> <td>   -0.353</td> <td>   -0.114</td>\n",
       "</tr>\n",
       "</table>"
      ],
      "text/latex": [
       "\\begin{center}\n",
       "\\begin{tabular}{lclc}\n",
       "\\toprule\n",
       "\\textbf{Dep. Variable:}       &      Compra      & \\textbf{  No. Observations:  } &     6365    \\\\\n",
       "\\textbf{Model:}               &      Logit       & \\textbf{  Df Residuals:      } &     6356    \\\\\n",
       "\\textbf{Method:}              &       MLE        & \\textbf{  Df Model:          } &        8    \\\\\n",
       "\\textbf{Date:}                & Tue, 03 Dec 2024 & \\textbf{  Pseudo R-squ.:     } &   0.4110    \\\\\n",
       "\\textbf{Time:}                &     22:39:36     & \\textbf{  Log-Likelihood:    } &   -1950.2   \\\\\n",
       "\\textbf{converged:}           &       True       & \\textbf{  LL-Null:           } &   -3311.1   \\\\\n",
       "\\textbf{Covariance Type:}     &    nonrobust     & \\textbf{  LLR p-value:       } &    0.000    \\\\\n",
       "\\bottomrule\n",
       "\\end{tabular}\n",
       "\\begin{tabular}{lcccccc}\n",
       "                              & \\textbf{coef} & \\textbf{std err} & \\textbf{z} & \\textbf{P$> |$z$|$} & \\textbf{[0.025} & \\textbf{0.975]}  \\\\\n",
       "\\midrule\n",
       "\\textbf{Intercept}            &       2.4246  &        0.286     &     8.474  &         0.000        &        1.864    &        2.985     \\\\\n",
       "\\textbf{Clasificacion[T.*]}   &       1.8162  &        0.086     &    21.012  &         0.000        &        1.647    &        1.986     \\\\\n",
       "\\textbf{Clasificacion[T.**+]} &       4.8493  &        0.163     &    29.743  &         0.000        &        4.530    &        5.169     \\\\\n",
       "\\textbf{Etiqueta[T.M]}        &      -0.3704  &        0.194     &    -1.908  &         0.056        &       -0.751    &        0.010     \\\\\n",
       "\\textbf{Etiqueta[T.R]}        &      -0.9703  &        0.189     &    -5.130  &         0.000        &       -1.341    &       -0.600     \\\\\n",
       "\\textbf{Etiqueta[T.B]}        &      -1.3849  &        0.203     &    -6.830  &         0.000        &       -1.782    &       -0.987     \\\\\n",
       "\\textbf{Etiqueta[T.MB]}       &      -1.6942  &        0.301     &    -5.622  &         0.000        &       -2.285    &       -1.104     \\\\\n",
       "\\textbf{CalifProductor}       &      -0.4307  &        0.030     &   -14.185  &         0.000        &       -0.490    &       -0.371     \\\\\n",
       "\\textbf{pH}                   &      -0.2332  &        0.061     &    -3.824  &         0.000        &       -0.353    &       -0.114     \\\\\n",
       "\\bottomrule\n",
       "\\end{tabular}\n",
       "%\\caption{Logit Regression Results}\n",
       "\\end{center}"
      ],
      "text/plain": [
       "<class 'statsmodels.iolib.summary.Summary'>\n",
       "\"\"\"\n",
       "                           Logit Regression Results                           \n",
       "==============================================================================\n",
       "Dep. Variable:                 Compra   No. Observations:                 6365\n",
       "Model:                          Logit   Df Residuals:                     6356\n",
       "Method:                           MLE   Df Model:                            8\n",
       "Date:                Tue, 03 Dec 2024   Pseudo R-squ.:                  0.4110\n",
       "Time:                        22:39:36   Log-Likelihood:                -1950.2\n",
       "converged:                       True   LL-Null:                       -3311.1\n",
       "Covariance Type:            nonrobust   LLR p-value:                     0.000\n",
       "========================================================================================\n",
       "                           coef    std err          z      P>|z|      [0.025      0.975]\n",
       "----------------------------------------------------------------------------------------\n",
       "Intercept                2.4246      0.286      8.474      0.000       1.864       2.985\n",
       "Clasificacion[T.*]       1.8162      0.086     21.012      0.000       1.647       1.986\n",
       "Clasificacion[T.**+]     4.8493      0.163     29.743      0.000       4.530       5.169\n",
       "Etiqueta[T.M]           -0.3704      0.194     -1.908      0.056      -0.751       0.010\n",
       "Etiqueta[T.R]           -0.9703      0.189     -5.130      0.000      -1.341      -0.600\n",
       "Etiqueta[T.B]           -1.3849      0.203     -6.830      0.000      -1.782      -0.987\n",
       "Etiqueta[T.MB]          -1.6942      0.301     -5.622      0.000      -2.285      -1.104\n",
       "CalifProductor          -0.4307      0.030    -14.185      0.000      -0.490      -0.371\n",
       "pH                      -0.2332      0.061     -3.824      0.000      -0.353      -0.114\n",
       "========================================================================================\n",
       "\"\"\""
      ]
     },
     "execution_count": 67,
     "metadata": {},
     "output_type": "execute_result"
    }
   ],
   "source": [
    "# Ajustar el modelo a datos completos para obtener estimadores más fiables\n",
    "vinosDep = pd.concat([imputDep,varObjBin.astype('int64')], axis=1)\n",
    "\n",
    "modeloF = logit(form3,data=vinosDep).fit()\n",
    "modeloF.summary()"
   ]
  },
  {
   "cell_type": "code",
   "execution_count": 68,
   "metadata": {},
   "outputs": [
    {
     "data": {
      "text/plain": [
       "Intercept                11.297780\n",
       "Clasificacion[T.*]        6.148739\n",
       "Clasificacion[T.**+]    127.646134\n",
       "Etiqueta[T.M]             0.690485\n",
       "Etiqueta[T.R]             0.378976\n",
       "Etiqueta[T.B]             0.250356\n",
       "Etiqueta[T.MB]            0.183754\n",
       "CalifProductor            0.650025\n",
       "pH                        0.791996\n",
       "dtype: float64"
      ]
     },
     "execution_count": 68,
     "metadata": {},
     "output_type": "execute_result"
    }
   ],
   "source": [
    "# No se pueden interpretar los Betas directamente, por lo que s debe hacer lo siguiente:\n",
    "np.exp(modeloF.params)"
   ]
  },
  {
   "cell_type": "markdown",
   "metadata": {},
   "source": [
    "Conclusiones del modelo:\n",
    "\n",
    "* La probabilidad de compra respecto a no compra de un vino con Clasificación 2 o más estrellas es 127 veces superior a aquellos vinos con clasificación desconocida.\n",
    "\n",
    "* La probabilidad compra respecto a no compra de un vino con **Clasificación * ** es 6,13 veces la correspondiente a aquellos vinos con clasificación desconocida.\n",
    "\n",
    "* Un aumento unitario en la Calificación del productor produce una disminución del ratio de probabilidades de compra/no compra del 35%.\n",
    "\n",
    "* La probabilidad de compra de un vino con Etiqueta MB se reduce en un 82% con respecto a la de un vino con Etiqueta MM.\n",
    "\n",
    "* Cada aumento unitario del pH produce una reducción de la probabilidad de compra del 19%\n",
    "\n",
    "Todos estos efectos se entiende en el contexto ceteris paribus, es decir, todo lo demás constante. Con lo cual, este aumento unitario del pH produce tal disminución en la probabilidad de compra para vinos con misma Etiqueta, Clasificación y Calificación del productor."
   ]
  }
 ],
 "metadata": {
  "kernelspec": {
   "display_name": "base",
   "language": "python",
   "name": "python3"
  },
  "language_info": {
   "codemirror_mode": {
    "name": "ipython",
    "version": 3
   },
   "file_extension": ".py",
   "mimetype": "text/x-python",
   "name": "python",
   "nbconvert_exporter": "python",
   "pygments_lexer": "ipython3",
   "version": "3.12.4"
  }
 },
 "nbformat": 4,
 "nbformat_minor": 4
}
